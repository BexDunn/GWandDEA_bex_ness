{
 "cells": [
  {
   "cell_type": "code",
   "execution_count": 159,
   "metadata": {
    "ExecuteTime": {
     "end_time": "2018-03-16T07:28:41.781143Z",
     "start_time": "2018-03-16T07:28:41.766813Z"
    }
   },
   "outputs": [],
   "source": [
    "from ipyleaflet import (\n",
    "    Map,\n",
    "    Marker,\n",
    "    TileLayer, ImageOverlay,\n",
    "    Polyline, Polygon, Rectangle, Circle, CircleMarker,\n",
    "    GeoJSON,\n",
    "    DrawControl,\n",
    "    basemaps\n",
    ")\n",
    "\n",
    "from traitlets import link"
   ]
  },
  {
   "cell_type": "code",
   "execution_count": 160,
   "metadata": {
    "ExecuteTime": {
     "end_time": "2018-03-16T07:28:41.817275Z",
     "start_time": "2018-03-16T07:28:41.785675Z"
    }
   },
   "outputs": [],
   "source": [
    "center = [-12.543839666237682, 131.08474731445315]\n",
    "zoom = 10\n",
    "\n",
    "\n",
    "m = Map(center=center, zoom=zoom,layout=dict(width='400px', height='400px'))\n"
   ]
  },
  {
   "cell_type": "code",
   "execution_count": 161,
   "metadata": {
    "ExecuteTime": {
     "end_time": "2018-03-16T07:28:41.856464Z",
     "start_time": "2018-03-16T07:28:41.819930Z"
    }
   },
   "outputs": [],
   "source": [
    "#Let's draw a second map and try to import this GeoJSON data into it.\n",
    "\n",
    "m2 = Map(center=center, zoom=zoom, basemap=basemaps.Esri.WorldImagery,layout=dict(width='400px', height='400px'))\n"
   ]
  },
  {
   "cell_type": "code",
   "execution_count": 162,
   "metadata": {
    "ExecuteTime": {
     "end_time": "2018-03-16T07:28:41.902072Z",
     "start_time": "2018-03-16T07:28:41.858552Z"
    }
   },
   "outputs": [],
   "source": [
    "#Now create the DrawControls and add it to the Maps using add_control. We also register a handler for draw events. This will fire when a drawn path is created, edited or deleted (there are the actions). The geo_json argument is the serialized geometry of the drawn path, along with its embedded style.\n",
    "\n",
    "draw_control = DrawControl(polyline={})\n",
    "draw_control2 = DrawControl(polygon={'shapeOptions': {'color': '#0000FF'}}, polyline={})\n",
    "def handle_draw(self, action, geo_json):\n",
    "    m2.add_layer(GeoJSON(data=draw_control.last_draw))\n",
    "    draw_control2.last_draw =draw_control.last_draw\n",
    "    \n",
    "def handle_draw2(self, action, geo_json):\n",
    "    m.add_layer(GeoJSON(data=draw_control2.last_draw))\n",
    "    draw_control.last_draw =draw_control2.last_draw\n",
    "   \n",
    "    \n",
    "#add handlers to draw controls  \n",
    "draw_control.on_draw(handle_draw)\n",
    "draw_control.on_draw(handle_draw)\n",
    "draw_control2.on_draw(handle_draw2)\n",
    "\n",
    "#add draw controls to maps\n",
    "m.add_control(draw_control)\n",
    "m2.add_control(draw_control2)"
   ]
  },
  {
   "cell_type": "code",
   "execution_count": 163,
   "metadata": {
    "ExecuteTime": {
     "end_time": "2018-03-16T07:28:41.918839Z",
     "start_time": "2018-03-16T07:28:41.903974Z"
    }
   },
   "outputs": [],
   "source": [
    "#We can use link to synchronize traitlets of the two maps:\n",
    "\n",
    "map_center_link = link((m, 'center'), (m2, 'center'))\n",
    "map_zoom_link = link((m, 'zoom'), (m2, 'zoom'))\n",
    "\n",
    "new_poly = GeoJSON(data=draw_control.last_draw)\n",
    "\n",
    "m2.add_layer(new_poly)"
   ]
  },
  {
   "cell_type": "code",
   "execution_count": 164,
   "metadata": {
    "ExecuteTime": {
     "end_time": "2018-03-16T07:28:41.926566Z",
     "start_time": "2018-03-16T07:28:41.920448Z"
    }
   },
   "outputs": [
    {
     "data": {
      "application/vnd.jupyter.widget-view+json": {
       "model_id": "d66dbcc365b94b59bee4b0d574e14f90",
       "version_major": 2,
       "version_minor": 0
      },
      "text/html": [
       "<p>Failed to display Jupyter Widget of type <code>Map</code>.</p>\n",
       "<p>\n",
       "  If you're reading this message in the Jupyter Notebook or JupyterLab Notebook, it may mean\n",
       "  that the widgets JavaScript is still loading. If this message persists, it\n",
       "  likely means that the widgets JavaScript library is either not installed or\n",
       "  not enabled. See the <a href=\"https://ipywidgets.readthedocs.io/en/stable/user_install.html\">Jupyter\n",
       "  Widgets Documentation</a> for setup instructions.\n",
       "</p>\n",
       "<p>\n",
       "  If you're reading this message in another frontend (for example, a static\n",
       "  rendering on GitHub or <a href=\"https://nbviewer.jupyter.org/\">NBViewer</a>),\n",
       "  it may mean that your frontend doesn't currently support widgets.\n",
       "</p>\n"
      ],
      "text/plain": [
       "Map(basemap={'url': 'https://{s}.tile.openstreetmap.org/{z}/{x}/{y}.png', 'max_zoom': 19, 'attribution': 'Map data (c) <a href=\"https://openstreetmap.org\">OpenStreetMap</a> contributors'}, center=[-12.543839666237682, 131.08474731445315], controls=(DrawControl(layer=FeatureGroup(), polygon={'shapeOptions': {}}),), default_tiles=TileLayer(max_zoom=19, min_zoom=1, options=['attribution', 'detect_retina', 'max_zoom', 'min_zoom', 'opacity', 'tile_size']), layers=(TileLayer(max_zoom=19, min_zoom=1, options=['attribution', 'detect_retina', 'max_zoom', 'min_zoom', 'opacity', 'tile_size']),), layout=Layout(height='400px', width='400px'), options=['attribution_control', 'basemap', 'bounce_at_zoom_limits', 'box_zoom', 'center', 'close_popup_on_click', 'double_click_zoom', 'dragging', 'inertia', 'inertia_deceleration', 'inertia_max_speed', 'keyboard', 'keyboard_pan_offset', 'keyboard_zoom_offset', 'max_zoom', 'min_zoom', 'scroll_wheel_zoom', 'tap', 'tap_tolerance', 'touch_zoom', 'world_copy_jump', 'zoom', 'zoom_animation_threshold', 'zoom_control', 'zoom_start'], zoom=10)"
      ]
     },
     "metadata": {},
     "output_type": "display_data"
    }
   ],
   "source": [
    "m"
   ]
  },
  {
   "cell_type": "code",
   "execution_count": 165,
   "metadata": {
    "ExecuteTime": {
     "end_time": "2018-03-16T07:28:41.934463Z",
     "start_time": "2018-03-16T07:28:41.928179Z"
    }
   },
   "outputs": [
    {
     "data": {
      "application/vnd.jupyter.widget-view+json": {
       "model_id": "f4baa375c30149cb85295d0536d4cb58",
       "version_major": 2,
       "version_minor": 0
      },
      "text/html": [
       "<p>Failed to display Jupyter Widget of type <code>Map</code>.</p>\n",
       "<p>\n",
       "  If you're reading this message in the Jupyter Notebook or JupyterLab Notebook, it may mean\n",
       "  that the widgets JavaScript is still loading. If this message persists, it\n",
       "  likely means that the widgets JavaScript library is either not installed or\n",
       "  not enabled. See the <a href=\"https://ipywidgets.readthedocs.io/en/stable/user_install.html\">Jupyter\n",
       "  Widgets Documentation</a> for setup instructions.\n",
       "</p>\n",
       "<p>\n",
       "  If you're reading this message in another frontend (for example, a static\n",
       "  rendering on GitHub or <a href=\"https://nbviewer.jupyter.org/\">NBViewer</a>),\n",
       "  it may mean that your frontend doesn't currently support widgets.\n",
       "</p>\n"
      ],
      "text/plain": [
       "Map(basemap={'url': 'http://server.arcgisonline.com/ArcGIS/rest/services/World_Imagery/MapServer/tile/{z}/{y}/{x}', 'max_zoom': 20, 'attribution': 'Tiles &copy; Esri &mdash; Source: Esri, i-cubed, USDA, USGS, AEX, GeoEye, Getmapping, Aerogrid, IGN, IGP, UPR-EGP, and the GIS User Community', 'name': 'Esri.WorldImagery'}, center=[-12.543839666237682, 131.08474731445315], controls=(DrawControl(layer=FeatureGroup(), polygon={'shapeOptions': {'color': '#0000FF'}}),), default_tiles=TileLayer(attribution='Tiles &copy; Esri &mdash; Source: Esri, i-cubed, USDA, USGS, AEX, GeoEye, Getmapping, Aerogrid, IGN, IGP, UPR-EGP, and the GIS User Community', max_zoom=20, min_zoom=1, name='Esri.WorldImagery', options=['attribution', 'detect_retina', 'max_zoom', 'min_zoom', 'opacity', 'tile_size'], url='http://server.arcgisonline.com/ArcGIS/rest/services/World_Imagery/MapServer/tile/{z}/{y}/{x}'), layers=(TileLayer(attribution='Tiles &copy; Esri &mdash; Source: Esri, i-cubed, USDA, USGS, AEX, GeoEye, Getmapping, Aerogrid, IGN, IGP, UPR-EGP, and the GIS User Community', max_zoom=20, min_zoom=1, name='Esri.WorldImagery', options=['attribution', 'detect_retina', 'max_zoom', 'min_zoom', 'opacity', 'tile_size'], url='http://server.arcgisonline.com/ArcGIS/rest/services/World_Imagery/MapServer/tile/{z}/{y}/{x}'), GeoJSON(data={'type': 'Feature', 'geometry': None})), layout=Layout(height='400px', width='400px'), options=['attribution_control', 'basemap', 'bounce_at_zoom_limits', 'box_zoom', 'center', 'close_popup_on_click', 'double_click_zoom', 'dragging', 'inertia', 'inertia_deceleration', 'inertia_max_speed', 'keyboard', 'keyboard_pan_offset', 'keyboard_zoom_offset', 'max_zoom', 'min_zoom', 'scroll_wheel_zoom', 'tap', 'tap_tolerance', 'touch_zoom', 'world_copy_jump', 'zoom', 'zoom_animation_threshold', 'zoom_control', 'zoom_start'], zoom=10)"
      ]
     },
     "metadata": {},
     "output_type": "display_data"
    }
   ],
   "source": [
    "m2"
   ]
  },
  {
   "cell_type": "code",
   "execution_count": 167,
   "metadata": {
    "ExecuteTime": {
     "end_time": "2018-03-16T07:29:44.769404Z",
     "start_time": "2018-03-16T07:29:23.938365Z"
    }
   },
   "outputs": [
    {
     "name": "stdout",
     "output_type": "stream",
     "text": [
      "Geometry({'type': 'Polygon', 'coordinates': [[(130.99383, -12.339457), (131.009451, -12.340463), (131.006189, -12.363269), (130.9928, -12.364107), (130.99383, -12.339457)]]}, CRS('EPSG:4326'))\n"
     ]
    },
    {
     "data": {
      "text/plain": [
       "<xarray.Dataset>\n",
       "Dimensions:  (time: 19, x: 74, y: 108)\n",
       "Coordinates:\n",
       "  * time     (time) datetime64[ns] 2011-02-01T01:16:10.500000 ...\n",
       "  * y        (y) float64 -1.302e+06 -1.302e+06 -1.302e+06 -1.302e+06 ...\n",
       "  * x        (x) float64 -1.115e+05 -1.115e+05 -1.115e+05 -1.115e+05 ...\n",
       "Data variables:\n",
       "    blue     (time, y, x) int16 841 841 824 824 807 790 790 807 824 876 876 ...\n",
       "    green    (time, y, x) int16 1145 1200 1089 1071 1071 1071 1052 1071 1126 ...\n",
       "    red      (time, y, x) int16 1197 1181 1165 1148 1165 1148 1148 1181 1214 ...\n",
       "    nir      (time, y, x) int16 1434 1474 1434 1393 1393 1353 1353 1353 1434 ...\n",
       "    swir1    (time, y, x) int16 312 289 266 289 562 608 539 517 585 722 517 ...\n",
       "    swir2    (time, y, x) int16 170 145 120 170 269 294 294 244 269 343 269 ...\n",
       "Attributes:\n",
       "    crs:      EPSG:3577"
      ]
     },
     "execution_count": 167,
     "metadata": {},
     "output_type": "execute_result"
    }
   ],
   "source": [
    "#now test if we can query using the poly to load data \n",
    "#TODO fix this so it uses the correct projection\n",
    "\n",
    "import datacube\n",
    "from shapely.geometry import Polygon\n",
    "from datacube.utils import geometry\n",
    "dc=datacube.Datacube()\n",
    "#TODO need to project poly to get area\n",
    "#Leaflet uses Web Mercator EPSG:3857\n",
    "\n",
    "# geom_crs = geometry.CRS('EPSG:3857')\n",
    "geom_crs = geometry.CRS('EPSG:4326') \n",
    "geom=geometry.Geometry(draw_control.last_draw['geometry'], geom_crs)\n",
    "#poly = Polygon(draw_control.last_draw['geometry']['coordinates'][0])\n",
    "print(geom)\n",
    "\n",
    "start_of_epoch = '2011-01-01'\n",
    "end_of_epoch =  '2011-12-31'\n",
    "\n",
    "# query = {\n",
    "#         'time': (start_of_epoch, end_of_epoch), 'geopolygon': geom\n",
    "#     }\n",
    "#Define wavelengths/bands of interest, remove this kwarg to retrieve all bands\n",
    "bands_of_interest = ['blue',\n",
    "                         'green',\n",
    "                         'red',\n",
    "                         'nir',\n",
    "                         'swir1',\n",
    "                         'swir2'\n",
    "                         ]\n",
    "\n",
    "query = {\n",
    "        'time': (start_of_epoch, end_of_epoch), 'geopolygon': geom\n",
    "    }\n",
    "\n",
    "data= dc.load(product= 'ls7_nbart_albers', measurements=bands_of_interest,\n",
    "                 group_by='solar_day', **query)\n",
    "data"
   ]
  },
  {
   "cell_type": "code",
   "execution_count": null,
   "metadata": {},
   "outputs": [],
   "source": []
  },
  {
   "cell_type": "code",
   "execution_count": null,
   "metadata": {},
   "outputs": [],
   "source": []
  }
 ],
 "metadata": {
  "kernelspec": {
   "display_name": "Python 3",
   "language": "python",
   "name": "python3"
  },
  "language_info": {
   "codemirror_mode": {
    "name": "ipython",
    "version": 3
   },
   "file_extension": ".py",
   "mimetype": "text/x-python",
   "name": "python",
   "nbconvert_exporter": "python",
   "pygments_lexer": "ipython3",
   "version": "3.6.3"
  },
  "toc": {
   "nav_menu": {},
   "number_sections": true,
   "sideBar": true,
   "skip_h1_title": false,
   "toc_cell": false,
   "toc_position": {},
   "toc_section_display": "block",
   "toc_window_display": false
  }
 },
 "nbformat": 4,
 "nbformat_minor": 2
}
