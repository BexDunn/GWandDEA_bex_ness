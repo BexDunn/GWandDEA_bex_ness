{
 "cells": [
  {
   "cell_type": "code",
   "execution_count": 1,
   "metadata": {},
   "outputs": [],
   "source": [
    "### This notebook brings in surface reflectance and pq for a polygon area\n",
    "### Then calculates NDVI, then slope of NDVI for dry months (averaged yearly)"
   ]
  },
  {
   "cell_type": "markdown",
   "metadata": {},
   "source": [
    "## Load modules"
   ]
  },
  {
   "cell_type": "code",
   "execution_count": 2,
   "metadata": {},
   "outputs": [],
   "source": [
    "from scipy import stats\n",
    "\n",
    "#----from NB1----#\n",
    "#get some libraries\n",
    "import datacube\n",
    "import xarray as xr\n",
    "from datacube.storage import masking\n",
    "#from datacube.storage.masking import mask_to_dict #think this is obsolete\n",
    "import json\n",
    "import pandas as pd\n",
    "import shapely\n",
    "from shapely.geometry import shape\n",
    "import numpy as np #need this for pq fuser\n",
    "\n",
    "#libraries for polygon and polygon mask\n",
    "import fiona\n",
    "import shapely.geometry\n",
    "import rasterio.features\n",
    "import rasterio\n",
    "from datacube.utils import geometry\n",
    "from datacube.helpers import ga_pq_fuser\n",
    "from datacube.storage.masking import mask_invalid_data\n",
    "\n",
    "#for writing to netcdf\n",
    "from datacube.storage.storage import write_dataset_to_netcdf\n",
    "#dealing with system commands\n",
    "import sys\n",
    "import os.path\n",
    "\n",
    "#####These not needed for raijin::::\n",
    "import matplotlib.pyplot as plt\n",
    "import matplotlib as mpl\n",
    "\n",
    "#suppress warnings thrown when using inequalities in numpy (the threshold values!)\n",
    "import warnings"
   ]
  },
  {
   "cell_type": "markdown",
   "metadata": {},
   "source": [
    "## Function definitions : load and mask surface reflectance"
   ]
  },
  {
   "cell_type": "code",
   "execution_count": 3,
   "metadata": {},
   "outputs": [],
   "source": [
    "def load_nbart(sensor,query,bands_of_interest): \n",
    "    '''loads nbart data for a sensor, masks using pq, then filters out terrain -999s\n",
    "    function written 23-08-2017 based on dc v1.5.1'''  \n",
    "    dataset = []\n",
    "    product_name = '{}_{}_albers'.format(sensor, 'nbart')\n",
    "    print('loading {}'.format(product_name))\n",
    "    ds = dc.load(product=product_name, measurements=bands_of_interest,\n",
    "                 group_by='solar_day', **query)\n",
    "    #grab crs defs from loaded ds if ds exists\n",
    "    if ds:\n",
    "        crs = ds.crs\n",
    "        affine = ds.affine\n",
    "        print('loaded {}'.format(product_name))\n",
    "        mask_product = '{}_{}_albers'.format(sensor, 'pq')\n",
    "        sensor_pq = dc.load(product=mask_product, fuse_func=ga_pq_fuser,\n",
    "                            group_by='solar_day', **query)\n",
    "        if sensor_pq:\n",
    "            print('making mask {}'.format(mask_product))\n",
    "            cloud_free = masking.make_mask(sensor_pq.pixelquality,\n",
    "                                           cloud_acca='no_cloud',\n",
    "                                           cloud_shadow_acca = 'no_cloud_shadow',                           \n",
    "                                           cloud_shadow_fmask = 'no_cloud_shadow',\n",
    "                                           cloud_fmask='no_cloud',\n",
    "                                           blue_saturated = False,\n",
    "                                           green_saturated = False,\n",
    "                                           red_saturated = False,\n",
    "                                           nir_saturated = False,\n",
    "                                           swir1_saturated = False,\n",
    "                                           swir2_saturated = False,\n",
    "                                           contiguous=True)\n",
    "            ds = ds.where(cloud_free)\n",
    "            ds.attrs['crs'] = crs\n",
    "            ds.attrs['affine'] = affine\n",
    "            print('masked {} with {} and filtered terrain'.format(product_name,mask_product))\n",
    "            # nbarT is correctly used to correct terrain by replacing -999.0 with nan\n",
    "            ds=ds.where(ds!=-999.0)\n",
    "        else: \n",
    "            print('did not mask {} with {}'.format(product_name,mask_product))\n",
    "    else:\n",
    "        print ('did not load {}'.format(product_name)) \n",
    "\n",
    "    if len(ds)>0:\n",
    "        return ds\n",
    "    else:\n",
    "        return None"
   ]
  },
  {
   "cell_type": "markdown",
   "metadata": {},
   "source": [
    "### Bring in a shape file"
   ]
  },
  {
   "cell_type": "code",
   "execution_count": 4,
   "metadata": {},
   "outputs": [
    {
     "name": "stdout",
     "output_type": "stream",
     "text": [
      "kakadu_smaller_0\n"
     ]
    }
   ],
   "source": [
    "shape_file = ('/g/data/r78/rjd547/groundwater_activities/Whole_NA/WholeNA_shapes/small_shapes/kakadu_smaller.shp')\n",
    "# open all the shapes within the shape file\n",
    "shapes = fiona.open(shape_file)\n",
    "#choose the index of the polygon you want within the shape file\n",
    "i =0\n",
    "#copy attributes from shapefile and define shape_name\n",
    "geom_crs = geometry.CRS(shapes.crs_wkt)\n",
    "geo = shapes[i]['geometry']\n",
    "geom = geometry.Geometry(geo, crs=geom_crs)\n",
    "geom_bs = shapely.geometry.shape(shapes[i]['geometry'])\n",
    "shape_name = shape_file.split('/')[-1].split('.')[0]+'_'+str(i)\n",
    "print(shape_name)"
   ]
  },
  {
   "cell_type": "markdown",
   "metadata": {},
   "source": [
    "### set up datacube query"
   ]
  },
  {
   "cell_type": "code",
   "execution_count": 5,
   "metadata": {},
   "outputs": [],
   "source": [
    "#alias the datacube to something more wieldy and pass a string for reporting purposes\n",
    "dc = datacube.Datacube(app='dc-nbart')"
   ]
  },
  {
   "cell_type": "code",
   "execution_count": 6,
   "metadata": {},
   "outputs": [],
   "source": [
    "#pick a time range\n",
    "start_of_epoch = '2014-01-01'\n",
    "end_of_epoch =  '2017-12-31'"
   ]
  },
  {
   "cell_type": "code",
   "execution_count": 7,
   "metadata": {},
   "outputs": [],
   "source": [
    "#Define wavelengths/bands of interest, remove this kwarg to retrieve all bands\n",
    "bands_of_interest = ['blue',\n",
    "                     'green',\n",
    "                     'red',\n",
    "                     'nir',\n",
    "                     'swir1',\n",
    "                     'swir2'\n",
    "                     ]"
   ]
  },
  {
   "cell_type": "code",
   "execution_count": 8,
   "metadata": {},
   "outputs": [],
   "source": [
    "query = {\n",
    "    'time': (start_of_epoch, end_of_epoch), 'geopolygon': geom,\n",
    "}"
   ]
  },
  {
   "cell_type": "markdown",
   "metadata": {},
   "source": [
    "### load in surface reflectance data for polygon "
   ]
  },
  {
   "cell_type": "code",
   "execution_count": 9,
   "metadata": {},
   "outputs": [
    {
     "name": "stdout",
     "output_type": "stream",
     "text": [
      "loading ls5_nbart_albers\n",
      "did not load ls5_nbart_albers\n",
      "loading ls7_nbart_albers\n",
      "loaded ls7_nbart_albers\n",
      "making mask ls7_pq_albers\n",
      "masked ls7_nbart_albers with ls7_pq_albers and filtered terrain\n",
      "loading ls8_nbart_albers\n",
      "loaded ls8_nbart_albers\n",
      "making mask ls8_pq_albers\n",
      "masked ls8_nbart_albers with ls8_pq_albers and filtered terrain\n"
     ]
    }
   ],
   "source": [
    "#this is done separately instead of in a loop because the datasets can be quite large.\n",
    "#currently this is a way of memory handling -there is probably a better way of doing it.\n",
    "sensor1_nbart=load_nbart('ls5',query,bands_of_interest)\n",
    "sensor2_nbart=load_nbart('ls7',query,bands_of_interest)\n",
    "sensor3_nbart=load_nbart('ls8',query,bands_of_interest)"
   ]
  },
  {
   "cell_type": "markdown",
   "metadata": {},
   "source": [
    "### concatenate sensor data"
   ]
  },
  {
   "cell_type": "code",
   "execution_count": 10,
   "metadata": {},
   "outputs": [],
   "source": [
    "#make an array of all the clean sensor data\n",
    "sensor_list = []\n",
    "for sensor in [sensor1_nbart, sensor2_nbart, sensor3_nbart]:\n",
    "    if sensor is not None:\n",
    "        sensor_list.append(sensor)\n",
    "nbart_allsensors = xr.concat(sensor_list,dim='time')"
   ]
  },
  {
   "cell_type": "code",
   "execution_count": 11,
   "metadata": {},
   "outputs": [],
   "source": [
    "del sensor_list\n",
    "del sensor1_nbart\n",
    "del sensor2_nbart\n",
    "del sensor3_nbart"
   ]
  },
  {
   "cell_type": "markdown",
   "metadata": {},
   "source": [
    "### sort by time so that sensors are interleaved properly"
   ]
  },
  {
   "cell_type": "code",
   "execution_count": 12,
   "metadata": {},
   "outputs": [],
   "source": [
    "#checking that we are okay in terms of time sorting\n",
    "nbart_allsensors =nbart_allsensors.sortby('time')"
   ]
  },
  {
   "cell_type": "markdown",
   "metadata": {},
   "source": [
    "### remove scenes with more than 80% nan values"
   ]
  },
  {
   "cell_type": "code",
   "execution_count": 13,
   "metadata": {},
   "outputs": [],
   "source": [
    "#pernan is a filtration level - scenes with more nans than this per scene are removed\n",
    "pernan = 0.8\n",
    "nbart_allsensors = nbart_allsensors.dropna('time',  thresh = int(pernan*len(nbart_allsensors.x)*len(nbart_allsensors.y)))"
   ]
  },
  {
   "cell_type": "markdown",
   "metadata": {},
   "source": [
    "### calculate ndvi"
   ]
  },
  {
   "cell_type": "code",
   "execution_count": 14,
   "metadata": {},
   "outputs": [],
   "source": [
    "nbart_allsensors['NDVI'] = nbart_allsensors['nir']-nbart_allsensors['red']/nbart_allsensors['nir']-nbart_allsensors['red']"
   ]
  },
  {
   "cell_type": "code",
   "execution_count": 15,
   "metadata": {},
   "outputs": [
    {
     "data": {
      "image/png": "[encoded data removed]",
      "text/plain": [
       "<matplotlib.figure.Figure at 0x7fe597d84128>"
      ]
     },
     "metadata": {},
     "output_type": "display_data"
    }
   ],
   "source": [
    "plt.clf()\n",
    "NDVI_means = nbart_allsensors.NDVI.mean(dim =('x','y'))\n",
    "NDVI_means.plot()\n",
    "plt.show()"
   ]
  },
  {
   "cell_type": "code",
   "execution_count": 16,
   "metadata": {},
   "outputs": [],
   "source": [
    "all_ndvi_sorted =nbart_allsensors['NDVI']\n",
    "del nbart_allsensors"
   ]
  },
  {
   "cell_type": "markdown",
   "metadata": {},
   "source": [
    "###\n",
    "\\define dry seasons"
   ]
  },
  {
   "cell_type": "code",
   "execution_count": 19,
   "metadata": {},
   "outputs": [],
   "source": [
    "def dry_season(month):\n",
    "    '''filters on months to return a boolean mask of a dry season between may and november\n",
    "    where month could be e.g. sensor3_nbart.time.dt.month'''\n",
    "    return(month>=5)&(month<=10)\n",
    "\n",
    "def dry_vals(sensor_data):\n",
    "    if sensor_data is not None:\n",
    "        '''calculates dry season values'''\n",
    "        dry_data = sensor_data.sel(time = dry_season(sensor_data.time.dt.month))\n",
    "        return dry_data\n",
    "    else:\n",
    "            return None "
   ]
  },
  {
   "cell_type": "markdown",
   "metadata": {},
   "source": [
    "### Linear regression code from Symington/Krause"
   ]
  },
  {
   "cell_type": "markdown",
   "metadata": {},
   "source": [
    "##### month_cut from Neil - replace?"
   ]
  },
  {
   "cell_type": "code",
   "execution_count": 22,
   "metadata": {},
   "outputs": [],
   "source": [
    "# # DEfine functions\n",
    "# def month_cut(data, month_1, month_2):\n",
    "\n",
    "#     if data.dims[0] == 'time':\n",
    "#         sliced_xr = list(data.groupby('time.month'))[monthDict[month_1]:monthDict[month_2] + 1]\n",
    "#     elif data.dims[0] == 'month':\n",
    "#         sliced_xr = list(data.groupby('month'))[monthDict[month_1]:monthDict[month_2] + 1]\n",
    "    \n",
    "#     #Concatenate all the arrays into one xarray\n",
    "#     split_xr = sliced_xr[0][1]\n",
    "\n",
    "    \n",
    "#     for i in range(int(monthDict[month_2]) - int(monthDict[month_1])):\n",
    "#         split_xr = xr.concat([split_xr, sliced_xr[i+1][1]], dim = data.dims[0])\n",
    "                     \n",
    "#     return split_xr"
   ]
  },
  {
   "cell_type": "code",
   "execution_count": 21,
   "metadata": {},
   "outputs": [],
   "source": [
    "#Define important functions and dictionaries\n",
    "# See https://docs.scipy.org/doc/scipy-0.14.0/reference/generated/scipy.stats.linregress.html\n",
    "\n",
    "#This function applies a linear regression to a grid over a set time interval\n",
    "def linear_regression_grid(input_array, mask_no_trend = True, NDVI = False):\n",
    "    '''\n",
    "    This function applies a linear regression to a grid over a set time interval by looping through lat and lon \n",
    "    and calculating the linear regression through time for each pixel.\n",
    "    '''\n",
    "\n",
    "    ylen = len(input_array.y)\n",
    "    xlen = len(input_array.x)\n",
    "    from itertools import product\n",
    "    coordinates = product(range(ylen), range(xlen))\n",
    "\n",
    "    slopes = np.zeros((ylen, xlen))\n",
    "    p_values = np.zeros((ylen, xlen))\n",
    "    print('Slope shape is ', slopes.shape)\n",
    "\n",
    "    for y, x in coordinates:\n",
    "        val = input_array.isel(x = x, y = y)\n",
    "        # If analysing NDVI data replace negative numbers which are spurious for NDVI with nans\n",
    "        if NDVI == True:\n",
    "            val[val<0] = np.nan\n",
    "\n",
    "            # Check that we have at least three values to perform our linear regression on\n",
    "            if np.count_nonzero(~np.isnan(val)) > 3:\n",
    "                if str(val.dims[0]) == 'month':\n",
    "                    slopes[y, x], intercept, r_sq, p_values[y, x], std_err = stats.linregress(val.month,val)\n",
    "                elif str(val.dims[0]) == 'year':\n",
    "                    slopes[y, x], intercept, r_sq, p_values[y, x], std_err = stats.linregress(val.year,val)\n",
    "            else:\n",
    "                slopes[y, x] = np.nan\n",
    "                intercept = np.nan\n",
    "                r_sq = np.nan\n",
    "                p_values[y, x] = np.nan\n",
    "        else:\n",
    "            if str(val.dims[0]) == 'month':\n",
    "                slopes[y, x], intercept, r_sq, p_values[y, x], std_err = stats.linregress(val.month,val)\n",
    "            elif str(val.dims[0]) == 'year':\n",
    "                slopes[y, x], intercept, r_sq, p_values[y, x], std_err = stats.linregress(val.year,val)\n",
    "\n",
    "    #Get coordinates from the original xarray\n",
    "    lat  = input_array.coords['y']\n",
    "    long = input_array.coords['x']\n",
    "    #Mask out values with insignificant trends (ie. p-value > 0.05) if user wants\n",
    "    if mask_no_trend == True:\n",
    "        slopes[p_values>0.05]=np.nan        \n",
    "    # Write arrays into a x-array\n",
    "    slope_xr = xr.DataArray(slopes, coords = [lat, long], dims = ['y', 'x'])\n",
    "    p_val_xr = xr.DataArray(p_values, coords = [lat, long], dims = ['y', 'x']) \n",
    "    return slope_xr, p_val_xr"
   ]
  },
  {
   "cell_type": "code",
   "execution_count": 36,
   "metadata": {},
   "outputs": [
    {
     "data": {
      "image/png": "[encoded data removed]",
      "text/plain": [
       "<matplotlib.figure.Figure at 0x7fe58f475cf8>"
      ]
     },
     "metadata": {},
     "output_type": "display_data"
    }
   ],
   "source": [
    "#plot the distribution of available surface reflectance scenes by month\n",
    "plt.clf()\n",
    "plt.hist(all_ndvi_sorted.time.dt.month.data)\n",
    "plt.show()"
   ]
  },
  {
   "cell_type": "code",
   "execution_count": null,
   "metadata": {},
   "outputs": [],
   "source": [
    "def dry_vals(sensor_data):\n",
    "    if sensor_data is not None:\n",
    "        '''calculates dry season values'''\n",
    "        dry_data = sensor_data.sel(time = dry_season(sensor_data.time.dt.month))\n",
    "        return dry_data\n",
    "    else:\n",
    "            return None "
   ]
  },
  {
   "cell_type": "code",
   "execution_count": 42,
   "metadata": {},
   "outputs": [],
   "source": [
    "dry_data = all_ndvi_sorted.sel(time = dry_season(all_ndvi_sorted.time.dt.month))"
   ]
  },
  {
   "cell_type": "code",
   "execution_count": 44,
   "metadata": {},
   "outputs": [
    {
     "data": {
      "text/plain": [
       "<xarray.DataArray 'month' (time: 148)>\n",
       "array([ 5,  5,  5,  5,  5,  5,  5,  6,  6,  6,  6,  6,  6,  7,  7,  7,  7,  7,\n",
       "        7,  7,  7,  8,  8,  8,  8,  8,  8,  8,  8,  9,  9,  9,  9,  9,  9,  9,\n",
       "       10, 10, 10, 10, 10, 10,  5,  5,  5,  5,  5,  5,  5,  6,  6,  6,  6,  6,\n",
       "        6,  6,  7,  7,  7,  7,  7,  7,  7,  8,  8,  8,  8,  8,  8,  8,  9,  9,\n",
       "        9,  9,  9,  9, 10, 10, 10, 10, 10, 10, 10, 10,  5,  5,  5,  5,  6,  6,\n",
       "        6,  6,  6,  7,  7,  7,  7,  7,  7,  8,  8,  8,  8,  8,  8,  9,  9,  9,\n",
       "        9, 10, 10, 10, 10, 10,  5,  5,  5,  5,  5,  5,  5,  6,  6,  6,  6,  6,\n",
       "        6,  7,  7,  7,  7,  7,  7,  7,  7,  8,  8,  8,  8,  8,  8,  9,  9,  9,\n",
       "        9,  9,  9,  9])\n",
       "Coordinates:\n",
       "  * time     (time) datetime64[ns] 2014-05-01T01:16:21 ..."
      ]
     },
     "execution_count": 44,
     "metadata": {},
     "output_type": "execute_result"
    }
   ],
   "source": [
    "dry_data.time.dt.month"
   ]
  },
  {
   "cell_type": "code",
   "execution_count": 45,
   "metadata": {},
   "outputs": [],
   "source": [
    "dry_ndvi = dry_vals(all_ndvi_sorted)"
   ]
  },
  {
   "cell_type": "code",
   "execution_count": 46,
   "metadata": {},
   "outputs": [
    {
     "data": {
      "text/plain": [
       "<xarray.DataArray 'NDVI' (time: 148, y: 363, x: 573)>\n",
       "array([[[ 1888.798394,  1840.798006, ...,          nan,          nan],\n",
       "        [ 1963.805578,  1978.812731, ...,          nan,          nan],\n",
       "        ..., \n",
       "        [ 1556.755092,  1404.734065, ...,          nan,          nan],\n",
       "        [ 1681.766636,  1694.744728, ...,          nan,          nan]],\n",
       "\n",
       "       [[ 1893.794463,  1769.771915, ...,  2513.894662,  2453.888487],\n",
       "        [ 1889.784232,  1875.795252, ...,  2535.886403,  2501.87117 ],\n",
       "        ..., \n",
       "        [         nan,          nan, ...,  1525.719811,  1484.735877],\n",
       "        [         nan,          nan, ...,  1526.719943,  1435.696749]],\n",
       "\n",
       "       ..., \n",
       "       [[ 1462.441594,  1427.454343, ...,  2359.834807,  2480.852284],\n",
       "        [ 1402.450691,  1398.484922, ...,  2373.815527,  2334.82045 ],\n",
       "        ..., \n",
       "        [  762.458534,   701.429621, ...,  1598.636038,  1682.670518],\n",
       "        [  983.489309,   964.468219, ...,  1583.62142 ,  1550.60943 ]],\n",
       "\n",
       "       [[         nan,          nan, ...,          nan,          nan],\n",
       "        [         nan,          nan, ...,          nan,          nan],\n",
       "        ..., \n",
       "        [  779.433574,   905.4781  , ...,          nan,          nan],\n",
       "        [  987.459108,   928.433909, ...,          nan,          nan]]])\n",
       "Coordinates:\n",
       "  * y        (y) float64 -1.324e+06 -1.324e+06 -1.324e+06 -1.324e+06 ...\n",
       "  * x        (x) float64 9.359e+04 9.361e+04 9.364e+04 9.366e+04 9.369e+04 ...\n",
       "  * time     (time) datetime64[ns] 2014-05-01T01:16:21 ..."
      ]
     },
     "execution_count": 46,
     "metadata": {},
     "output_type": "execute_result"
    }
   ],
   "source": [
    "dry_ndvi"
   ]
  },
  {
   "cell_type": "code",
   "execution_count": 55,
   "metadata": {},
   "outputs": [
    {
     "data": {
      "image/png": "[encoded data removed]",
      "text/plain": [
       "<matplotlib.figure.Figure at 0x7fe5e849dba8>"
      ]
     },
     "metadata": {},
     "output_type": "display_data"
    }
   ],
   "source": [
    "plt.clf()\n",
    "dry_ndvi.mean(dim =('x','y')).plot()\n",
    "plt.show()"
   ]
  },
  {
   "cell_type": "code",
   "execution_count": 57,
   "metadata": {},
   "outputs": [],
   "source": [
    "averaged_data = dry_ndvi.groupby('time.month').mean(dim='time')"
   ]
  },
  {
   "cell_type": "code",
   "execution_count": 58,
   "metadata": {},
   "outputs": [
    {
     "data": {
      "text/plain": [
       "<xarray.DataArray 'NDVI' (month: 6, y: 363, x: 573)>\n",
       "array([[[ 1761.6821  ,  1779.509745, ...,  2287.657469,  2291.676045],\n",
       "        [ 1762.479527,  1769.294485, ...,  2316.350115,  2256.153318],\n",
       "        ..., \n",
       "        [ 1655.680252,  1580.719365, ...,  1512.703834,  1504.72876 ],\n",
       "        [ 1669.766058,  1648.00753 , ...,  1509.857001,  1468.271696]],\n",
       "\n",
       "       [[ 1425.339464,  1494.584142, ...,  2147.201264,  2189.466553],\n",
       "        [ 1455.854496,  1483.757649, ...,  2232.067034,  2185.324364],\n",
       "        ..., \n",
       "        [ 1304.383621,  1296.69409 , ...,  1225.012632,  1236.307853],\n",
       "        [ 1120.314738,  1126.175815, ...,  1198.857347,  1170.892038]],\n",
       "\n",
       "       ..., \n",
       "       [[ 1135.142142,  1153.151193, ...,  2080.246586,  2167.629257],\n",
       "        [ 1059.953473,  1045.130761, ...,  2076.04508 ,  2053.592261],\n",
       "        ..., \n",
       "        [  951.917419,   944.026744, ...,  1390.210307,  1454.236694],\n",
       "        [ 1031.330171,   981.414954, ...,  1361.692052,  1329.890549]],\n",
       "\n",
       "       [[ 1220.149045,  1250.082533, ...,  2073.329921,  2168.1274  ],\n",
       "        [ 1277.047167,  1246.903353, ...,  2017.421227,  2016.201317],\n",
       "        ..., \n",
       "        [ 1139.031916,  1059.493085, ...,  1274.164877,  1340.686727],\n",
       "        [ 1205.155367,  1135.670456, ...,  1331.22954 ,  1300.992691]]])\n",
       "Coordinates:\n",
       "  * y        (y) float64 -1.324e+06 -1.324e+06 -1.324e+06 -1.324e+06 ...\n",
       "  * x        (x) float64 9.359e+04 9.361e+04 9.364e+04 9.366e+04 9.369e+04 ...\n",
       "  * month    (month) int64 5 6 7 8 9 10"
      ]
     },
     "execution_count": 58,
     "metadata": {},
     "output_type": "execute_result"
    }
   ],
   "source": [
    "averaged_data"
   ]
  },
  {
   "cell_type": "code",
   "execution_count": null,
   "metadata": {},
   "outputs": [
    {
     "name": "stdout",
     "output_type": "stream",
     "text": [
      "Slope shape is  (363, 573)\n"
     ]
    }
   ],
   "source": [
    "plt.clf()\n",
    "slope_xr_ndvi, p_val_xr_ndvi = linear_regression_grid(averaged_data, mask_no_trend = False, NDVI = True)\n",
    "\n",
    "fig = plt.figure(figsize =(11.69,5))\n",
    "plt.imshow(slope_xr_ndvi)\n",
    "\n",
    "plt.grid(True)\n",
    "plt.colorbar()\n",
    "\n",
    "plt.show()"
   ]
  },
  {
   "cell_type": "code",
   "execution_count": null,
   "metadata": {},
   "outputs": [],
   "source": [
    "# # DEfine functions\n",
    "# def month_cut(data, month_1, month_2):\n",
    "\n",
    "#     if data.dims[0] == 'time':\n",
    "#         sliced_xr = list(data.groupby('time.month'))[monthDict[month_1]:monthDict[month_2] + 1]\n",
    "#     elif data.dims[0] == 'month':\n",
    "#         sliced_xr = list(data.groupby('month'))[monthDict[month_1]:monthDict[month_2] + 1]\n",
    "    \n",
    "#     #Concatenate all the arrays into one xarray\n",
    "#     split_xr = sliced_xr[0][1]\n",
    "\n",
    "    \n",
    "#     for i in range(int(monthDict[month_2]) - int(monthDict[month_1])):\n",
    "#         split_xr = xr.concat([split_xr, sliced_xr[i+1][1]], dim = data.dims[0])\n",
    "                     \n",
    "#     return split_xr"
   ]
  },
  {
   "cell_type": "code",
   "execution_count": 20,
   "metadata": {},
   "outputs": [
    {
     "ename": "NameError",
     "evalue": "name 'monthDict' is not defined",
     "output_type": "error",
     "traceback": [
      "\u001b[0;31m---------------------------------------------------------------------------\u001b[0m",
      "\u001b[0;31mNameError\u001b[0m                                 Traceback (most recent call last)",
      "\u001b[0;32m<ipython-input-20-c72231ce6d5b>\u001b[0m in \u001b[0;36m<module>\u001b[0;34m()\u001b[0m\n\u001b[1;32m     17\u001b[0m \u001b[0;31m#Now plot a grid for this data\u001b[0m\u001b[0;34m\u001b[0m\u001b[0;34m\u001b[0m\u001b[0m\n\u001b[1;32m     18\u001b[0m \u001b[0;34m\u001b[0m\u001b[0m\n\u001b[0;32m---> 19\u001b[0;31m \u001b[0mmonth_cut\u001b[0m\u001b[0;34m(\u001b[0m\u001b[0maveraged_data\u001b[0m\u001b[0;34m,\u001b[0m \u001b[0;34m'April'\u001b[0m\u001b[0;34m,\u001b[0m \u001b[0;34m'October'\u001b[0m\u001b[0;34m)\u001b[0m\u001b[0;34m\u001b[0m\u001b[0m\n\u001b[0m\u001b[1;32m     20\u001b[0m \u001b[0;34m\u001b[0m\u001b[0m\n\u001b[1;32m     21\u001b[0m \u001b[0mslope_xr_ndvi\u001b[0m\u001b[0;34m,\u001b[0m \u001b[0mp_val_xr_ndvi\u001b[0m \u001b[0;34m=\u001b[0m \u001b[0mlinear_regression_grid\u001b[0m\u001b[0;34m(\u001b[0m\u001b[0maveraged_data\u001b[0m\u001b[0;34m,\u001b[0m \u001b[0mmask_no_trend\u001b[0m \u001b[0;34m=\u001b[0m \u001b[0;32mFalse\u001b[0m\u001b[0;34m,\u001b[0m \u001b[0mNDVI\u001b[0m \u001b[0;34m=\u001b[0m \u001b[0;32mTrue\u001b[0m\u001b[0;34m)\u001b[0m\u001b[0;34m\u001b[0m\u001b[0m\n",
      "\u001b[0;32m<ipython-input-18-d991e1f3e4b4>\u001b[0m in \u001b[0;36mmonth_cut\u001b[0;34m(data, month_1, month_2)\u001b[0m\n\u001b[1;32m      5\u001b[0m         \u001b[0msliced_xr\u001b[0m \u001b[0;34m=\u001b[0m \u001b[0mlist\u001b[0m\u001b[0;34m(\u001b[0m\u001b[0mdata\u001b[0m\u001b[0;34m.\u001b[0m\u001b[0mgroupby\u001b[0m\u001b[0;34m(\u001b[0m\u001b[0;34m'time.month'\u001b[0m\u001b[0;34m)\u001b[0m\u001b[0;34m)\u001b[0m\u001b[0;34m[\u001b[0m\u001b[0mmonthDict\u001b[0m\u001b[0;34m[\u001b[0m\u001b[0mmonth_1\u001b[0m\u001b[0;34m]\u001b[0m\u001b[0;34m:\u001b[0m\u001b[0mmonthDict\u001b[0m\u001b[0;34m[\u001b[0m\u001b[0mmonth_2\u001b[0m\u001b[0;34m]\u001b[0m \u001b[0;34m+\u001b[0m \u001b[0;36m1\u001b[0m\u001b[0;34m]\u001b[0m\u001b[0;34m\u001b[0m\u001b[0m\n\u001b[1;32m      6\u001b[0m     \u001b[0;32melif\u001b[0m \u001b[0mdata\u001b[0m\u001b[0;34m.\u001b[0m\u001b[0mdims\u001b[0m\u001b[0;34m[\u001b[0m\u001b[0;36m0\u001b[0m\u001b[0;34m]\u001b[0m \u001b[0;34m==\u001b[0m \u001b[0;34m'month'\u001b[0m\u001b[0;34m:\u001b[0m\u001b[0;34m\u001b[0m\u001b[0m\n\u001b[0;32m----> 7\u001b[0;31m         \u001b[0msliced_xr\u001b[0m \u001b[0;34m=\u001b[0m \u001b[0mlist\u001b[0m\u001b[0;34m(\u001b[0m\u001b[0mdata\u001b[0m\u001b[0;34m.\u001b[0m\u001b[0mgroupby\u001b[0m\u001b[0;34m(\u001b[0m\u001b[0;34m'month'\u001b[0m\u001b[0;34m)\u001b[0m\u001b[0;34m)\u001b[0m\u001b[0;34m[\u001b[0m\u001b[0mmonthDict\u001b[0m\u001b[0;34m[\u001b[0m\u001b[0mmonth_1\u001b[0m\u001b[0;34m]\u001b[0m\u001b[0;34m:\u001b[0m\u001b[0mmonthDict\u001b[0m\u001b[0;34m[\u001b[0m\u001b[0mmonth_2\u001b[0m\u001b[0;34m]\u001b[0m \u001b[0;34m+\u001b[0m \u001b[0;36m1\u001b[0m\u001b[0;34m]\u001b[0m\u001b[0;34m\u001b[0m\u001b[0m\n\u001b[0m\u001b[1;32m      8\u001b[0m \u001b[0;34m\u001b[0m\u001b[0m\n\u001b[1;32m      9\u001b[0m     \u001b[0;31m#Concatenate all the arrays into one xarray\u001b[0m\u001b[0;34m\u001b[0m\u001b[0;34m\u001b[0m\u001b[0m\n",
      "\u001b[0;31mNameError\u001b[0m: name 'monthDict' is not defined"
     ]
    }
   ],
   "source": [
    "#Finally we plot the regression for averaged daily or monthly data with a year(s) (eg. the May to October trend)\n",
    "# If multiple years are chosen then the monthly data is averaged over multiple years (eg all October data over time period\n",
    "# is averaged)\n",
    "\n",
    "# #Define time interval and months range\n",
    "# time_1 = '2014-01-01'\n",
    "# time_2 = '2016-12-31'\n",
    "# month_1 = 'April'\n",
    "# #You need at least 3 months to get a meaningful lilnear regression slope\n",
    "# month_2 = 'October'\n",
    "\n",
    "\n",
    "\n",
    "\n",
    "\n",
    "cut_data = all_ndvi_sorted.loc[time_1:time_2]\n",
    "\n",
    "averaged_data = cut_data.groupby('time.month').mean(dim='time')\n",
    "\n",
    "#Now plot a grid for this data\n",
    "\n",
    "month_cut(averaged_data, 'April', 'October')\n",
    "\n",
    "slope_xr_ndvi, p_val_xr_ndvi = linear_regression_grid(averaged_data, mask_no_trend = False, NDVI = True)\n",
    "\n",
    "fig = plt.figure(figsize =(11.69,5))\n",
    "plt.imshow(slope_xr_ndvi)\n",
    "\n",
    "plt.grid(True)\n",
    "plt.colorbar()\n",
    "\n",
    "plt.show()"
   ]
  },
  {
   "cell_type": "code",
   "execution_count": null,
   "metadata": {},
   "outputs": [],
   "source": []
  },
  {
   "cell_type": "code",
   "execution_count": null,
   "metadata": {},
   "outputs": [],
   "source": []
  },
  {
   "cell_type": "code",
   "execution_count": null,
   "metadata": {},
   "outputs": [],
   "source": []
  },
  {
   "cell_type": "code",
   "execution_count": null,
   "metadata": {},
   "outputs": [],
   "source": []
  },
  {
   "cell_type": "code",
   "execution_count": null,
   "metadata": {},
   "outputs": [],
   "source": []
  },
  {
   "cell_type": "code",
   "execution_count": null,
   "metadata": {},
   "outputs": [],
   "source": []
  },
  {
   "cell_type": "code",
   "execution_count": null,
   "metadata": {},
   "outputs": [],
   "source": []
  }
 ],
 "metadata": {
  "kernelspec": {
   "display_name": "Python 3",
   "language": "python",
   "name": "python3"
  },
  "language_info": {
   "codemirror_mode": {
    "name": "ipython",
    "version": 3
   },
   "file_extension": ".py",
   "mimetype": "text/x-python",
   "name": "python",
   "nbconvert_exporter": "python",
   "pygments_lexer": "ipython3",
   "version": "3.6.3"
  }
 },
 "nbformat": 4,
 "nbformat_minor": 2
}
