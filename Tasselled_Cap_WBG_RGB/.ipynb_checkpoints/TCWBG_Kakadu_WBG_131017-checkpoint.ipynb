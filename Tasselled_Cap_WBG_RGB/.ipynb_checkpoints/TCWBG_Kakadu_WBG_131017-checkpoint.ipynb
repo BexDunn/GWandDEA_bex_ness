{
 "cells": [
  {
   "cell_type": "markdown",
   "metadata": {},
   "source": [
    "# Tasselled Cap Wetness Brightness Greenness  for Kakadu"
   ]
  },
  {
   "cell_type": "markdown",
   "metadata": {},
   "source": [
    "__Inheritance__ <br>\n",
    "Based on the raijin-code Dask_Wetness_debug1.py as at 140817. <br>\n",
    "Add in the explicit epoch chooser\n"
   ]
  },
  {
   "cell_type": "markdown",
   "metadata": {},
   "source": [
    "'''\n",
    "Dask_Wetness_nbarT.py loads surface reflectance data from the data cube, calculates\n",
    "tasselled cap indices, and outputs a netcdf file. It uses dask to keep memory use low.\n",
    "--It requires a PBS submission script to provide i, the polygon number to ingest.\n",
    "Created by Bex Dunn 08/05/2017\n",
    "Altered to increase the size of the query, to test dask run times, 16/06/17\n",
    "Altered to use the correct terrain masking nan values 30/06/17\n",
    "Altered to just use the polygon size again 30/06/17 #FIXME will need to remove the spatial query code (commented out)\n",
    "Altered to import new ga_pq_fuser function\n",
    "And to import mask_valid_data as mask_invalid_data as of 010812017\n",
    "Altered to output clear observation count as well as over threshold count 040817\n",
    "Altered to check for file existence before running 130817\n",
    "\n",
    "'''\n",
    "\n",
    "-------------------------------------------------------------------- \n",
    "The following sensors are available for the following time frames:\n",
    "* Landsat 5 - 1986 to April 1999  followed by a gap until May 2003 - November 2011 (data from 2009 onwards becomes less reliable in southern Australia)\n",
    "* Landsat 7 - April 1999 to present, however after May 2003 the scan line corrector (SLC) failed, \n",
    "so data are referred to as SLC-off, meaning they've got a venetian blinds appearance with wedges of missing data\n",
    "  * This data is not well suited for inclusion in composites, but is fine to use in time series analysis\n",
    "* Landsat 8 - April 2013 onwards\n",
    "---------------------------------------------------------------------\n",
    "\n"
   ]
  },
  {
   "cell_type": "markdown",
   "metadata": {},
   "source": [
    "__Change log:__\n",
    "***\n",
    "-  changed sensors to dictionary 140817\n",
    "-  changed pq_fuser to ga_pq_fuser and removed alias of pq_fuser to ga_pq_fuser 140817\n",
    "-  changed from datacube.storage.masking import mask_valid_data as mask_invalid_data to rom datacube.storage.masking    import mask_invalid_data 140817\n",
    "-  wrote a function to load sensor data irrespective of time period 140817\n",
    "-  moved terrain filter into the function (check that this works!!!!!!)\n",
    "-  altered wetness_coefficient dictionary for readability\n",
    "-  loaded plotting libraries to plot images 150817\n",
    "-  wrote a function to calculate wetness 230817\n",
    "- turned dask back on, was getting memory errors. \n",
    "- put deep copy back, because it's actually necessary.\n",
    "***"
   ]
  },
  {
   "cell_type": "markdown",
   "metadata": {},
   "source": [
    "## Import the python modules we need"
   ]
  },
  {
   "cell_type": "code",
   "execution_count": 69,
   "metadata": {
    "collapsed": true
   },
   "outputs": [],
   "source": [
    "#for writing to error files:\n",
    "from __future__ import print_function\n",
    "#get some libraries\n",
    "import datacube\n",
    "import xarray as xr\n",
    "from datacube.storage import masking\n",
    "#from datacube.storage.masking import mask_to_dict #think this is obsolete\n",
    "import json\n",
    "import pandas as pd\n",
    "import shapely\n",
    "from shapely.geometry import shape\n",
    "import numpy as np #need this for pq fuser\n",
    "\n",
    "#libraries for polygon and polygon mask\n",
    "import fiona\n",
    "import shapely.geometry\n",
    "import rasterio.features\n",
    "import rasterio\n",
    "from datacube.utils import geometry\n",
    "from datacube.helpers import ga_pq_fuser\n",
    "from datacube.storage.masking import mask_invalid_data\n",
    "\n",
    "#for writing to netcdf\n",
    "from datacube.storage.storage import write_dataset_to_netcdf\n",
    "#dealing with system commands\n",
    "import sys\n",
    "import os.path\n",
    "\n",
    "#####These not needed for raijin::::\n",
    "import matplotlib.pyplot as plt\n",
    "\n",
    "#suppress warnings thrown when using inequalities in numpy (the threshold values!)\n",
    "import warnings\n",
    "\n",
    "def eprint(*args, **kwargs):\n",
    "    print(*args, file=sys.stderr, **kwargs)"
   ]
  },
  {
   "cell_type": "markdown",
   "metadata": {},
   "source": [
    "## define functions to load nbart, calculate wetness, wetness over threshold, counts, and write datasets to netcdf"
   ]
  },
  {
   "cell_type": "code",
   "execution_count": 70,
   "metadata": {
    "collapsed": true
   },
   "outputs": [],
   "source": [
    "def load_nbart(sensor,query,bands_of_interest): \n",
    "    '''loads nbart data for a sensor, masks using pq, then filters out terrain -999s\n",
    "    function written 23-08-2017 based on dc v1.5.1'''  \n",
    "    dataset = []\n",
    "    product_name = '{}_{}_albers'.format(sensor, 'nbart')\n",
    "    print('loading {}'.format(product_name))\n",
    "    ds = dc.load(product=product_name, measurements=bands_of_interest,\n",
    "                 group_by='solar_day', **query)\n",
    "    #grab crs defs from loaded ds if ds exists\n",
    "    if ds:\n",
    "        crs = ds.crs\n",
    "        affine = ds.affine\n",
    "        print('loaded {}'.format(product_name))\n",
    "        mask_product = '{}_{}_albers'.format(sensor, 'pq')\n",
    "        sensor_pq = dc.load(product=mask_product, fuse_func=ga_pq_fuser,\n",
    "                            group_by='solar_day', **query)\n",
    "        if sensor_pq:\n",
    "            print('making mask {}'.format(mask_product))\n",
    "            cloud_free = masking.make_mask(sensor_pq.pixelquality,\n",
    "                                           cloud_acca='no_cloud',\n",
    "                                           cloud_shadow_acca = 'no_cloud_shadow',                           \n",
    "                                           cloud_shadow_fmask = 'no_cloud_shadow',\n",
    "                                           cloud_fmask='no_cloud',\n",
    "                                           blue_saturated = False,\n",
    "                                           green_saturated = False,\n",
    "                                           red_saturated = False,\n",
    "                                           nir_saturated = False,\n",
    "                                           swir1_saturated = False,\n",
    "                                           swir2_saturated = False,\n",
    "                                           contiguous=True)\n",
    "            ds = ds.where(cloud_free)\n",
    "            ds.attrs['crs'] = crs\n",
    "            ds.attrs['affine'] = affine\n",
    "            print('masked {} with {} and filtered terrain'.format(product_name,mask_product))\n",
    "            # nbarT is correctly used to correct terrain by replacing -999.0 with nan\n",
    "            ds=ds.where(ds!=-999.0)\n",
    "        else: \n",
    "            print('did not mask {} with {}'.format(product_name,mask_product))\n",
    "    else:\n",
    "        print ('did not load {}'.format(product_name)) \n",
    "\n",
    "    if len(ds)>0:\n",
    "        return ds\n",
    "    else:\n",
    "        return None"
   ]
  },
  {
   "cell_type": "code",
   "execution_count": 71,
   "metadata": {
    "collapsed": true
   },
   "outputs": [],
   "source": [
    "#calculating tasselled cap wetness\n",
    "def calc_wetness(sensor_data,sensor):\n",
    "    '''This function performs the tasselled cap transformation, multiplying band data by tasselled cap coefficients to \n",
    "    produce a \"wetness\" \"band\".\n",
    "    sensor_data is surface reflectance data loaded from the datacube\n",
    "    sensor = 'ls5, 'ls7' or 'ls8'\n",
    "    Coefficients are from Crist and Cicone 1984 for ls5 and ls7, and from Baig, Zhang, Shuai & Tong for ls8\n",
    "    function written 23-08-2017 based on dc v1.5.1. updated 06-10-2017 bd'''\n",
    "\n",
    "    wetness_coeff = {'ls5':{'blue':0.151, 'green':0.179, 'red':0.330, 'nir':0.341, 'swir1':-0.711, 'swir2':-0.457},\n",
    "                    'ls7':{'blue':0.151, 'green':0.179, 'red':0.330, 'nir':0.341, 'swir1':-0.711, 'swir2':-0.457},\n",
    "                    'ls8':{'blue':0.1511,'green':0.1973,'red':0.3283,'nir':0.3407,'swir1':-0.7117,'swir2':-0.4559}}\n",
    "    #if there is sensor data for the time period\n",
    "    if sensor_data is not None: \n",
    "         # make a deep copy of the sensor data\n",
    "        wbg = sensor_data.copy(deep=True)\n",
    "        #iterate over the spectral bands\n",
    "        for band_name in sensor_data.data_vars:\n",
    "            #multiply each band by the transform coefficient to get a band-specific value\n",
    "            wetness_band = sensor_data[band_name]*wetness_coeff[sensor][band_name]\n",
    "            #update the existing band data with the TC data\n",
    "            #by making new bands, called wet_green, bright_green etc.\n",
    "            wbg.update({'wet_'+band_name:(['time','y','x'],wetness_band)})\n",
    "            #then drop the original bands\n",
    "            wbg = wbg.drop({band_name})    \n",
    "        #sum the values for each band to get the tcw dim    \n",
    "        wbg['wetness']=wbg.wet_blue+wbg.wet_green+wbg.wet_red+wbg.wet_nir+wbg.wet_swir1+wbg.wet_swir2\n",
    "        bands_to_drop =[]\n",
    "        for new_band in wbg.data_vars:\n",
    "            bands_to_drop.append(new_band)            \n",
    "        bands_to_drop.remove('wetness')    \n",
    "        wbg = wbg.drop(bands_to_drop)\n",
    "        print('calculated wetness for {}'.format(sensor))\n",
    "        return wbg    \n",
    "    else:\n",
    "        print('did not calculate wetness for {}'.format(sensor))\n",
    "        return None            "
   ]
  },
  {
   "cell_type": "code",
   "execution_count": 72,
   "metadata": {
    "collapsed": true
   },
   "outputs": [],
   "source": [
    "#calculating tasselled cap brightness\n",
    "def calc_brightness(sensor_data,sensor):\n",
    "    '''This function performs the tasselled cap transformation, multiplying band data by tasselled cap coefficients to \n",
    "    produce a \"brightness\" \"band\".\n",
    "    sensor_data is surface reflectance data loaded from the datacube\n",
    "    sensor = 'ls5, 'ls7' or 'ls8'\n",
    "    Coefficients are from Crist and Cicone 1984 for ls5 and ls7, and from Baig, Zhang, Shuai & Tong for ls8\n",
    "    function written 23-08-2017 based on dc v1.5.1. updated 06-10-2017 bd'''\n",
    "\n",
    "    brightness_coeff = {'ls5':{'blue':0.304, 'green':0.279, 'red':0.434, 'nir':0.559, 'swir1':0.508, 'swir2':0.186},\n",
    "                    'ls7':{'blue':0.304, 'green':0.279, 'red':0.434, 'nir':0.559, 'swir1':0.508, 'swir2':0.1872},\n",
    "                    'ls8':{'blue':0.3029,'green':0.2786,'red':0.4733,'nir':0.5599,'swir1':0.508,'swir2':0.1872}}\n",
    "    #if there is sensor data for the time period\n",
    "    if sensor_data is not None: \n",
    "        wbg = sensor_data.copy(deep=True)\n",
    "        #iterate over the spectral bands\n",
    "        for band_name in sensor_data.data_vars:\n",
    "            #multiply each band by the transform coefficient to get a band-specific value\n",
    "            brightness_band = sensor_data[band_name]*brightness_coeff[sensor][band_name]\n",
    "            #update the existing band data with the TC data\n",
    "            #by making new bands, called bright_green etc.\n",
    "            #then drop the original bands\n",
    "            wbg.update({'bright_'+band_name:(['time','y','x'],brightness_band)})\n",
    "            wbg = wbg.drop({band_name})    \n",
    "        wbg['brightness']=wbg.bright_blue+wbg.bright_green+wbg.bright_red+wbg.bright_nir+wbg.bright_swir1+wbg.bright_swir2   \n",
    "        bands_to_drop =[]\n",
    "        for new_band in wbg.data_vars:\n",
    "            bands_to_drop.append(new_band)            \n",
    "        bands_to_drop.remove('brightness')\n",
    "        wbg = wbg.drop(bands_to_drop)\n",
    "        print('calculated brightness for {}'.format(sensor))\n",
    "        return wbg    \n",
    "    else:\n",
    "        print('did not calculate brightness for {}'.format(sensor))\n",
    "        return None        #calculating tasselled cap brightness\n",
    "def calc_brightness(sensor_data,sensor):\n",
    "    '''This function performs the tasselled cap transformation, multiplying band data by tasselled cap coefficients to \n",
    "    produce a \"brightness\" \"band\".\n",
    "    sensor_data is surface reflectance data loaded from the datacube\n",
    "    sensor = 'ls5, 'ls7' or 'ls8'\n",
    "    Coefficients are from Crist and Cicone 1984 for ls5 and ls7, and from Baig, Zhang, Shuai & Tong for ls8\n",
    "    function written 23-08-2017 based on dc v1.5.1. updated 06-10-2017 bd'''\n",
    "\n",
    "    brightness_coeff = {'ls5':{'blue':0.304, 'green':0.279, 'red':0.434, 'nir':0.559, 'swir1':0.508, 'swir2':0.186},\n",
    "                    'ls7':{'blue':0.304, 'green':0.279, 'red':0.434, 'nir':0.559, 'swir1':0.508, 'swir2':0.1872},\n",
    "                    'ls8':{'blue':0.3029,'green':0.2786,'red':0.4733,'nir':0.5599,'swir1':0.508,'swir2':0.1872}}\n",
    "    #if there is sensor data for the time period\n",
    "    if sensor_data is not None: \n",
    "        wbg = sensor_data.copy(deep=True)\n",
    "        #iterate over the spectral bands\n",
    "        for band_name in sensor_data.data_vars:\n",
    "            #multiply each band by the transform coefficient to get a band-specific value\n",
    "            brightness_band = sensor_data[band_name]*brightness_coeff[sensor][band_name]\n",
    "            #update the existing band data with the TC data\n",
    "            #by making new bands, called bright_green etc.\n",
    "            #then drop the original bands\n",
    "            wbg.update({'bright_'+band_name:(['time','y','x'],brightness_band)})\n",
    "            wbg = wbg.drop({band_name})    \n",
    "        wbg['brightness']=wbg.bright_blue+wbg.bright_green+wbg.bright_red+wbg.bright_nir+wbg.bright_swir1+wbg.bright_swir2   \n",
    "        bands_to_drop =[]\n",
    "        for new_band in wbg.data_vars:\n",
    "            bands_to_drop.append(new_band)            \n",
    "        bands_to_drop.remove('brightness')\n",
    "        wbg = wbg.drop(bands_to_drop)\n",
    "        print('calculated brightness for {}'.format(sensor))\n",
    "        return wbg    \n",
    "    else:\n",
    "        print('did not calculate brightness for {}'.format(sensor))\n",
    "        return None        "
   ]
  },
  {
   "cell_type": "code",
   "execution_count": 73,
   "metadata": {
    "collapsed": true
   },
   "outputs": [],
   "source": [
    "#calculating tasselled cap greenness\n",
    "def calc_greenness(sensor_data,sensor):\n",
    "    '''This function performs the tasselled cap transformation, multiplying band data by tasselled cap coefficients to \n",
    "    produce a \"brightness\" \"band\".\n",
    "    sensor_data is surface reflectance data loaded from the datacube\n",
    "    sensor = 'ls5, 'ls7' or 'ls8'\n",
    "    Coefficients are from Crist and Cicone 1984 for ls5 and ls7, and from Baig, Zhang, Shuai & Tong for ls8\n",
    "    function written 23-08-2017 based on dc v1.5.1. updated 06-10-2017 bd'''\n",
    "\n",
    "    greenness_coeff = {'ls5':{'blue':-0.285, 'green':-0.244, 'red':-0.544, 'nir':0.724, 'swir1':0.084, 'swir2':-0.180},\n",
    "                       'ls7':{'blue':-0.285, 'green':-0.244, 'red':-0.544, 'nir':0.724, 'swir1':0.084, 'swir2':-0.180},\n",
    "                       'ls8':{'blue':-0.2941,'green':-0.243,'red':-0.5424,'nir':0.7276,'swir1':0.0713,'swir2':-0.1608}}    \n",
    "    #if there is sensor data for the time period\n",
    "    if sensor_data is not None: \n",
    "        wbg = sensor_data.copy(deep=True)\n",
    "        #iterate over the spectral bands\n",
    "        for band_name in sensor_data.data_vars:\n",
    "            #multiply each band by the transform coefficient to get a band-specific value\n",
    "            greenness_band = sensor_data[band_name]*greenness_coeff[sensor][band_name]\n",
    "            #update the existing band data with the TC data\n",
    "            #by making new bands, called bright_green etc.\n",
    "            #then drop the original bands\n",
    "            wbg.update({'green_'+band_name:(['time','y','x'],greenness_band)})\n",
    "            wbg = wbg.drop({band_name})    \n",
    "        wbg['greenness']=wbg.green_blue+wbg.green_green+wbg.green_red+wbg.green_nir+wbg.green_swir1+wbg.green_swir2   \n",
    "        bands_to_drop =[]\n",
    "        for new_band in wbg.data_vars:\n",
    "            bands_to_drop.append(new_band)            \n",
    "        bands_to_drop.remove('greenness')\n",
    "        wbg = wbg.drop(bands_to_drop)\n",
    "        print('calculated greenness for {}'.format(sensor))\n",
    "        return wbg    \n",
    "    else:\n",
    "        print('did not calculate greenness for {}'.format(sensor))\n",
    "        return None        "
   ]
  },
  {
   "cell_type": "code",
   "execution_count": 74,
   "metadata": {
    "collapsed": true
   },
   "outputs": [],
   "source": [
    "def calc_wetveg_overthresh(wetness,threshold=-400):\n",
    "    '''Calculate the wetness values where wetness>threshold. Inputs are wetness array and threshold value, \n",
    "    default threshold is -400. Band for wetness>threshold is added to wetness. This is not the count.'''\n",
    "    if wetness is not None:\n",
    "        with warnings.catch_warnings():\n",
    "            #suppress irritating behaviour in xarray.where\n",
    "            warnings.simplefilter(\"ignore\")\n",
    "            #water_plus_wetveg is wetness values where wetness>threshold\n",
    "            wetness['water_plus_wetveg'] = wetness.wetness.where(wetness.wetness>threshold)\n",
    "            print('thresholded wetness added to array')\n",
    "            return wetness\n",
    "    else:\n",
    "        print('did not calculate wetness overthreshold' )\n",
    "        return None    "
   ]
  },
  {
   "cell_type": "code",
   "execution_count": 75,
   "metadata": {
    "collapsed": true
   },
   "outputs": [],
   "source": [
    "def count_wets(wetness):\n",
    "    '''count the number of wetness scenes for each pixel,\n",
    "    count the amount of times that water plus wet veg is above the threshold\n",
    "    load both into memory (this assumes you are using dask),\n",
    "    return a dictionary of wet count and threshold count'''\n",
    "    if wetness is not None:\n",
    "        #count the number of wetness scenes for each pixel\n",
    "        wet_count = wetness.wetness.count(dim='time')\n",
    "\n",
    "        #count the amount of times that water plus wet veg is above the threshold\n",
    "        threshold_count= wetness.water_plus_wetveg.count(dim='time')\n",
    "        \n",
    "        #bring both counts into memory\n",
    "        wet_count.load()\n",
    "        threshold_count.load()\n",
    "        \n",
    "        #define dictionary of wet count and threshold count\n",
    "        counts = {'wet count':wet_count, 'threshold count':threshold_count}\n",
    "        print('counted')\n",
    "        return counts\n",
    "    else:\n",
    "        print('did not count' )\n",
    "        return None      "
   ]
  },
  {
   "cell_type": "code",
   "execution_count": 76,
   "metadata": {
    "collapsed": true
   },
   "outputs": [],
   "source": [
    "def write_your_netcdf(data, dataset_name, filename,crs):\n",
    "    '''this function turns an xarray dataarray into a dataset so we can write it to netcdf. It adds on a crs definition\n",
    "    from the original array. data = your xarray dataset, dataset_name is a string describing your variable'''    \n",
    "    #turn array into dataset so we can write the netcdf\n",
    "    dataset= data.to_dataset(name=dataset_name)\n",
    "    #grab our crs attributes to write a spatially-referenced netcdf\n",
    "    dataset.attrs['crs'] = crs\n",
    "    #dataset.dataset_name.attrs['crs'] = crs\n",
    "    try:\n",
    "        write_dataset_to_netcdf(dataset, filename)\n",
    "    except RuntimeError as err:\n",
    "        print(\"RuntimeError: {0}\".format(err))        "
   ]
  },
  {
   "cell_type": "code",
   "execution_count": 77,
   "metadata": {
    "collapsed": true
   },
   "outputs": [],
   "source": [
    "def wet_season(month):\n",
    "    '''filters on months to return a wet season between dec and april\n",
    "    \"where month could be e.g. wetness_sensor3_nbart.time.dt.month\"'''\n",
    "    return(month==11)|(month<=4)\n",
    "\n",
    "def dry_season(month):\n",
    "    '''filters on months to return a dry season between may and november\n",
    "    where month could be e.g. wetness_sensor3_nbart.time.dt.month'''\n",
    "    return(month>=5)&(month<=10)\n",
    "\n",
    "def wet_vals(sensor_wetness):\n",
    "    if sensor_wetness is not None:\n",
    "        '''calculates wet season values for the sensor wetness'''\n",
    "        #define wet_wetness as the wetness during the wetseason\n",
    "        wet_wetness = sensor_wetness.sel(time = wet_season(sensor_wetness.time.dt.month))\n",
    "        return wet_wetness\n",
    "    else:\n",
    "        return None    \n",
    "\n",
    "def dry_vals(sensor_wetness):\n",
    "    if sensor_wetness is not None:\n",
    "        '''calculates dry season values for the sensor wetness'''\n",
    "        #define dry_wetness as the wetness during the dryseason\n",
    "        dry_wetness = sensor_wetness.sel(time = dry_season(sensor_wetness.time.dt.month))\n",
    "        return dry_wetness\n",
    "    else:\n",
    "            return None "
   ]
  },
  {
   "cell_type": "markdown",
   "metadata": {
    "collapsed": true
   },
   "source": [
    "## Mainline"
   ]
  },
  {
   "cell_type": "code",
   "execution_count": 78,
   "metadata": {
    "collapsed": true
   },
   "outputs": [],
   "source": [
    "#save netcdf outputs to this folder:\n",
    "#netcdf_output_loc ='/g/data/r78/rjd547/groundwater_activities/Analysis/'\n",
    "netcdf_output_loc ='/g/data/r78/rjd547/groundwater_activities/Analysis/TCW_stats/'"
   ]
  },
  {
   "cell_type": "code",
   "execution_count": 79,
   "metadata": {
    "collapsed": true
   },
   "outputs": [],
   "source": [
    "#code to work with a polygon input\n",
    "#shape_file = ('/g/data/r78/rjd547/groundwater_activities/Whole_NA/WholeNA_shapes/Kevin.shp')\n",
    "shape_file = ('/g/data/r78/rjd547/groundwater_activities/Kakadu/kakadu_sml.shp')\n",
    "# open all the shapes within the shape file\n",
    "shapes = fiona.open(shape_file)"
   ]
  },
  {
   "cell_type": "code",
   "execution_count": 80,
   "metadata": {
    "collapsed": true
   },
   "outputs": [],
   "source": [
    "# #i is the number of the polygon within the shapefile that the script will run for.\n",
    "# #the next line takes i  as a system argument input eg. $Dask_Wetness_nbarT.py $1\n",
    "# #We have to minus one here because python counts from 0 and bash counts from one, therefore\n",
    "# #node 1 will be polygon 0.\n",
    "# #i=0\n",
    "# i=int(sys.argv[1])-1\n",
    "# print('i is :'+str(i))"
   ]
  },
  {
   "cell_type": "code",
   "execution_count": 81,
   "metadata": {},
   "outputs": [
    {
     "name": "stdout",
     "output_type": "stream",
     "text": [
      "i is 0\n"
     ]
    }
   ],
   "source": [
    "#i is the index of the shape file we have chosen\n",
    "i =0 #working with smallest(?) shape here\n",
    "print('i is '+str(i))\n",
    "if i > len(shapes):\n",
    "    print('index not in the range for the shapefile'+str(i)+' not in '+str(len(shapes)))\n",
    "    sys.exit(0)"
   ]
  },
  {
   "cell_type": "code",
   "execution_count": 82,
   "metadata": {},
   "outputs": [
    {
     "data": {
      "image/png": "[encoded data removed]",
      "text/plain": [
       "<matplotlib.figure.Figure at 0x7f6fb7b43e48>"
      ]
     },
     "metadata": {},
     "output_type": "display_data"
    }
   ],
   "source": [
    "import geopandas as gpd\n",
    "shape_plot = gpd.read_file(shape_file)\n",
    "shape_plot.plot()\n",
    "plt.show()"
   ]
  },
  {
   "cell_type": "code",
   "execution_count": 83,
   "metadata": {
    "collapsed": true
   },
   "outputs": [],
   "source": [
    "#copy attributes from shapefile and define shape_name\n",
    "geom_crs = geometry.CRS(shapes.crs_wkt)\n",
    "geo = shapes[i]['geometry']\n",
    "geom = geometry.Geometry(geo, crs=geom_crs)\n",
    "geom_bs = shapely.geometry.shape(shapes[i]['geometry'])\n",
    "shape_name = shape_file.split('/')[-1].split('.')[0]+'_'+str(i)"
   ]
  },
  {
   "cell_type": "code",
   "execution_count": 84,
   "metadata": {
    "collapsed": true
   },
   "outputs": [],
   "source": [
    "# # #check if the file has already been written:\n",
    "# filename = netcdf_output_loc+shape_name+'NoPizza.nc'\n",
    "# if os.path.isfile(filename):\n",
    "#     print('{} already exists'.format(filename))\n",
    "#     sys.exit(0)"
   ]
  },
  {
   "cell_type": "code",
   "execution_count": 85,
   "metadata": {},
   "outputs": [],
   "source": [
    "# # #bring in dask and start it running\n",
    "# import dask\n",
    "# dask.set_options(get=dask.get)"
   ]
  },
  {
   "cell_type": "code",
   "execution_count": 86,
   "metadata": {
    "collapsed": true
   },
   "outputs": [],
   "source": [
    "#tell the datacube which app to use\n",
    "dc = datacube.Datacube(app='dc-nbart')"
   ]
  },
  {
   "cell_type": "code",
   "execution_count": 87,
   "metadata": {
    "collapsed": true
   },
   "outputs": [],
   "source": [
    "#### DEFINE SPATIOTEMPORAL RANGE AND BANDS OF INTEREST\n",
    "#Define temporal range\n",
    "start_of_epoch = '2016-01-01'\n",
    "#start_of_epoch = '2016-01-01'\n",
    "#need a variable here that defines a rolling 'latest observation'\n",
    "end_of_epoch =  '2016-12-31'"
   ]
  },
  {
   "cell_type": "code",
   "execution_count": 88,
   "metadata": {
    "collapsed": true
   },
   "outputs": [],
   "source": [
    "#Define wavelengths/bands of interest, remove this kwarg to retrieve all bands\n",
    "bands_of_interest = ['blue',\n",
    "                     'green',\n",
    "                     'red',\n",
    "                     'nir',\n",
    "                     'swir1',\n",
    "                     'swir2'\n",
    "                     ]"
   ]
  },
  {
   "cell_type": "code",
   "execution_count": 89,
   "metadata": {
    "collapsed": true
   },
   "outputs": [],
   "source": [
    "query = {\n",
    "    'time': (start_of_epoch, end_of_epoch), 'geopolygon': geom,\n",
    "    'dask_chunks': {'time': 5}\n",
    "}"
   ]
  },
  {
   "cell_type": "markdown",
   "metadata": {},
   "source": [
    "For sensor in sensors:\n",
    "Load data\n",
    "calculate tcw count\n",
    "calculate mean tcw count\n",
    "calculate percentile tcw count (low and high)\n",
    "calculate\n",
    "plot mean tcw count\n",
    "\n"
   ]
  },
  {
   "cell_type": "code",
   "execution_count": 90,
   "metadata": {},
   "outputs": [
    {
     "name": "stdout",
     "output_type": "stream",
     "text": [
      "loading ls5_nbart_albers\n",
      "did not load ls5_nbart_albers\n",
      "loading ls7_nbart_albers\n",
      "loaded ls7_nbart_albers\n",
      "making mask ls7_pq_albers\n",
      "masked ls7_nbart_albers with ls7_pq_albers and filtered terrain\n",
      "loading ls8_nbart_albers\n",
      "loaded ls8_nbart_albers\n",
      "making mask ls8_pq_albers\n",
      "masked ls8_nbart_albers with ls8_pq_albers and filtered terrain\n"
     ]
    }
   ],
   "source": [
    "#this is done separately instead of in a loop because the datasets can be quite large.\n",
    "#currently this is a way of memory handling -there is probably a better way of doing it.\n",
    "sensor1_nbart=load_nbart('ls5',query,bands_of_interest)\n",
    "sensor2_nbart=load_nbart('ls7',query,bands_of_interest)\n",
    "sensor3_nbart=load_nbart('ls8',query,bands_of_interest)"
   ]
  },
  {
   "cell_type": "markdown",
   "metadata": {},
   "source": [
    "### Calculate wetness for each timeslice"
   ]
  },
  {
   "cell_type": "code",
   "execution_count": 91,
   "metadata": {},
   "outputs": [
    {
     "name": "stdout",
     "output_type": "stream",
     "text": [
      "did not calculate wetness for ls5\n",
      "calculated wetness for ls7\n",
      "calculated wetness for ls8\n"
     ]
    }
   ],
   "source": [
    "#run the tcw transform on the surface reflectance data\n",
    "wetness_sensor1_nbart=calc_wetness(sensor1_nbart,'ls5')\n",
    "wetness_sensor2_nbart=calc_wetness(sensor2_nbart,'ls7')\n",
    "wetness_sensor3_nbart=calc_wetness(sensor3_nbart,'ls8')"
   ]
  },
  {
   "cell_type": "markdown",
   "metadata": {},
   "source": [
    "### Calculate brightness for each timeslice\n"
   ]
  },
  {
   "cell_type": "code",
   "execution_count": 92,
   "metadata": {},
   "outputs": [
    {
     "name": "stdout",
     "output_type": "stream",
     "text": [
      "did not calculate brightness for ls5\n",
      "calculated brightness for ls7\n",
      "calculated brightness for ls8\n"
     ]
    }
   ],
   "source": [
    "#run the tcb transform on the surface reflectance data\n",
    "brightness_sensor1_nbart=calc_brightness(sensor1_nbart,'ls5')\n",
    "brightness_sensor2_nbart=calc_brightness(sensor2_nbart,'ls7')\n",
    "brightness_sensor3_nbart=calc_brightness(sensor3_nbart,'ls8')"
   ]
  },
  {
   "cell_type": "markdown",
   "metadata": {},
   "source": [
    "### Calculate greenness for each timeslice\n"
   ]
  },
  {
   "cell_type": "code",
   "execution_count": 93,
   "metadata": {},
   "outputs": [
    {
     "name": "stdout",
     "output_type": "stream",
     "text": [
      "did not calculate greenness for ls5\n",
      "calculated greenness for ls7\n",
      "calculated greenness for ls8\n"
     ]
    }
   ],
   "source": [
    "#run the tcg transform on the surface reflectance data\n",
    "greenness_sensor1_nbart=calc_greenness(sensor1_nbart,'ls5')\n",
    "greenness_sensor2_nbart=calc_greenness(sensor2_nbart,'ls7')\n",
    "greenness_sensor3_nbart=calc_greenness(sensor3_nbart,'ls8')"
   ]
  },
  {
   "cell_type": "code",
   "execution_count": 94,
   "metadata": {
    "collapsed": true
   },
   "outputs": [],
   "source": [
    "## this section to plot mean wet, bright, green for selected epoch"
   ]
  },
  {
   "cell_type": "code",
   "execution_count": 95,
   "metadata": {
    "collapsed": true
   },
   "outputs": [],
   "source": [
    "#make an array of all the wetnessess\n",
    "tcw_list = []\n",
    "for wetness in [wetness_sensor1_nbart,wetness_sensor2_nbart, wetness_sensor3_nbart]:\n",
    "    if wetness is not None:\n",
    "        tcw_list.append(wetness)\n",
    "tcw= xr.concat(tcw_list,dim='time')"
   ]
  },
  {
   "cell_type": "code",
   "execution_count": 96,
   "metadata": {
    "collapsed": true
   },
   "outputs": [],
   "source": [
    "#make an array of all the brightnessess\n",
    "tcb_list = []\n",
    "for brightness in [brightness_sensor1_nbart,brightness_sensor2_nbart, brightness_sensor3_nbart]:\n",
    "    if brightness is not None:\n",
    "        tcb_list.append(brightness)\n",
    "tcb= xr.concat(tcb_list,dim='time')"
   ]
  },
  {
   "cell_type": "code",
   "execution_count": 97,
   "metadata": {
    "collapsed": true
   },
   "outputs": [],
   "source": [
    "#make an array of all the brightnessess\n",
    "tcg_list = []\n",
    "for greenness in [greenness_sensor1_nbart,greenness_sensor2_nbart, greenness_sensor3_nbart]:\n",
    "    if greenness is not None:\n",
    "        tcg_list.append(greenness)\n",
    "tcg= xr.concat(tcg_list,dim='time')"
   ]
  },
  {
   "cell_type": "code",
   "execution_count": 98,
   "metadata": {
    "collapsed": true
   },
   "outputs": [],
   "source": [
    "## take means of each and then plot them as rgb"
   ]
  },
  {
   "cell_type": "code",
   "execution_count": 99,
   "metadata": {},
   "outputs": [],
   "source": [
    "mean_wet = tcw.mean(dim = 'time')\n",
    "mean_bright = tcb.mean(dim ='time')\n",
    "mean_green = tcg.mean(dim ='time')"
   ]
  },
  {
   "cell_type": "markdown",
   "metadata": {},
   "source": [
    "## scale through by max value of each (w,b,g)"
   ]
  },
  {
   "cell_type": "code",
   "execution_count": 100,
   "metadata": {},
   "outputs": [],
   "source": [
    "sc_wet = mean_wet.wetness/mean_wet.max()\n",
    "sc_bright = mean_bright.brightness/mean_bright.max()\n",
    "sc_green = mean_green.greenness/mean_green.max()\n",
    "#then stack array"
   ]
  },
  {
   "cell_type": "code",
   "execution_count": null,
   "metadata": {
    "collapsed": true
   },
   "outputs": [],
   "source": []
  },
  {
   "cell_type": "code",
   "execution_count": 101,
   "metadata": {},
   "outputs": [
    {
     "data": {
      "image/png": "[encoded data removed]",
      "text/plain": [
       "<matplotlib.figure.Figure at 0x7f6fb7f9c630>"
      ]
     },
     "metadata": {},
     "output_type": "display_data"
    }
   ],
   "source": [
    "plt.clf()\n",
    "plt.imshow(mean_green.greenness)\n",
    "plt.show()\n"
   ]
  },
  {
   "cell_type": "code",
   "execution_count": null,
   "metadata": {
    "collapsed": true
   },
   "outputs": [],
   "source": [
    "with warnings.catch_warnings():\n",
    "    warnings.simplefilter(\"ignore\")\n",
    "    #try plotting a clean time slice to see where we are ##FIXME do this automagically\n",
    "\n",
    "    #first, clear the figure to keep memory usage down.\n",
    "    plt.clf()\n",
    "\n",
    "    #change the time index in this cell until you find a clean time slice to plot\n",
    "    plt.figure(figsize=(3,3))\n",
    "    rgb = sensor1_nbar.isel(time =57).to_array(dim='color').sel(color=['swir1', 'nir', 'green']).transpose('y', 'x', 'color')\n",
    "    fake_saturation = 4500\n",
    "    clipped_visible = rgb.where(rgb<fake_saturation).fillna(fake_saturation)\n",
    "    max_val = clipped_visible.max(['y', 'x'])\n",
    "    scaled = (clipped_visible / max_val)\n",
    "    plt.axis('off')\n",
    "    plt.imshow(scaled, interpolation = 'nearest',\n",
    "               extent=[scaled.coords['x'].min(), scaled.coords['x'].max(), \n",
    "                       scaled.coords['y'].min(), scaled.coords['y'].max()])\n",
    "\n",
    "    plt.show()"
   ]
  },
  {
   "cell_type": "code",
   "execution_count": null,
   "metadata": {
    "collapsed": true
   },
   "outputs": [],
   "source": []
  },
  {
   "cell_type": "code",
   "execution_count": null,
   "metadata": {
    "collapsed": true
   },
   "outputs": [],
   "source": []
  },
  {
   "cell_type": "code",
   "execution_count": null,
   "metadata": {
    "collapsed": true
   },
   "outputs": [],
   "source": []
  },
  {
   "cell_type": "code",
   "execution_count": null,
   "metadata": {
    "collapsed": true
   },
   "outputs": [],
   "source": []
  },
  {
   "cell_type": "code",
   "execution_count": null,
   "metadata": {
    "collapsed": true
   },
   "outputs": [],
   "source": []
  },
  {
   "cell_type": "code",
   "execution_count": null,
   "metadata": {
    "collapsed": true
   },
   "outputs": [],
   "source": []
  },
  {
   "cell_type": "code",
   "execution_count": null,
   "metadata": {
    "collapsed": true
   },
   "outputs": [],
   "source": []
  },
  {
   "cell_type": "code",
   "execution_count": null,
   "metadata": {
    "collapsed": true
   },
   "outputs": [],
   "source": []
  },
  {
   "cell_type": "code",
   "execution_count": null,
   "metadata": {
    "collapsed": true
   },
   "outputs": [],
   "source": []
  },
  {
   "cell_type": "code",
   "execution_count": null,
   "metadata": {
    "collapsed": true
   },
   "outputs": [],
   "source": []
  },
  {
   "cell_type": "code",
   "execution_count": null,
   "metadata": {
    "collapsed": true
   },
   "outputs": [],
   "source": []
  },
  {
   "cell_type": "code",
   "execution_count": null,
   "metadata": {
    "collapsed": true
   },
   "outputs": [],
   "source": []
  },
  {
   "cell_type": "code",
   "execution_count": null,
   "metadata": {
    "collapsed": true
   },
   "outputs": [],
   "source": []
  },
  {
   "cell_type": "code",
   "execution_count": null,
   "metadata": {
    "collapsed": true
   },
   "outputs": [],
   "source": []
  },
  {
   "cell_type": "code",
   "execution_count": null,
   "metadata": {
    "collapsed": true
   },
   "outputs": [],
   "source": []
  },
  {
   "cell_type": "code",
   "execution_count": null,
   "metadata": {
    "collapsed": true
   },
   "outputs": [],
   "source": []
  },
  {
   "cell_type": "code",
   "execution_count": null,
   "metadata": {
    "collapsed": true
   },
   "outputs": [],
   "source": []
  },
  {
   "cell_type": "code",
   "execution_count": null,
   "metadata": {
    "collapsed": true
   },
   "outputs": [],
   "source": []
  },
  {
   "cell_type": "code",
   "execution_count": null,
   "metadata": {
    "collapsed": true
   },
   "outputs": [],
   "source": []
  },
  {
   "cell_type": "code",
   "execution_count": null,
   "metadata": {
    "collapsed": true
   },
   "outputs": [],
   "source": []
  },
  {
   "cell_type": "code",
   "execution_count": null,
   "metadata": {
    "collapsed": true
   },
   "outputs": [],
   "source": []
  },
  {
   "cell_type": "code",
   "execution_count": null,
   "metadata": {
    "collapsed": true
   },
   "outputs": [],
   "source": []
  },
  {
   "cell_type": "markdown",
   "metadata": {
    "collapsed": true
   },
   "source": [
    "## Calculate wet and dry seasons in wetness based on Dec-April wet season"
   ]
  },
  {
   "cell_type": "code",
   "execution_count": 30,
   "metadata": {
    "collapsed": true
   },
   "outputs": [],
   "source": [
    "#calculate wet and dry season wetness using functions\n",
    "wet_wetness_s1 = wet_vals(wetness_sensor1_nbart)\n",
    "wet_wetness_s2 = wet_vals(wetness_sensor2_nbart)\n",
    "wet_wetness_s3 = wet_vals(wetness_sensor3_nbart)\n",
    "\n",
    "#note wet and dry seasons are defined in the functions blocks\n",
    "dry_wetness_s1 = dry_vals(wetness_sensor1_nbart)\n",
    "dry_wetness_s2 = dry_vals(wetness_sensor2_nbart)\n",
    "dry_wetness_s3 = dry_vals(wetness_sensor3_nbart)"
   ]
  },
  {
   "cell_type": "code",
   "execution_count": 31,
   "metadata": {},
   "outputs": [
    {
     "data": {
      "text/plain": [
       "<xarray.DataArray 'month' (time: 12)>\n",
       "array([5, 5, 5, 6, 6, 6, 7, 7, 8, 8, 8, 9])\n",
       "Coordinates:\n",
       "  * time     (time) datetime64[ns] 2016-05-07T01:12:49 2016-05-23T01:12:52 ..."
      ]
     },
     "execution_count": 31,
     "metadata": {},
     "output_type": "execute_result"
    }
   ],
   "source": [
    "#check that the months are within range\n",
    "dry_wetness_s2.time.dt.month"
   ]
  },
  {
   "cell_type": "code",
   "execution_count": 32,
   "metadata": {
    "collapsed": true
   },
   "outputs": [],
   "source": [
    "#make an array of all the wetnessess\n",
    "tcw_list = []\n",
    "for wetness in [wetness_sensor1_nbart,wetness_sensor2_nbart, wetness_sensor3_nbart]:\n",
    "    if wetness is not None:\n",
    "        tcw_list.append(wetness)\n",
    "tcw= xr.concat(tcw_list,dim='time')"
   ]
  },
  {
   "cell_type": "code",
   "execution_count": 33,
   "metadata": {},
   "outputs": [],
   "source": [
    "#make an array of only the wet season tcw\n",
    "wet_wetnessess = []\n",
    "for sensor_wet_wetness in [wet_wetness_s1,wet_wetness_s2, wet_wetness_s3]:\n",
    "    if sensor_wet_wetness is not None:\n",
    "        wet_wetnessess.append(sensor_wet_wetness)\n",
    "        wet_season_tcw= xr.concat(wet_wetnessess,dim='time')"
   ]
  },
  {
   "cell_type": "code",
   "execution_count": 34,
   "metadata": {
    "collapsed": true
   },
   "outputs": [],
   "source": [
    "#make an array of only the dry season tcw\n",
    "dry_wetnessess = []\n",
    "for sensor_dry_wetness in [dry_wetness_s1,dry_wetness_s2, dry_wetness_s3]:\n",
    "    if sensor_dry_wetness is not None:\n",
    "        dry_wetnessess.append(sensor_dry_wetness)\n",
    "        dry_season_tcw= xr.concat(dry_wetnessess,dim='time')"
   ]
  },
  {
   "cell_type": "markdown",
   "metadata": {},
   "source": [
    "## Calculate mean, median,percentile range in wetness\n",
    "### Do this for wet season, dry season and total"
   ]
  },
  {
   "cell_type": "code",
   "execution_count": null,
   "metadata": {
    "collapsed": true
   },
   "outputs": [],
   "source": [
    "#________________________this section in development"
   ]
  },
  {
   "cell_type": "markdown",
   "metadata": {},
   "source": [
    "### time means"
   ]
  },
  {
   "cell_type": "code",
   "execution_count": null,
   "metadata": {
    "collapsed": true
   },
   "outputs": [],
   "source": [
    "#calulate wet season, dry season and total time means\n",
    "mean_wet_tcw = wet_season_tcw.mean(dim='time')\n",
    "mean_dry_tcw = dry_season_tcw.mean(dim='time')\n",
    "mean_tcw = tcw.mean(dim='time')"
   ]
  },
  {
   "cell_type": "code",
   "execution_count": null,
   "metadata": {
    "collapsed": true,
    "scrolled": false
   },
   "outputs": [],
   "source": [
    "plt.clf()\n",
    "fig,axes = plt.subplots(ncols=2,nrows=3,figsize =(10,12))\n",
    "mean_wet_tcw.wetness.plot(ax=axes[0,0],cmap = 'gist_earth_r', vmin=-400, vmax=1700)\n",
    "mean_dry_tcw.wetness.plot(ax=axes[1,0],cmap = 'gist_earth_r', vmin=-400, vmax=1700)\n",
    "mean_tcw.wetness.plot(ax=axes[2,0],cmap = 'gist_earth_r', vmin=-400, vmax=1700)\n",
    "\n",
    "mean_wet_tcw.water_plus_wetveg.plot(ax=axes[0,1],cmap = 'gist_earth_r',vmin=-400, vmax=1700)\n",
    "mean_dry_tcw.water_plus_wetveg.plot(ax=axes[1,1],cmap = 'gist_earth_r',vmin=-400, vmax=1700)\n",
    "mean_tcw.water_plus_wetveg.plot(ax=axes[2,1],cmap = 'gist_earth_r',vmin=-400, vmax=1700)\n",
    "plt.tight_layout()\n",
    "plt.show()"
   ]
  },
  {
   "cell_type": "code",
   "execution_count": null,
   "metadata": {
    "collapsed": true
   },
   "outputs": [],
   "source": [
    "# do median\n",
    "median_wet_wetness = wet_season_tcw.median(dim='time', keep_attrs=True)\n",
    "median_dry_wetness = dry_season_tcw.median(dim='time', keep_attrs=True)\n",
    "median_wetness = tcw.median(dim='time', keep_attrs=True)"
   ]
  },
  {
   "cell_type": "code",
   "execution_count": null,
   "metadata": {
    "collapsed": true
   },
   "outputs": [],
   "source": [
    "plt.clf()\n",
    "fig,axes = plt.subplots(ncols=3,nrows=2,figsize =(12,8))\n",
    "median_wet_wetness.wetness.plot(ax=axes[0,0],cmap = 'gist_earth_r', vmin=-400, vmax=800)\n",
    "median_dry_wetness.wetness.plot(ax=axes[0,1],cmap = 'gist_earth_r', vmin=-400, vmax=800)\n",
    "median_wetness.wetness.plot(ax=axes[0,2],cmap = 'gist_earth_r', vmin=-400, vmax=800)\n",
    "\n",
    "median_wet_wetness.water_plus_wetveg.plot(ax=axes[1,0],cmap = 'gist_earth_r', vmin=-400, vmax=800)\n",
    "median_dry_wetness.water_plus_wetveg.plot(ax=axes[1,1],cmap = 'gist_earth_r', vmin=-400, vmax=800)\n",
    "median_wetness.water_plus_wetveg.plot(ax=axes[1,2],cmap = 'gist_earth_r', vmin=-400, vmax=800)\n",
    "plt.tight_layout()\n",
    "#fig.subplots_adjust(wspace=2)\n",
    "plt.show()"
   ]
  },
  {
   "cell_type": "code",
   "execution_count": null,
   "metadata": {
    "collapsed": true
   },
   "outputs": [],
   "source": [
    "# do standard deviation\n",
    "wet_sd = wet_season_tcw.std(dim='time', keep_attrs='True',skipna=True)\n",
    "dry_sd = dry_season_tcw.std(dim='time', keep_attrs='True',skipna=True)\n",
    "tcw_sd = tcw.std(dim='time', keep_attrs='True',skipna=True)"
   ]
  },
  {
   "cell_type": "code",
   "execution_count": null,
   "metadata": {
    "collapsed": true,
    "scrolled": false
   },
   "outputs": [],
   "source": [
    "plt.clf()\n",
    "fig,axes = plt.subplots(ncols=3,nrows=2,figsize =(15,8))\n",
    "#do for total tcw\n",
    "wet_sd.wetness.plot(ax=axes[0,0],cmap = 'viridis_r')#, vmin=-400, vmax=800)\n",
    "dry_sd.wetness.plot(ax=axes[0,1],cmap = 'viridis_r')#, vmin=-400, vmax=800)\n",
    "tcw_sd.wetness.plot(ax=axes[0,2],cmap = 'viridis_r')#, vmin=-400, vmax=800)\n",
    "\n",
    "#do for thresholded tcw\n",
    "wet_sd.water_plus_wetveg.plot(ax=axes[1,0],cmap = 'viridis_r')#, vmin=-400, vmax=800)\n",
    "dry_sd.water_plus_wetveg.plot(ax=axes[1,1],cmap = 'viridis_r')#, vmin=-400, vmax=800)\n",
    "tcw_sd.water_plus_wetveg.plot(ax=axes[1,2],cmap = 'viridis_r')#, vmin=-400, vmax=800)\n",
    "plt.tight_layout()\n",
    "#fig.subplots_adjust(wspace=2)\n",
    "plt.show()\n",
    "\n",
    "#brighter areas are higher sd"
   ]
  },
  {
   "cell_type": "code",
   "execution_count": 68,
   "metadata": {},
   "outputs": [
    {
     "name": "stdout",
     "output_type": "stream",
     "text": [
      "Once deleted, variables cannot be recovered. Proceed (y/[n])? y\n"
     ]
    }
   ],
   "source": [
    "%reset"
   ]
  },
  {
   "cell_type": "markdown",
   "metadata": {},
   "source": [
    "## Interquartile ranges still in development, pending what we want to do to them!"
   ]
  },
  {
   "cell_type": "code",
   "execution_count": null,
   "metadata": {
    "collapsed": true
   },
   "outputs": [],
   "source": [
    "# do quartile range\n",
    "#Nan percentile needed to deal with nans\n",
    "wet_90 = wet.reduce(np.nanpercentile, dim = 'time', q = 90, keep_attrs=True)\n",
    "wet_10 = wetness_sensor1_nbart.reduce(np.nanpercentile, dim = 'time', q = 10, keep_attrs=True)"
   ]
  },
  {
   "cell_type": "code",
   "execution_count": null,
   "metadata": {
    "collapsed": true,
    "scrolled": true
   },
   "outputs": [],
   "source": [
    "#Interpercentile range/ highest and lowest 10th percent\n",
    "wet1_under90 = wetness_sensor1_nbart.where(wetness_sensor1_nbart.wetness>=threshold95).dropna(dim = 'time')\n",
    "wet1_over90\n",
    "wet1_over10\n",
    "wet1_under10\n",
    "dry_yrs = year_avg_sp.where(year_avg_sp.rainfall<=threshold5).dropna(dim = 'time')"
   ]
  }
 ],
 "metadata": {
  "kernelspec": {
   "display_name": "Python 3",
   "language": "python",
   "name": "python3"
  },
  "language_info": {
   "codemirror_mode": {
    "name": "ipython",
    "version": 3
   },
   "file_extension": ".py",
   "mimetype": "text/x-python",
   "name": "python",
   "nbconvert_exporter": "python",
   "pygments_lexer": "ipython3",
   "version": "3.6.3"
  }
 },
 "nbformat": 4,
 "nbformat_minor": 2
}
