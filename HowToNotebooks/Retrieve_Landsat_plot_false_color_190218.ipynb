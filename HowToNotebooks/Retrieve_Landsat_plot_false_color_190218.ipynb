{
 "cells": [
  {
   "cell_type": "markdown",
   "metadata": {
    "ExecuteTime": {
     "end_time": "2018-02-19T03:59:02.784709Z",
     "start_time": "2018-02-19T03:59:02.780446Z"
    },
    "extensions": {
     "jupyter_dashboards": {
      "version": 1,
      "views": {
       "grid_default": {
        "col": 0,
        "height": 10,
        "hidden": false,
        "row": 0,
        "width": 12
       },
       "report_default": {}
      }
     }
    }
   },
   "source": [
    "# View Landsat 8 imagery for a chosen time period"
   ]
  },
  {
   "cell_type": "markdown",
   "metadata": {
    "collapsed": true,
    "extensions": {
     "jupyter_dashboards": {
      "version": 1,
      "views": {
       "grid_default": {
        "col": 0,
        "height": 27,
        "hidden": false,
        "row": 10,
        "width": 12
       },
       "report_default": {}
      }
     }
    }
   },
   "source": [
    "Get landsat 8 images for a given time period and lat/long extents, choose a image and plot a false color composite. Save plots, export xarray dataset to netCDF and translate to multiple geotiff files on the command line."
   ]
  },
  {
   "cell_type": "markdown",
   "metadata": {
    "extensions": {
     "jupyter_dashboards": {
      "version": 1,
      "views": {
       "grid_default": {
        "col": 0,
        "height": 7,
        "hidden": false,
        "row": 37,
        "width": 12
       },
       "report_default": {}
      }
     }
    }
   },
   "source": [
    "## First we import the modules we need"
   ]
  },
  {
   "cell_type": "code",
   "execution_count": 2,
   "metadata": {
    "ExecuteTime": {
     "end_time": "2018-02-19T04:34:21.968357Z",
     "start_time": "2018-02-19T04:34:19.058195Z"
    },
    "extensions": {
     "jupyter_dashboards": {
      "version": 1,
      "views": {
       "grid_default": {
        "col": 0,
        "height": 36,
        "hidden": false,
        "row": 44,
        "width": 4
       },
       "report_default": {}
      }
     }
    }
   },
   "outputs": [
    {
     "name": "stdout",
     "output_type": "stream",
     "text": [
      "Populating the interactive namespace from numpy and matplotlib\n"
     ]
    }
   ],
   "source": [
    "%pylab notebook\n",
    "\n",
    "import datacube\n",
    "from datacube.storage import masking\n",
    "from datacube.storage.masking import mask_to_dict\n",
    "from datacube.storage.storage import write_dataset_to_netcdf\n",
    "from datacube.helpers import ga_pq_fuser\n",
    "\n",
    "import pandas as pd\n",
    "import xarray as xr\n",
    "import numpy as np\n",
    "import csv\n",
    "import os\n",
    "import datetime\n",
    "\n",
    "from matplotlib.backends.backend_pdf import PdfPages\n",
    "from matplotlib import pyplot as plt\n",
    "import matplotlib.dates\n",
    "from IPython.display import display\n",
    "import ipywidgets as widgets\n",
    "\n",
    "import rasterio\n",
    "import urllib\n",
    "from pyproj import Proj, transform\n",
    "from dateutil import tz\n",
    "from_zone = tz.tzutc()\n",
    "to_zone = tz.tzlocal()\n",
    "dc = datacube.Datacube(app='dc-plot landsat  FalseColour')"
   ]
  },
  {
   "cell_type": "markdown",
   "metadata": {
    "ExecuteTime": {
     "end_time": "2018-02-18T23:44:25.963884Z",
     "start_time": "2018-02-18T23:44:25.958260Z"
    },
    "extensions": {
     "jupyter_dashboards": {
      "version": 1,
      "views": {
       "grid_default": {
        "col": 0,
        "height": 8,
        "hidden": false,
        "row": 80,
        "width": 12
       },
       "report_default": {}
      }
     }
    }
   },
   "source": [
    "## define a function to plot False Color composite"
   ]
  },
  {
   "cell_type": "code",
   "execution_count": 3,
   "metadata": {
    "ExecuteTime": {
     "end_time": "2018-02-19T04:34:22.194132Z",
     "start_time": "2018-02-19T04:34:21.970300Z"
    },
    "extensions": {
     "jupyter_dashboards": {
      "version": 1,
      "views": {
       "grid_default": {
        "hidden": true
       },
       "report_default": {}
      }
     }
    }
   },
   "outputs": [],
   "source": [
    "from matplotlib.pyplot import imshow\n",
    "from skimage import exposure\n",
    "\n",
    "def drawFalseColour(ds, time = 0):\n",
    "    '''this function takes the shape of an input band and uses swir1, nir and green to make and display a false\n",
    "    color composite. Written by Mike Barnes, edited by Bex Dunn and Claire Krause'''\n",
    "    t, y, x = ds['green'].shape\n",
    "    rawimg = np.zeros((y,x,3), dtype = np.float32)\n",
    "    for i, colour in enumerate(['swir1', 'nir', 'green']):\n",
    "        rawimg[:,:,i] = ds[colour][time].values\n",
    "    rawimg[rawimg == -999] = np.nan\n",
    "    img_toshow = exposure.equalize_hist(rawimg, mask = np.isfinite(rawimg))\n",
    "    fig = plt.figure(figsize=[10,10])\n",
    "    imshow(img_toshow)\n",
    "    ax = plt.gca()\n",
    "    ax.set_title(str(ds.time[time].values), fontweight = 'bold', fontsize = 16)\n",
    "    ax.set_xticklabels(ds.x.values)\n",
    "    ax.set_yticklabels(ds.y.values)\n",
    "    ax.set_xlabel('Eastings', fontweight = 'bold')\n",
    "    ax.set_ylabel('Northings', fontweight = 'bold')"
   ]
  },
  {
   "cell_type": "markdown",
   "metadata": {
    "extensions": {
     "jupyter_dashboards": {
      "version": 1,
      "views": {
       "grid_default": {
        "col": 4,
        "height": 4,
        "hidden": false,
        "row": 44,
        "width": 7
       },
       "report_default": {}
      }
     }
    }
   },
   "source": [
    "## Complete Datacube query"
   ]
  },
  {
   "cell_type": "markdown",
   "metadata": {
    "ExecuteTime": {
     "end_time": "2018-02-19T04:04:54.490169Z",
     "start_time": "2018-02-19T04:04:54.485826Z"
    },
    "extensions": {
     "jupyter_dashboards": {
      "version": 1,
      "views": {
       "grid_default": {
        "col": 0,
        "height": 10,
        "hidden": false,
        "row": 88,
        "width": 12
       },
       "report_default": {}
      }
     }
    }
   },
   "source": [
    "### Edit the start and end dates and spatial bounds here if you wish ***"
   ]
  },
  {
   "cell_type": "code",
   "execution_count": 4,
   "metadata": {
    "ExecuteTime": {
     "end_time": "2018-02-19T04:34:22.930124Z",
     "start_time": "2018-02-19T04:34:22.909650Z"
    },
    "extensions": {
     "jupyter_dashboards": {
      "version": 1,
      "views": {
       "grid_default": {
        "hidden": true
       },
       "report_default": {}
      }
     }
    }
   },
   "outputs": [],
   "source": [
    "#Spatiotemporal range and wavelengths/band of interest are defined\n",
    "\n",
    "#Temporal range is defined\n",
    "start_of_epoch = '2016-12-01'\n",
    "end_of_epoch =  '2017-01-30'\n",
    "\n",
    "#Wavelengths/bands of interest are defined\n",
    "bands_of_interest = ['green',\n",
    "                     'red', \n",
    "                     'nir',\n",
    "                     'swir1']\n",
    "\n",
    "#Sensors of interest are defined\n",
    "sensors = ['ls8']#,\"\n",
    "    #'ls7',\n",
    "    #'ls5' ] \n",
    "\n",
    "\n",
    "#Create bounding box around the location of the stream gauge\n",
    "lat_max = -29.97\n",
    "lat_min = -30.04\n",
    "lon_max = 146.93\n",
    "lon_min = 146.86\n",
    "\n",
    "#Create query\n",
    "query = {'time': (start_of_epoch, end_of_epoch)}\n",
    "query['x'] = (lon_min, lon_max)\n",
    "query['y'] = (lat_max, lat_min)\n",
    "query['crs'] = 'EPSG:4326'"
   ]
  },
  {
   "cell_type": "code",
   "execution_count": 5,
   "metadata": {
    "ExecuteTime": {
     "end_time": "2018-02-19T04:34:23.327663Z",
     "start_time": "2018-02-19T04:34:23.323838Z"
    },
    "extensions": {
     "jupyter_dashboards": {
      "version": 1,
      "views": {
       "grid_default": {
        "col": 0,
        "height": 60,
        "hidden": false,
        "row": 98,
        "width": 4
       },
       "report_default": {}
      }
     }
    }
   },
   "outputs": [
    {
     "name": "stdout",
     "output_type": "stream",
     "text": [
      "{'time': ('2016-12-01', '2017-01-30'), 'x': (146.86, 146.93), 'y': (-29.97, -30.04), 'crs': 'EPSG:4326'}\n"
     ]
    }
   ],
   "source": [
    "print(query)"
   ]
  },
  {
   "cell_type": "markdown",
   "metadata": {
    "ExecuteTime": {
     "end_time": "2018-02-19T04:05:12.700893Z",
     "start_time": "2018-02-19T04:05:12.693851Z"
    },
    "extensions": {
     "jupyter_dashboards": {
      "version": 1,
      "views": {
       "grid_default": {
        "col": 0,
        "height": 11,
        "hidden": false,
        "row": 158,
        "width": 12
       },
       "report_default": {}
      }
     }
    }
   },
   "source": [
    "### Create cloud mask. This will define which pixel quality (PQ) artefacts are removed from the results."
   ]
  },
  {
   "cell_type": "code",
   "execution_count": 6,
   "metadata": {
    "ExecuteTime": {
     "end_time": "2018-02-19T04:34:24.415990Z",
     "start_time": "2018-02-19T04:34:24.408587Z"
    },
    "extensions": {
     "jupyter_dashboards": {
      "version": 1,
      "views": {
       "grid_default": {
        "hidden": true
       },
       "report_default": {}
      }
     }
    }
   },
   "outputs": [],
   "source": [
    "mask_components = {'cloud_acca':'no_cloud',\n",
    "'cloud_shadow_acca' :'no_cloud_shadow',\n",
    "'cloud_shadow_fmask' : 'no_cloud_shadow',\n",
    "'cloud_fmask' :'no_cloud',\n",
    "'blue_saturated' : False,\n",
    "'green_saturated' : False,\n",
    "'red_saturated' : False,\n",
    "'nir_saturated' : False,\n",
    "'swir1_saturated' : False,\n",
    "'swir2_saturated' : False,\n",
    "'contiguous':True}"
   ]
  },
  {
   "cell_type": "markdown",
   "metadata": {
    "extensions": {
     "jupyter_dashboards": {
      "version": 1,
      "views": {
       "grid_default": {
        "col": 0,
        "height": 32,
        "hidden": false,
        "row": 169,
        "width": 12
       },
       "report_default": {}
      }
     }
    }
   },
   "source": [
    "## Complete Datacube extraction\n",
    "The extracted data is first filtered using the criteria in \"mask_components\".\n",
    "The cloudiness of the scenes is then tested, and any scenes that do not meet the given \"cloud_free_threshold\" are discarded. Change the cloud free threshold if you want less cloudy scenes."
   ]
  },
  {
   "cell_type": "code",
   "execution_count": 7,
   "metadata": {
    "ExecuteTime": {
     "end_time": "2018-02-19T04:34:26.191167Z",
     "start_time": "2018-02-19T04:34:26.188148Z"
    },
    "extensions": {
     "jupyter_dashboards": {
      "version": 1,
      "views": {
       "grid_default": {
        "hidden": true
       },
       "report_default": {}
      }
     }
    }
   },
   "outputs": [],
   "source": [
    "sensor_clean = {}\n",
    "cloud_free_threshold = 0 ###Scenes will not be retrieved that have less than the cloud threshold worth of image.\n"
   ]
  },
  {
   "cell_type": "markdown",
   "metadata": {
    "ExecuteTime": {
     "end_time": "2018-02-19T04:07:36.712207Z",
     "start_time": "2018-02-19T04:07:36.709253Z"
    },
    "extensions": {
     "jupyter_dashboards": {
      "version": 1,
      "views": {
       "grid_default": {
        "col": 0,
        "height": 8,
        "hidden": false,
        "row": 201,
        "width": 12
       },
       "report_default": {}
      }
     }
    }
   },
   "source": [
    "## Run the datacube extraction. This may take some time."
   ]
  },
  {
   "cell_type": "code",
   "execution_count": 8,
   "metadata": {
    "ExecuteTime": {
     "end_time": "2018-02-19T04:34:28.804862Z",
     "start_time": "2018-02-19T04:34:27.463669Z"
    },
    "extensions": {
     "jupyter_dashboards": {
      "version": 1,
      "views": {
       "grid_default": {
        "hidden": true
       },
       "report_default": {}
      }
     }
    },
    "scrolled": false
   },
   "outputs": [],
   "source": [
    "#Retrieve the data for each Landsat sensor\n",
    "sensor ='ls8'\n",
    "#Load the NBAR and corresponding PQ\n",
    "sensor_nbar = dc.load(product= sensor+'_nbar_albers', group_by='solar_day', \n",
    "                      measurements = bands_of_interest,  **query)\n",
    "\n",
    "sensor_pq = dc.load(product= sensor+'_pq_albers', group_by='solar_day', \n",
    "                    fuse_func=ga_pq_fuser, **query)\n",
    "\n",
    "#     #Retrieve the projection information before masking/sorting\n",
    "#     crs = sensor_nbar.crs\n",
    "#     crswkt = sensor_nbar.crs.wkt\n",
    "#     affine = sensor_nbar.affine\n",
    "\n",
    "#Ensure there's PQ to go with the NBAR\n",
    "sensor_nbar = sensor_nbar.sel(time = sensor_pq.time)\n",
    "\n",
    "#Apply the PQ masks to the NBAR\n",
    "quality_mask = masking.make_mask(sensor_pq, **mask_components)\n",
    "good_data = quality_mask.pixelquality.loc[start_of_epoch:end_of_epoch]\n",
    "sensor_nbar2 = sensor_nbar.where(good_data)\n",
    "\n",
    "#Calculate the percentage cloud free for each scene\n",
    "cloud_free = masking.make_mask(sensor_pq, cloud_acca='no_cloud', cloud_fmask='no_cloud', \n",
    "                               contiguous=True).pixelquality\n",
    "mostly_cloud_free = cloud_free.mean(dim=('x','y')) >= cloud_free_threshold\n",
    "\n",
    "#Discard data that does not meet the cloud_free_threshold\n",
    "mostly_good = sensor_nbar2.where(mostly_cloud_free).dropna(dim='time', how='all')\n",
    "#mostly_good['product'] = ('time', numpy.repeat(sensor.encode('ascii'), mostly_good.time.size))    \n",
    "nbar_clean = mostly_good"
   ]
  },
  {
   "cell_type": "code",
   "execution_count": 9,
   "metadata": {
    "ExecuteTime": {
     "end_time": "2018-02-19T04:34:29.346207Z",
     "start_time": "2018-02-19T04:34:29.340482Z"
    },
    "extensions": {
     "jupyter_dashboards": {
      "version": 1,
      "views": {
       "grid_default": {
        "hidden": true
       },
       "report_default": {}
      }
     }
    }
   },
   "outputs": [],
   "source": [
    "#Retrieve the projection information before masking/sorting\n",
    "crs = sensor_nbar.crs\n",
    "crswkt = sensor_nbar.crs.wkt\n",
    "affine = sensor_nbar.affine"
   ]
  },
  {
   "cell_type": "code",
   "execution_count": 10,
   "metadata": {
    "ExecuteTime": {
     "end_time": "2018-02-19T04:34:30.266269Z",
     "start_time": "2018-02-19T04:34:30.253664Z"
    },
    "extensions": {
     "jupyter_dashboards": {
      "version": 1,
      "views": {
       "grid_default": {
        "hidden": true
       },
       "report_default": {}
      }
     }
    }
   },
   "outputs": [],
   "source": [
    "#sort by time, to make sure data is organised by time, then reattach attributes\n",
    "time_sorted = nbar_clean.time.argsort()\n",
    "nbar_clean = nbar_clean.isel(time=time_sorted)\n",
    "nbar_clean.attrs['crs'] = crs\n",
    "nbar_clean.attrs['affine'] = affine"
   ]
  },
  {
   "cell_type": "code",
   "execution_count": 11,
   "metadata": {
    "ExecuteTime": {
     "end_time": "2018-02-19T04:34:30.892118Z",
     "start_time": "2018-02-19T04:34:30.872789Z"
    },
    "extensions": {
     "jupyter_dashboards": {
      "version": 1,
      "views": {
       "grid_default": {
        "col": 0,
        "height": 380,
        "hidden": false,
        "row": 209,
        "width": 4
       },
       "report_default": {}
      }
     }
    }
   },
   "outputs": [
    {
     "data": {
      "text/plain": [
       "<xarray.Dataset>\n",
       "Dimensions:  (time: 3, x: 303, y: 344)\n",
       "Coordinates:\n",
       "  * time     (time) datetime64[ns] 2016-12-12T00:07:55 2017-01-13T00:07:48 ...\n",
       "  * y        (y) float64 -3.342e+06 -3.342e+06 -3.342e+06 -3.342e+06 ...\n",
       "  * x        (x) float64 1.414e+06 1.414e+06 1.414e+06 1.414e+06 1.414e+06 ...\n",
       "Data variables:\n",
       "    green    (time, y, x) float64 941.0 892.0 934.0 936.0 914.0 883.0 889.0 ...\n",
       "    red      (time, y, x) float64 1.29e+03 1.209e+03 1.268e+03 1.299e+03 ...\n",
       "    nir      (time, y, x) float64 2.074e+03 1.958e+03 1.978e+03 2.043e+03 ...\n",
       "    swir1    (time, y, x) float64 2.788e+03 2.563e+03 2.538e+03 2.648e+03 ...\n",
       "Attributes:\n",
       "    crs:      EPSG:3577\n",
       "    affine:   | 25.00, 0.00, 1414025.00|\\n| 0.00,-25.00,-3342325.00|\\n| 0.00,..."
      ]
     },
     "execution_count": 11,
     "metadata": {},
     "output_type": "execute_result"
    }
   ],
   "source": [
    "#Check the data\n",
    "nbar_clean"
   ]
  },
  {
   "cell_type": "markdown",
   "metadata": {
    "extensions": {
     "jupyter_dashboards": {
      "version": 1,
      "views": {
       "grid_default": {
        "col": 0,
        "height": 11,
        "hidden": false,
        "row": 589,
        "width": 12
       },
       "report_default": {}
      }
     }
    }
   },
   "source": [
    "## Return just the time and sensor product information from the Datacube extraction"
   ]
  },
  {
   "cell_type": "code",
   "execution_count": 12,
   "metadata": {
    "ExecuteTime": {
     "end_time": "2018-02-19T04:34:33.022864Z",
     "start_time": "2018-02-19T04:34:33.012694Z"
    },
    "extensions": {
     "jupyter_dashboards": {
      "version": 1,
      "views": {
       "grid_default": {
        "hidden": true
       },
       "report_default": {}
      }
     }
    }
   },
   "outputs": [],
   "source": [
    "product_time = nbar_clean['time'].to_dataframe() #Add time and product to dataframe\n",
    "#product_time.index = product_time.index + pd.Timedelta(hours=10) #Roughly convert to local time\n",
    "product_time.index = product_time.index.map(lambda t: t.strftime('%Y-%m-%d')) #Remove Hours/Minutes Seconds by formatting into a string"
   ]
  },
  {
   "cell_type": "code",
   "execution_count": 13,
   "metadata": {
    "ExecuteTime": {
     "end_time": "2018-02-19T04:34:33.461357Z",
     "start_time": "2018-02-19T04:34:33.445016Z"
    },
    "extensions": {
     "jupyter_dashboards": {
      "version": 1,
      "views": {
       "grid_default": {
        "col": 4,
        "height": 45,
        "hidden": false,
        "row": 98,
        "width": 4
       },
       "report_default": {}
      }
     }
    }
   },
   "outputs": [
    {
     "name": "stdout",
     "output_type": "stream",
     "text": [
      "Index(['2016-12-12', '2017-01-13', '2017-01-29'], dtype='object', name='time')\n"
     ]
    }
   ],
   "source": [
    "print(product_time.index)"
   ]
  },
  {
   "cell_type": "markdown",
   "metadata": {
    "extensions": {
     "jupyter_dashboards": {
      "version": 1,
      "views": {
       "grid_default": {
        "col": 0,
        "height": 6,
        "hidden": false,
        "row": 600,
        "width": 12
       },
       "report_default": {}
      }
     }
    }
   },
   "source": [
    "# Make a false color image"
   ]
  },
  {
   "cell_type": "code",
   "execution_count": 14,
   "metadata": {
    "ExecuteTime": {
     "end_time": "2018-02-19T04:34:34.391532Z",
     "start_time": "2018-02-19T04:34:34.387090Z"
    },
    "extensions": {
     "jupyter_dashboards": {
      "version": 1,
      "views": {
       "grid_default": {
        "col": 8,
        "height": 45,
        "hidden": false,
        "row": 98,
        "width": 4
       },
       "report_default": {}
      }
     }
    }
   },
   "outputs": [
    {
     "name": "stdout",
     "output_type": "stream",
     "text": [
      "Index(['2016-12-12', '2017-01-13', '2017-01-29'], dtype='object', name='time')\n"
     ]
    }
   ],
   "source": [
    "print(product_time.index)"
   ]
  },
  {
   "cell_type": "code",
   "execution_count": 15,
   "metadata": {
    "ExecuteTime": {
     "end_time": "2018-02-19T04:34:35.200167Z",
     "start_time": "2018-02-19T04:34:34.946381Z"
    },
    "extensions": {
     "jupyter_dashboards": {
      "version": 1,
      "views": {
       "grid_default": {
        "col": 4,
        "height": 20,
        "hidden": false,
        "row": 48,
        "width": 4
       },
       "report_default": {}
      }
     }
    },
    "scrolled": false
   },
   "outputs": [
    {
     "name": "stdout",
     "output_type": "stream",
     "text": [
      "2016-12-12\n"
     ]
    },
    {
     "ename": "NameError",
     "evalue": "name 'drawTrueColour' is not defined",
     "output_type": "error",
     "traceback": [
      "\u001b[0;31m---------------------------------------------------------------------------\u001b[0m",
      "\u001b[0;31mNameError\u001b[0m                                 Traceback (most recent call last)",
      "\u001b[0;32m<ipython-input-15-5e1b6fba4af6>\u001b[0m in \u001b[0;36m<module>\u001b[0;34m()\u001b[0m\n\u001b[1;32m      3\u001b[0m     \u001b[0;31m#print('{}'.format(nbar_clean.time.values[i]))\u001b[0m\u001b[0;34m\u001b[0m\u001b[0;34m\u001b[0m\u001b[0m\n\u001b[1;32m      4\u001b[0m     \u001b[0mprint\u001b[0m\u001b[0;34m(\u001b[0m\u001b[0;34m'{}'\u001b[0m\u001b[0;34m.\u001b[0m\u001b[0mformat\u001b[0m\u001b[0;34m(\u001b[0m\u001b[0mproduct_time\u001b[0m\u001b[0;34m.\u001b[0m\u001b[0mindex\u001b[0m\u001b[0;34m[\u001b[0m\u001b[0mi\u001b[0m\u001b[0;34m]\u001b[0m\u001b[0;34m)\u001b[0m\u001b[0;34m)\u001b[0m\u001b[0;34m\u001b[0m\u001b[0m\n\u001b[0;32m----> 5\u001b[0;31m     \u001b[0mdrawTrueColour\u001b[0m\u001b[0;34m(\u001b[0m\u001b[0mnbar_clean\u001b[0m\u001b[0;34m,\u001b[0m \u001b[0mtime\u001b[0m \u001b[0;34m=\u001b[0m\u001b[0mi\u001b[0m\u001b[0;34m)\u001b[0m\u001b[0;34m\u001b[0m\u001b[0m\n\u001b[0m\u001b[1;32m      6\u001b[0m     \u001b[0mplt\u001b[0m\u001b[0;34m.\u001b[0m\u001b[0msavefig\u001b[0m\u001b[0;34m(\u001b[0m\u001b[0;34m'./{}.png'\u001b[0m\u001b[0;34m.\u001b[0m\u001b[0mformat\u001b[0m\u001b[0;34m(\u001b[0m\u001b[0mproduct_time\u001b[0m\u001b[0;34m.\u001b[0m\u001b[0mindex\u001b[0m\u001b[0;34m[\u001b[0m\u001b[0mi\u001b[0m\u001b[0;34m]\u001b[0m\u001b[0;34m)\u001b[0m\u001b[0;34m)\u001b[0m\u001b[0;34m\u001b[0m\u001b[0m\n",
      "\u001b[0;31mNameError\u001b[0m: name 'drawTrueColour' is not defined"
     ]
    }
   ],
   "source": [
    "for i in range(0,nbar_clean.time.size):\n",
    "    #print(i)\n",
    "    #print('{}'.format(nbar_clean.time.values[i]))\n",
    "    print('{}'.format(product_time.index[i]))\n",
    "    drawTrueColour(nbar_clean, time =i)\n",
    "    plt.savefig('./{}.png'.format(product_time.index[i]))"
   ]
  },
  {
   "cell_type": "markdown",
   "metadata": {
    "collapsed": true,
    "extensions": {
     "jupyter_dashboards": {
      "version": 1,
      "views": {
       "grid_default": {
        "col": 0,
        "height": 9,
        "hidden": false,
        "row": 606,
        "width": 12
       },
       "report_default": {}
      }
     }
    }
   },
   "source": [
    "# If required, save as image in netcdf format"
   ]
  },
  {
   "cell_type": "code",
   "execution_count": 16,
   "metadata": {
    "ExecuteTime": {
     "end_time": "2018-02-19T04:34:36.245207Z",
     "start_time": "2018-02-19T04:34:36.225380Z"
    },
    "extensions": {
     "jupyter_dashboards": {
      "version": 1,
      "views": {
       "grid_default": {
        "col": 4,
        "height": 380,
        "hidden": false,
        "row": 209,
        "width": 4
       },
       "report_default": {}
      }
     }
    }
   },
   "outputs": [
    {
     "data": {
      "text/plain": [
       "<xarray.Dataset>\n",
       "Dimensions:  (time: 3, x: 303, y: 344)\n",
       "Coordinates:\n",
       "  * time     (time) datetime64[ns] 2016-12-12T00:07:55 2017-01-13T00:07:48 ...\n",
       "  * y        (y) float64 -3.342e+06 -3.342e+06 -3.342e+06 -3.342e+06 ...\n",
       "  * x        (x) float64 1.414e+06 1.414e+06 1.414e+06 1.414e+06 1.414e+06 ...\n",
       "Data variables:\n",
       "    green    (time, y, x) float64 941.0 892.0 934.0 936.0 914.0 883.0 889.0 ...\n",
       "    red      (time, y, x) float64 1.29e+03 1.209e+03 1.268e+03 1.299e+03 ...\n",
       "    nir      (time, y, x) float64 2.074e+03 1.958e+03 1.978e+03 2.043e+03 ...\n",
       "    swir1    (time, y, x) float64 2.788e+03 2.563e+03 2.538e+03 2.648e+03 ...\n",
       "Attributes:\n",
       "    crs:      EPSG:3577\n",
       "    affine:   | 25.00, 0.00, 1414025.00|\\n| 0.00,-25.00,-3342325.00|\\n| 0.00,..."
      ]
     },
     "execution_count": 16,
     "metadata": {},
     "output_type": "execute_result"
    }
   ],
   "source": [
    "nbar_clean"
   ]
  },
  {
   "cell_type": "code",
   "execution_count": 17,
   "metadata": {
    "ExecuteTime": {
     "end_time": "2018-02-19T04:34:36.693063Z",
     "start_time": "2018-02-19T04:34:36.673657Z"
    },
    "extensions": {
     "jupyter_dashboards": {
      "version": 1,
      "views": {
       "grid_default": {
        "hidden": true
       },
       "report_default": {}
      }
     }
    }
   },
   "outputs": [],
   "source": [
    "def write_your_netcdf(data, dataset_name, filename, crs):\n",
    "    '''this function turns an xarray dataarray into a dataset so we can write it to netcdf. It adds on a crs definition\n",
    "    from the original array. data = your xarray dataset, dataset_name is a string describing your variable'''    \n",
    "    #turn array into dataset so we can write the netcdf\n",
    "    if isinstance(data,xr.DataArray):\n",
    "        dataset= data.to_dataset(name=dataset_name)\n",
    "    elif isinstance(data,xr.Dataset):\n",
    "        dataset = data\n",
    "    else:\n",
    "        print('your data might be the wrong type, it is: '+type(data))\n",
    "    #grab our crs attributes to write a spatially-referenced netcdf\n",
    "    dataset.attrs['crs'] = crs\n",
    "    dataset.attrs['affine'] =affine\n",
    "    #dataset.dataset_name.attrs['crs'] = crs\n",
    "    try:\n",
    "        write_dataset_to_netcdf(dataset, filename)\n",
    "    except RuntimeError as err:\n",
    "        print(\"RuntimeError: {0}\".format(err))        "
   ]
  },
  {
   "cell_type": "code",
   "execution_count": 18,
   "metadata": {
    "ExecuteTime": {
     "end_time": "2018-02-19T04:34:37.370195Z",
     "start_time": "2018-02-19T04:34:37.361830Z"
    },
    "extensions": {
     "jupyter_dashboards": {
      "version": 1,
      "views": {
       "grid_default": {
        "hidden": true
       },
       "report_default": {}
      }
     }
    }
   },
   "outputs": [
    {
     "name": "stdout",
     "output_type": "stream",
     "text": [
      "RuntimeError: Storage Unit already exists: test4_netcdf.nc\n"
     ]
    }
   ],
   "source": [
    "write_your_netcdf(nbar_clean.isel(time=0), 'nbar','./test4_netcdf.nc', crs=nbar_clean.crs)"
   ]
  },
  {
   "cell_type": "code",
   "execution_count": 19,
   "metadata": {
    "ExecuteTime": {
     "end_time": "2018-02-19T04:34:39.408410Z",
     "start_time": "2018-02-19T04:34:39.404132Z"
    },
    "extensions": {
     "jupyter_dashboards": {
      "version": 1,
      "views": {
       "grid_default": {
        "hidden": true
       },
       "report_default": {}
      }
     }
    }
   },
   "outputs": [],
   "source": [
    "## create a geotiff for each of the bands!"
   ]
  },
  {
   "cell_type": "code",
   "execution_count": 20,
   "metadata": {
    "ExecuteTime": {
     "end_time": "2018-02-19T04:34:41.746566Z",
     "start_time": "2018-02-19T04:34:41.345697Z"
    },
    "extensions": {
     "jupyter_dashboards": {
      "version": 1,
      "views": {
       "grid_default": {
        "col": 8,
        "height": 198,
        "hidden": false,
        "row": 209,
        "width": 4
       },
       "report_default": {}
      }
     }
    }
   },
   "outputs": [
    {
     "name": "stdout",
     "output_type": "stream",
     "text": [
      "Input file size is 303, 344\n",
      "0...10...20...30...40...50...60...70...80...90...100 - done.\n",
      "Input file size is 303, 344\n",
      "0...10...20...30...40...50...60...70...80...90...100 - done.\n",
      "Input file size is 303, 344\n",
      "0...10...20...30...40...50...60...70...80...90...100 - done.\n",
      "Input file size is 303, 344\n",
      "0...10...20...30...40...50...60...70...80...90...100 - done.\n"
     ]
    }
   ],
   "source": [
    "!gdal_translate -of GTIFF -sds \"./test4_netcdf.nc\" \"./test4_netcdf.tif\""
   ]
  },
  {
   "cell_type": "code",
   "execution_count": null,
   "metadata": {},
   "outputs": [],
   "source": []
  }
 ],
 "metadata": {
  "anaconda-cloud": {},
  "extensions": {
   "jupyter_dashboards": {
    "activeView": "grid_default",
    "version": 1,
    "views": {
     "grid_default": {
      "cellMargin": 10,
      "defaultCellHeight": 20,
      "maxColumns": 12,
      "name": "grid",
      "type": "grid"
     },
     "report_default": {
      "name": "report",
      "type": "report"
     }
    }
   }
  },
  "kernelspec": {
   "display_name": "Python 3",
   "language": "python",
   "name": "python3"
  },
  "language_info": {
   "codemirror_mode": {
    "name": "ipython",
    "version": 3
   },
   "file_extension": ".py",
   "mimetype": "text/x-python",
   "name": "python",
   "nbconvert_exporter": "python",
   "pygments_lexer": "ipython3",
   "version": "3.6.3"
  },
  "latex_envs": {
   "LaTeX_envs_menu_present": true,
   "autocomplete": true,
   "bibliofile": "biblio.bib",
   "cite_by": "apalike",
   "current_citInitial": 1,
   "eqLabelWithNumbers": true,
   "eqNumInitial": 1,
   "hotkeys": {
    "equation": "Ctrl-E",
    "itemize": "Ctrl-I"
   },
   "labels_anchors": false,
   "latex_user_defs": false,
   "report_style_numbering": false,
   "user_envs_cfg": false
  },
  "toc": {
   "nav_menu": {},
   "number_sections": true,
   "sideBar": true,
   "skip_h1_title": false,
   "toc_cell": false,
   "toc_position": {
    "height": "541px",
    "left": "0px",
    "right": "1164px",
    "top": "111px",
    "width": "104px"
   },
   "toc_section_display": "none",
   "toc_window_display": true
  },
  "widgets": {
   "state": {
    "6dc82a33fe67407293537fd5b961062a": {
     "views": [
      {
       "cell_index": 25
      }
     ]
    }
   },
   "version": "1.2.0"
  }
 },
 "nbformat": 4,
 "nbformat_minor": 1
}
