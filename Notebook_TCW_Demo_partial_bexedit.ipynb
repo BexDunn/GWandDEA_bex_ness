{
 "cells": [
  {
   "cell_type": "markdown",
   "metadata": {
    "extensions": {
     "jupyter_dashboards": {
      "version": 1,
      "views": {
       "grid_default": {
        "col": 0,
        "height": 4,
        "hidden": false,
        "row": 0,
        "width": 4
       },
       "report_default": {
        "hidden": false
       }
      }
     }
    }
   },
   "source": [
    "# <font color=green>Tasselled Cap Wetness Epoch Stats Summary Notebook</font>"
   ]
  },
  {
   "cell_type": "markdown",
   "metadata": {
    "extensions": {
     "jupyter_dashboards": {
      "version": 1,
      "views": {
       "grid_default": {},
       "report_default": {
        "hidden": false
       }
      }
     }
    }
   },
   "source": [
    "### Loads surface reflectance data from the data cube, calculates tasselled cap indices, and outputs a netcdf file. Created by Bex Dunn modified by Vanessa Newey"
   ]
  },
  {
   "cell_type": "code",
   "execution_count": 1,
   "metadata": {
    "extensions": {
     "jupyter_dashboards": {
      "version": 1,
      "views": {
       "grid_default": {
        "hidden": true
       },
       "report_default": {
        "hidden": false
       }
      }
     }
    }
   },
   "outputs": [],
   "source": [
    "#for writing to error files:\n",
    "from __future__ import print_function\n",
    "#get some libraries\n",
    "import datacube\n",
    "import xarray as xr\n",
    "from datacube.storage import masking\n",
    "#from datacube.storage.masking import mask_to_dict #think this is obsolete\n",
    "import json\n",
    "import pandas as pd\n",
    "import shapely\n",
    "from shapely.geometry import shape\n",
    "import numpy as np #need this for pq fuser\n",
    "\n",
    "#libraries for polygon and polygon mask\n",
    "import fiona\n",
    "import shapely.geometry\n",
    "import rasterio.features\n",
    "import rasterio\n",
    "from datacube.utils import geometry\n",
    "from datacube.helpers import ga_pq_fuser\n",
    "from datacube.storage.masking import mask_invalid_data\n",
    "\n",
    "#for writing to netcdf\n",
    "from datacube.storage.storage import write_dataset_to_netcdf\n",
    "#dealing with system commands\n",
    "import sys\n",
    "import os.path\n",
    "\n",
    "#####These not needed for raijin::::\n",
    "import matplotlib.pyplot as plt\n",
    "from ipywidgets import interact\n",
    "from IPython.display import display\n",
    "import ipywidgets as widgets\n",
    "\n",
    "#suppress warnings thrown when using inequalities in numpy (the threshold values!)\n",
    "import warnings\n",
    "\n",
    "def eprint(*args, **kwargs):\n",
    "    print(*args, file=sys.stderr, **kwargs)"
   ]
  },
  {
   "cell_type": "code",
   "execution_count": 2,
   "metadata": {
    "extensions": {
     "jupyter_dashboards": {
      "version": 1,
      "views": {
       "grid_default": {
        "hidden": true
       },
       "report_default": {
        "hidden": false
       }
      }
     }
    }
   },
   "outputs": [],
   "source": [
    "def load_nbart(sensor,query,bands_of_interest): \n",
    "    '''loads nbart data for a sensor, masks using pq, then filters out terrain -999s\n",
    "    function written 23-08-2017 based on dc v1.5.1'''  \n",
    "    dataset = []\n",
    "    product_name = '{}_{}_albers'.format(sensor, 'nbart')\n",
    "    print('loading {}'.format(product_name))\n",
    "    ds = dc.load(product=product_name, measurements=bands_of_interest,\n",
    "                 group_by='solar_day', **query)\n",
    "    #grab crs defs from loaded ds if ds exists\n",
    "    if ds:\n",
    "        crs = ds.crs\n",
    "        affine = ds.affine\n",
    "        print('loaded {}'.format(product_name))\n",
    "        mask_product = '{}_{}_albers'.format(sensor, 'pq')\n",
    "        sensor_pq = dc.load(product=mask_product, fuse_func=ga_pq_fuser,\n",
    "                            group_by='solar_day', **query)\n",
    "        if sensor_pq:\n",
    "            print('making mask {}'.format(mask_product))\n",
    "            cloud_free = masking.make_mask(sensor_pq.pixelquality,\n",
    "                                           cloud_acca='no_cloud',\n",
    "                                           cloud_shadow_acca = 'no_cloud_shadow',                           \n",
    "                                           cloud_shadow_fmask = 'no_cloud_shadow',\n",
    "                                           cloud_fmask='no_cloud',\n",
    "                                           blue_saturated = False,\n",
    "                                           green_saturated = False,\n",
    "                                           red_saturated = False,\n",
    "                                           nir_saturated = False,\n",
    "                                           swir1_saturated = False,\n",
    "                                           swir2_saturated = False,\n",
    "                                           contiguous=True)\n",
    "            ds = ds.where(cloud_free)\n",
    "            ds.attrs['crs'] = crs\n",
    "            ds.attrs['affine'] = affine\n",
    "            print('masked {} with {} and filtered terrain'.format(product_name,mask_product))\n",
    "            # nbarT is correctly used to correct terrain by replacing -999.0 with nan\n",
    "            ds=ds.where(ds!=-999.0)\n",
    "        else: \n",
    "            print('did not mask {} with {}'.format(product_name,mask_product))\n",
    "    else:\n",
    "        print ('did not load {}'.format(product_name)) \n",
    "\n",
    "    if len(ds)>0:\n",
    "        return ds\n",
    "    else:\n",
    "        return None"
   ]
  },
  {
   "cell_type": "code",
   "execution_count": 3,
   "metadata": {
    "extensions": {
     "jupyter_dashboards": {
      "version": 1,
      "views": {
       "grid_default": {
        "hidden": true
       },
       "report_default": {
        "hidden": false
       }
      }
     }
    }
   },
   "outputs": [],
   "source": [
    "def calc_wetness(sensor_data,sensor):\n",
    "    '''This function multiplies band data by wetness coefficients to produce a \"wetness\" band.\n",
    "    sensor_data is surface reflectance data loaded from the datacube\n",
    "    sensor = 'ls5, 'ls7' or 'ls8'\n",
    "    Coefficients are from Crist and Cicone 1984 for ls5 and ls7, and from Baig, Zhang, Shuai & Tong for ls8\n",
    "    function written 23-08-2017 based on dc v1.5.1'''\n",
    "    \n",
    "    wetness_coeff ={'ls5':{'blue':0.151, 'green':0.179, 'red':0.330, 'nir':0.341, 'swir1':-0.711, 'swir2':-0.457},\n",
    "                    'ls7':{'blue':0.151, 'green':0.179, 'red':0.330, 'nir':0.341, 'swir1':-0.711, 'swir2':-0.457},\n",
    "                    'ls8':{'blue':0.1511,'green':0.1973,'red':0.3283,'nir':0.3407,'swir1':-0.7117,'swir2':-0.4559}}  \n",
    "    \n",
    "    #if there is sensor data for the time period\n",
    "    if sensor_data is not None: \n",
    "        #make a deep copy of the sensor data\n",
    "        wetness = sensor_data.copy(deep=True)\n",
    "        #iterate over the spectral bands\n",
    "        for band_name in sensor_data.data_vars:\n",
    "            #multiply each band by the wetness transform coefficient to get a band-specific wetness value\n",
    "            wetness_band = sensor_data[band_name]*wetness_coeff[sensor][band_name]\n",
    "            #update the existing band data with the wetness data\n",
    "            wetness.update({band_name:(['time','y','x'],wetness_band)})\n",
    "        #finally, add a wetness data variable to the array that is the sum of the wetness \"bands\"    \n",
    "        wetness['wetness']=wetness.blue+wetness.green+wetness.red+wetness.nir+wetness.swir1+wetness.swir2    \n",
    "        print('calculated wetness for {}'.format(sensor))\n",
    "        wetness = wetness.drop(('blue','green','red','nir','swir1','swir2'))\n",
    "        return wetness\n",
    "    \n",
    "    else:\n",
    "        print('did not calculate wetness for {}'.format(sensor))\n",
    "        return None    "
   ]
  },
  {
   "cell_type": "code",
   "execution_count": 4,
   "metadata": {
    "extensions": {
     "jupyter_dashboards": {
      "version": 1,
      "views": {
       "grid_default": {
        "hidden": true
       },
       "report_default": {
        "hidden": false
       }
      }
     }
    }
   },
   "outputs": [],
   "source": [
    "def calc_wetveg_overthresh(wetness,threshold=-400):\n",
    "    '''Calculate the wetness values where wetness>threshold. Inputs are wetness array and threshold value, \n",
    "    default threshold is -400. Band for wetness>threshold is added to wetness. This is not the count.'''\n",
    "    if wetness is not None:\n",
    "        with warnings.catch_warnings():\n",
    "            #suppress irritating behaviour in xarray.where\n",
    "            warnings.simplefilter(\"ignore\")\n",
    "            #water_plus_wetveg is wetness values where wetness>threshold\n",
    "            wetness['water_plus_wetveg'] = wetness.wetness.where(wetness.wetness>threshold)\n",
    "            print('thresholded wetness added to array')\n",
    "            return wetness\n",
    "    else:\n",
    "        print('did not calculate wetness overthreshold' )\n",
    "        return None    "
   ]
  },
  {
   "cell_type": "code",
   "execution_count": 5,
   "metadata": {
    "extensions": {
     "jupyter_dashboards": {
      "version": 1,
      "views": {
       "grid_default": {
        "hidden": true
       },
       "report_default": {
        "hidden": false
       }
      }
     }
    }
   },
   "outputs": [],
   "source": [
    "def count_wets(wetness):\n",
    "    '''count the number of wetness scenes for each pixel,\n",
    "    count the amount of times that water plus wet veg is above the threshold\n",
    "    load both into memory (this assumes you are using dask),\n",
    "    return a dictionary of wet count and threshold count'''\n",
    "    if wetness is not None:\n",
    "        #count the number of wetness scenes for each pixel\n",
    "        wet_count = wetness.wetness.count(dim='time')\n",
    "\n",
    "        #count the amount of times that water plus wet veg is above the threshold\n",
    "        threshold_count= wetness.water_plus_wetveg.count(dim='time')\n",
    "        \n",
    "        #bring both counts into memory\n",
    "        wet_count.load()\n",
    "        threshold_count.load()\n",
    "        \n",
    "        #define dictionary of wet count and threshold count\n",
    "        counts = {'wet count':wet_count, 'threshold count':threshold_count}\n",
    "        print('counted')\n",
    "        return counts\n",
    "    else:\n",
    "        print('did not count' )\n",
    "        return None    "
   ]
  },
  {
   "cell_type": "code",
   "execution_count": 6,
   "metadata": {
    "extensions": {
     "jupyter_dashboards": {
      "version": 1,
      "views": {
       "grid_default": {
        "hidden": true
       },
       "report_default": {
        "hidden": false
       }
      }
     }
    }
   },
   "outputs": [],
   "source": [
    "def write_your_netcdf(data, dataset_name, filename,crs):\n",
    "    '''this function turns an xarray dataarray into a dataset so we can write it to netcdf. It adds on a crs definition\n",
    "    from the original array. data = your xarray dataset, dataset_name is a string describing your variable'''    \n",
    "    #turn array into dataset so we can write the netcdf\n",
    "    dataset= data.to_dataset(name=dataset_name)\n",
    "    #grab our crs attributes to write a spatially-referenced netcdf\n",
    "    dataset.attrs['crs'] = crs\n",
    "    #dataset.dataset_name.attrs['crs'] = crs\n",
    "    try:\n",
    "        write_dataset_to_netcdf(dataset, filename)\n",
    "    except RuntimeError as err:\n",
    "        print(\"RuntimeError: {0}\".format(err))        "
   ]
  },
  {
   "cell_type": "markdown",
   "metadata": {
    "collapsed": true,
    "extensions": {
     "jupyter_dashboards": {
      "version": 1,
      "views": {
       "grid_default": {
        "col": 4,
        "height": 4,
        "hidden": false,
        "row": 0,
        "width": 4
       },
       "report_default": {
        "hidden": false
       }
      }
     }
    }
   },
   "source": [
    "## Enter input shapefile, output file and start and end date"
   ]
  },
  {
   "cell_type": "code",
   "execution_count": 7,
   "metadata": {
    "extensions": {
     "jupyter_dashboards": {
      "version": 1,
      "views": {
       "grid_default": {
        "hidden": true
       },
       "report_default": {
        "hidden": false
       }
      }
     }
    }
   },
   "outputs": [],
   "source": [
    "#save netcdf outputs to this folder:\n",
    "netcdf_output_loc ='/g/data/r78/rjd547/groundwater_activities/Analysis/'\n",
    "\n",
    "#netcdf_output_loc ='/g/data/r78/'"
   ]
  },
  {
   "cell_type": "code",
   "execution_count": 8,
   "metadata": {
    "extensions": {
     "jupyter_dashboards": {
      "version": 1,
      "views": {
       "grid_default": {
        "hidden": true
       },
       "report_default": {
        "hidden": false
       }
      }
     }
    }
   },
   "outputs": [
    {
     "data": {
      "application/vnd.jupyter.widget-view+json": {
       "model_id": "ca97d0d31b5d4d21ba91d14c5d4dd4e4",
       "version_major": 2,
       "version_minor": 0
      },
      "text/html": [
       "<p>Failed to display Jupyter Widget of type <code>Text</code>.</p>\n",
       "<p>\n",
       "  If you're reading this message in Jupyter Notebook or JupyterLab, it may mean\n",
       "  that the widgets JavaScript is still loading. If this message persists, it\n",
       "  likely means that the widgets JavaScript library is either not installed or\n",
       "  not enabled. See the <a href=\"https://ipywidgets.readthedocs.io/en/stable/user_install.html\">Jupyter\n",
       "  Widgets Documentation</a> for setup instructions.\n",
       "</p>\n",
       "<p>\n",
       "  If you're reading this message in another notebook frontend (for example, a static\n",
       "  rendering on GitHub or <a href=\"https://nbviewer.jupyter.org/\">NBViewer</a>),\n",
       "  it may mean that your frontend doesn't currently support widgets.\n",
       "</p>\n"
      ],
      "text/plain": [
       "Text(value='/home/547/rjd547/jupyter_notebooks/GWandDEA_bex_ness/Little_GW_AOI_for_demo/kEEP_ord/KEEP_AOI.shp', description='path to shape file', layout=Layout(width='70%'), placeholder='update this field', style=DescriptionStyle(description_width='initial'))"
      ]
     },
     "metadata": {},
     "output_type": "display_data"
    }
   ],
   "source": [
    "#code to work with a polygon input\n",
    "shape_file = ('/home/547/rjd547/jupyter_notebooks/GWandDEA_bex_ness/Little_GW_AOI_for_demo/kEEP_ord/KEEP_AOI.shp')\n",
    "style = {'description_width': 'initial'}\n",
    "shape_file_text = widgets.Text(value=shape_file,placeholder='update this field',\n",
    "    description='path to shape file',\n",
    "    style = {'description_width': 'initial'},                          \n",
    "    disabled=False,\n",
    "    layout=widgets.Layout(width='70%'))\n",
    "def handle_shape_file(sender):\n",
    "    shape_file=shape_file_text.value\n",
    "shape_file_text.observe(handle_shape_file)\n",
    "display(shape_file_text)\n",
    "# open all the shapes within the shape file\n",
    "shapes = fiona.open(shape_file)"
   ]
  },
  {
   "cell_type": "code",
   "execution_count": 9,
   "metadata": {
    "extensions": {
     "jupyter_dashboards": {
      "version": 1,
      "views": {
       "grid_default": {
        "hidden": true
       },
       "report_default": {
        "hidden": false
       }
      }
     }
    }
   },
   "outputs": [],
   "source": [
    "#i is the index of the shape file we have chosen\n",
    "i =0 \n",
    "#copy attributes from shapefile and define shape_name\n",
    "geom_crs = geometry.CRS(shapes.crs_wkt)\n",
    "geo = shapes[i]['geometry']\n",
    "geom = geometry.Geometry(geo, crs=geom_crs)\n",
    "geom_bs = shapely.geometry.shape(shapes[i]['geometry'])\n",
    "shape_name = shape_file.split('/')[-1].split('.')[0]+'_'+str(i)\n"
   ]
  },
  {
   "cell_type": "code",
   "execution_count": 10,
   "metadata": {
    "extensions": {
     "jupyter_dashboards": {
      "version": 1,
      "views": {
       "grid_default": {
        "hidden": true
       },
       "report_default": {
        "hidden": false
       }
      }
     }
    }
   },
   "outputs": [
    {
     "data": {
      "application/vnd.jupyter.widget-view+json": {
       "model_id": "a236e416365944a4ba908c976c1dfd94",
       "version_major": 2,
       "version_minor": 0
      },
      "text/html": [
       "<p>Failed to display Jupyter Widget of type <code>Label</code>.</p>\n",
       "<p>\n",
       "  If you're reading this message in Jupyter Notebook or JupyterLab, it may mean\n",
       "  that the widgets JavaScript is still loading. If this message persists, it\n",
       "  likely means that the widgets JavaScript library is either not installed or\n",
       "  not enabled. See the <a href=\"https://ipywidgets.readthedocs.io/en/stable/user_install.html\">Jupyter\n",
       "  Widgets Documentation</a> for setup instructions.\n",
       "</p>\n",
       "<p>\n",
       "  If you're reading this message in another notebook frontend (for example, a static\n",
       "  rendering on GitHub or <a href=\"https://nbviewer.jupyter.org/\">NBViewer</a>),\n",
       "  it may mean that your frontend doesn't currently support widgets.\n",
       "</p>\n"
      ],
      "text/plain": [
       "Label(value='Please enter the filename including the path to the output NetCDF file')"
      ]
     },
     "metadata": {},
     "output_type": "display_data"
    },
    {
     "data": {
      "application/vnd.jupyter.widget-view+json": {
       "model_id": "b78ef1726ea34080bee16134f0f81d81",
       "version_major": 2,
       "version_minor": 0
      },
      "text/html": [
       "<p>Failed to display Jupyter Widget of type <code>Text</code>.</p>\n",
       "<p>\n",
       "  If you're reading this message in Jupyter Notebook or JupyterLab, it may mean\n",
       "  that the widgets JavaScript is still loading. If this message persists, it\n",
       "  likely means that the widgets JavaScript library is either not installed or\n",
       "  not enabled. See the <a href=\"https://ipywidgets.readthedocs.io/en/stable/user_install.html\">Jupyter\n",
       "  Widgets Documentation</a> for setup instructions.\n",
       "</p>\n",
       "<p>\n",
       "  If you're reading this message in another notebook frontend (for example, a static\n",
       "  rendering on GitHub or <a href=\"https://nbviewer.jupyter.org/\">NBViewer</a>),\n",
       "  it may mean that your frontend doesn't currently support widgets.\n",
       "</p>\n"
      ],
      "text/plain": [
       "Text(value='/g/data/r78/rjd547/groundwater_activities/Analysis/KEEP_AOI_0test1.nc', description='path to output file', layout=Layout(width='70%'), placeholder='update this field', style=DescriptionStyle(description_width='initial'))"
      ]
     },
     "metadata": {},
     "output_type": "display_data"
    }
   ],
   "source": [
    "# #check if the file has already been written:\n",
    "filename = netcdf_output_loc+shape_name+'test1.nc'\n",
    "infoLabel = widgets.Label(value=\"Please enter the filename including the path to the output NetCDF file\",\n",
    "    color='Red')\n",
    "display(infoLabel)\n",
    "\n",
    "output_file_text = widgets.Text(value=filename,placeholder='update this field',\n",
    "    description='path to output file',\n",
    "    style = {'description_width': 'initial'},\n",
    "    disabled=False,\n",
    "    layout=widgets.Layout(width='70%'))\n",
    "def handle_output_file(sender):\n",
    "    filename=output_file_text.value\n",
    "    if os.path.isfile(filename):\n",
    "        infoLabel.value = '{} already exists please change filename'.format(filename)\n",
    "       # display(infoLabel)\n",
    "    else:\n",
    "        infoLabel.value = '{} is the output filename'.format(filename)\n",
    "output_file_text.on_submit(handle_output_file)\n",
    "display(output_file_text)\n",
    "\n",
    "\n",
    "    "
   ]
  },
  {
   "cell_type": "code",
   "execution_count": 11,
   "metadata": {
    "extensions": {
     "jupyter_dashboards": {
      "version": 1,
      "views": {
       "grid_default": {
        "hidden": true
       },
       "report_default": {
        "hidden": false
       }
      }
     }
    }
   },
   "outputs": [],
   "source": [
    "#tell the datacube which app to use\n",
    "dc = datacube.Datacube(app='dc-nbar')"
   ]
  },
  {
   "cell_type": "code",
   "execution_count": 12,
   "metadata": {
    "extensions": {
     "jupyter_dashboards": {
      "version": 1,
      "views": {
       "grid_default": {
        "hidden": true
       },
       "report_default": {
        "hidden": false
       }
      }
     }
    }
   },
   "outputs": [
    {
     "data": {
      "application/vnd.jupyter.widget-view+json": {
       "model_id": "ba178627abd54aa58f3753b015385ff7",
       "version_major": 2,
       "version_minor": 0
      },
      "text/html": [
       "<p>Failed to display Jupyter Widget of type <code>Text</code>.</p>\n",
       "<p>\n",
       "  If you're reading this message in Jupyter Notebook or JupyterLab, it may mean\n",
       "  that the widgets JavaScript is still loading. If this message persists, it\n",
       "  likely means that the widgets JavaScript library is either not installed or\n",
       "  not enabled. See the <a href=\"https://ipywidgets.readthedocs.io/en/stable/user_install.html\">Jupyter\n",
       "  Widgets Documentation</a> for setup instructions.\n",
       "</p>\n",
       "<p>\n",
       "  If you're reading this message in another notebook frontend (for example, a static\n",
       "  rendering on GitHub or <a href=\"https://nbviewer.jupyter.org/\">NBViewer</a>),\n",
       "  it may mean that your frontend doesn't currently support widgets.\n",
       "</p>\n"
      ],
      "text/plain": [
       "Text(value='2016-01-01', description='start date', placeholder='update this field')"
      ]
     },
     "metadata": {},
     "output_type": "display_data"
    },
    {
     "data": {
      "application/vnd.jupyter.widget-view+json": {
       "model_id": "b8cf72ee3dc84d678d2fb0bf127f0cd9",
       "version_major": 2,
       "version_minor": 0
      },
      "text/html": [
       "<p>Failed to display Jupyter Widget of type <code>Text</code>.</p>\n",
       "<p>\n",
       "  If you're reading this message in Jupyter Notebook or JupyterLab, it may mean\n",
       "  that the widgets JavaScript is still loading. If this message persists, it\n",
       "  likely means that the widgets JavaScript library is either not installed or\n",
       "  not enabled. See the <a href=\"https://ipywidgets.readthedocs.io/en/stable/user_install.html\">Jupyter\n",
       "  Widgets Documentation</a> for setup instructions.\n",
       "</p>\n",
       "<p>\n",
       "  If you're reading this message in another notebook frontend (for example, a static\n",
       "  rendering on GitHub or <a href=\"https://nbviewer.jupyter.org/\">NBViewer</a>),\n",
       "  it may mean that your frontend doesn't currently support widgets.\n",
       "</p>\n"
      ],
      "text/plain": [
       "Text(value='2016-12-31', description='end date', placeholder='update this field')"
      ]
     },
     "metadata": {},
     "output_type": "display_data"
    }
   ],
   "source": [
    "#### DEFINE SPATIOTEMPORAL RANGE AND BANDS OF INTEREST\n",
    "#Define temporal range\n",
    "\n",
    "start_of_epoch = '2016-01-01'\n",
    "end_of_epoch =  '2016-12-31'\n",
    "#TODO Replace with datepicker widget when ipywidgets devs sort this out\n",
    "from_date_picker = widgets.Text(value=start_of_epoch,placeholder='update this field',\n",
    "    description='start date',\n",
    "    disabled=False)\n",
    "def handle_from_date(sender):\n",
    "    start_of_epoch=from_date_picker.value\n",
    "from_date_picker.observe(handle_from_date)\n",
    "display(from_date_picker)\n",
    "\n",
    "#TODO Replace with datepicker widget when ipywidgets devs sort this out\n",
    "to_date_picker = widgets.Text(value = end_of_epoch,placeholder='update this field',\n",
    "    description='end date',\n",
    "    disabled=False)\n",
    "def handle_to_date(sender):\n",
    "    end_of_epoch = to_date_picker.value\n",
    "to_date_picker.observe(handle_to_date)\n",
    "display(to_date_picker)\n"
   ]
  },
  {
   "cell_type": "code",
   "execution_count": 13,
   "metadata": {
    "extensions": {
     "jupyter_dashboards": {
      "version": 1,
      "views": {
       "grid_default": {
        "hidden": true
       },
       "report_default": {
        "hidden": false
       }
      }
     }
    }
   },
   "outputs": [
    {
     "name": "stdout",
     "output_type": "stream",
     "text": [
      "loading ls5_nbart_albers\n",
      "did not load ls5_nbart_albers\n",
      "loading ls7_nbart_albers\n",
      "loaded ls7_nbart_albers\n",
      "making mask ls7_pq_albers\n",
      "masked ls7_nbart_albers with ls7_pq_albers and filtered terrain\n",
      "loading ls8_nbart_albers\n",
      "loaded ls8_nbart_albers\n",
      "making mask ls8_pq_albers\n",
      "masked ls8_nbart_albers with ls8_pq_albers and filtered terrain\n",
      "Calculate wetness for each timeslice\n",
      "did not calculate wetness for ls5\n",
      "calculated wetness for ls7\n",
      "calculated wetness for ls8\n",
      "Calculate wetness over the threshold for each timeslice (remove values under the threshold)\n",
      "did not calculate wetness overthreshold\n",
      "thresholded wetness added to array\n",
      "thresholded wetness added to array\n",
      "ran fine no issues\n"
     ]
    }
   ],
   "source": [
    "\n",
    "#Define wavelengths/bands of interest, remove this kwarg to retrieve all bands\n",
    "bands_of_interest = ['blue',\n",
    "                     'green',\n",
    "                     'red',\n",
    "                     'nir',\n",
    "                     'swir1',\n",
    "                     'swir2'\n",
    "                     ]\n",
    "\n",
    "query = {\n",
    "    'time': (start_of_epoch, end_of_epoch), 'geopolygon': geom\n",
    "}\n",
    "\n",
    "\n",
    "#this is done separately instead of in a loop because the datasets can be quite large.\n",
    "#currently this is a way of memory handling -there is probably a better way of doing it.\n",
    "sensor1_nbart=load_nbart('ls5',query,bands_of_interest)\n",
    "sensor2_nbart=load_nbart('ls7',query,bands_of_interest)\n",
    "sensor3_nbart=load_nbart('ls8',query,bands_of_interest)\n",
    "\n",
    "print('Calculate wetness for each timeslice')\n",
    "\n",
    "wetness_sensor1_nbart=calc_wetness(sensor1_nbart,'ls5')\n",
    "wetness_sensor2_nbart=calc_wetness(sensor2_nbart,'ls7')\n",
    "wetness_sensor3_nbart=calc_wetness(sensor3_nbart,'ls8')\n",
    "\n",
    "print('Calculate wetness over the threshold for each timeslice (remove values under the threshold)')\n",
    "\n",
    "water_plus_wetveg_1 =calc_wetveg_overthresh(wetness_sensor1_nbart)\n",
    "water_plus_wetveg_2 =calc_wetveg_overthresh(wetness_sensor2_nbart)\n",
    "water_plus_wetveg_3 =calc_wetveg_overthresh(wetness_sensor3_nbart)\n",
    "\n",
    "wetness_multi =water_plus_wetveg_3\n",
    "nbart_multi = sensor3_nbart\n",
    "#wetness_multi = xr.concat([water_plus_wetveg_1,water_plus_wetveg_2,water_plus_wetveg_3], dim='time')\n",
    "#nbart_multi = xr.concat([sensor1_nbart,sensor2_nbart,sensor3_nbart], dim ='time')\n",
    "# Set the percentage of good data that you'd like to display with pernan variable - 0.9 will return rows that have 90%\n",
    "# of valid values\n",
    "pernan = 0.8\n",
    "water_plus_veg_sum = wetness_multi#.dropna('time',  thresh = int(pernan*wetness_multi.wetness.isel(time=0).size))\n",
    "nbart_multi_drop = nbart_multi.where(nbart_multi.time  == water_plus_veg_sum.time)\n",
    "print('ran fine no issues')\n"
   ]
  },
  {
   "cell_type": "code",
   "execution_count": null,
   "metadata": {
    "extensions": {
     "jupyter_dashboards": {
      "version": 1,
      "views": {
       "grid_default": {},
       "report_default": {
        "hidden": true
       }
      }
     }
    }
   },
   "outputs": [],
   "source": []
  },
  {
   "cell_type": "code",
   "execution_count": 14,
   "metadata": {
    "extensions": {
     "jupyter_dashboards": {
      "version": 1,
      "views": {
       "grid_default": {
        "hidden": true
       },
       "report_default": {
        "hidden": false
       }
      }
     }
    }
   },
   "outputs": [
    {
     "data": {
      "application/vnd.jupyter.widget-view+json": {
       "model_id": "d65d20857f7a49cbbd4ef2a0bdf54fc5",
       "version_major": 2,
       "version_minor": 0
      },
      "text/html": [
       "<p>Failed to display Jupyter Widget of type <code>Button</code>.</p>\n",
       "<p>\n",
       "  If you're reading this message in Jupyter Notebook or JupyterLab, it may mean\n",
       "  that the widgets JavaScript is still loading. If this message persists, it\n",
       "  likely means that the widgets JavaScript library is either not installed or\n",
       "  not enabled. See the <a href=\"https://ipywidgets.readthedocs.io/en/stable/user_install.html\">Jupyter\n",
       "  Widgets Documentation</a> for setup instructions.\n",
       "</p>\n",
       "<p>\n",
       "  If you're reading this message in another notebook frontend (for example, a static\n",
       "  rendering on GitHub or <a href=\"https://nbviewer.jupyter.org/\">NBViewer</a>),\n",
       "  it may mean that your frontend doesn't currently support widgets.\n",
       "</p>\n"
      ],
      "text/plain": [
       "Button(description='Plot outputs', style=ButtonStyle())"
      ]
     },
     "metadata": {},
     "output_type": "display_data"
    },
    {
     "data": {
      "application/vnd.jupyter.widget-view+json": {
       "model_id": "fa03a41d7ba24c868581cdbd18899849",
       "version_major": 2,
       "version_minor": 0
      },
      "text/html": [
       "<p>Failed to display Jupyter Widget of type <code>interactive</code>.</p>\n",
       "<p>\n",
       "  If you're reading this message in Jupyter Notebook or JupyterLab, it may mean\n",
       "  that the widgets JavaScript is still loading. If this message persists, it\n",
       "  likely means that the widgets JavaScript library is either not installed or\n",
       "  not enabled. See the <a href=\"https://ipywidgets.readthedocs.io/en/stable/user_install.html\">Jupyter\n",
       "  Widgets Documentation</a> for setup instructions.\n",
       "</p>\n",
       "<p>\n",
       "  If you're reading this message in another notebook frontend (for example, a static\n",
       "  rendering on GitHub or <a href=\"https://nbviewer.jupyter.org/\">NBViewer</a>),\n",
       "  it may mean that your frontend doesn't currently support widgets.\n",
       "</p>\n"
      ],
      "text/plain": [
       "interactive(children=(IntSlider(value=11, description='n', max=22), Output()), _dom_classes=('widget-interact',))"
      ]
     },
     "metadata": {},
     "output_type": "display_data"
    },
    {
     "name": "stdout",
     "output_type": "stream",
     "text": [
      "Count number of wetness scenes and number of times tcw above threshold for each pixel\n",
      "did not count\n",
      "counted\n",
      "counted\n"
     ]
    },
    {
     "data": {
      "image/png": "[encoded data removed]",
      "text/plain": [
       "<matplotlib.figure.Figure at 0x7f60ee913908>"
      ]
     },
     "metadata": {},
     "output_type": "display_data"
    },
    {
     "name": "stdout",
     "output_type": "stream",
     "text": [
      "Divide the number of times wetness is seen per pixel by the number of wetness scenes per pixel to get a proportion of time that the pixel is wet\n",
      "successfully ran TCW for KEEP_AOI_0 polygon number 0\n",
      "EPSG:3577\n",
      "EPSG:3577\n"
     ]
    }
   ],
   "source": [
    "plot_button = widgets.Button(description='Plot outputs')\n",
    "def handle_plot_save(b):\n",
    "    def f(n):\n",
    "        try:\n",
    "            plt.clf\n",
    "            fig, (ax1,ax2) = plt.subplots(figsize=(12,5),ncols=2)        \n",
    "            water_plus_veg_sum.wetness.isel(time=n).plot(ax=ax1, cmap='Blues')                \n",
    "            #print(nbart_multi_drop2.time)\n",
    "            #nbart_multi_drop2.red.isel(time=n).plot(ax=ax2, cmap='Blues')\n",
    "            rgb = nbart_multi_drop.isel(time =n).to_array(dim='color').sel(color=['swir1', 'nir', 'green']).transpose('y', 'x', 'color')\n",
    "            #rgb = nbar_clean.isel(time =time_slice).to_array(dim='color').sel(color=['swir1', 'nir', 'green']).transpose('y', 'x', 'color')\n",
    "            fake_saturation = 4500\n",
    "            clipped_visible = rgb.where(rgb<fake_saturation).fillna(fake_saturation)\n",
    "            max_val = clipped_visible.max(['y', 'x'])\n",
    "            scaled = (clipped_visible / max_val)\n",
    "\n",
    "            ax2.imshow(scaled, interpolation = 'nearest',\n",
    "               extent=[scaled.coords['x'].min(), scaled.coords['x'].max(), \n",
    "                       scaled.coords['y'].min(), scaled.coords['y'].max()])\n",
    "\n",
    "            date_ = nbart_multi_drop.isel(time=n).time.data\n",
    "            #ax2.set_title(date_.astype('datetime64[D]'))\n",
    "            ax2.set_title(str(date_))\n",
    "\n",
    "            fig.text=str(water_plus_veg_sum.wetness.isel(time=n).time)\n",
    "\n",
    "\n",
    "            plt.tight_layout()\n",
    "            plt.show()\n",
    "        except:\n",
    "            print('timeslice ' + str(water_plus_veg_sum.wetness.isel(time=n).time.time) + ' has some null data')\n",
    "\n",
    "\n",
    "    timeslices = len(water_plus_veg_sum.time)                                    \n",
    "    interact(f,n=(0,timeslices-1),value=timeslices-1)\n",
    "    display()\n",
    "\n",
    "    print('Count number of wetness scenes and number of times tcw above threshold for each pixel')\n",
    "\n",
    "    counts_sensor_1_nbart = count_wets(wetness_sensor1_nbart)\n",
    "    counts_sensor_2_nbart = count_wets(wetness_sensor2_nbart)\n",
    "    counts_sensor_3_nbart = count_wets(wetness_sensor3_nbart)\n",
    "\n",
    "    test = counts_sensor_3_nbart['threshold count']/counts_sensor_3_nbart['wet count']\n",
    "    test.plot(cmap ='gist_earth_r')\n",
    "    plt.show()\n",
    "\n",
    "    print('Divide the number of times wetness is seen per pixel by the number of wetness scenes per pixel to get a proportion of time that the pixel is wet')\n",
    "\n",
    "    counts_list = [counts_sensor_1_nbart, counts_sensor_2_nbart,counts_sensor_3_nbart]\n",
    "    threshold_list =[]\n",
    "    wet_list=[]\n",
    "    for acount in counts_list:\n",
    "        #test for data existence\n",
    "        if acount is not None:\n",
    "            wet_count = acount['wet count']\n",
    "            threshold = acount['threshold count']\n",
    "            threshold_list.append(threshold)\n",
    "            wet_list.append(wet_count)\n",
    "    #times wetness is over threshold by pixel         \n",
    "    threshold_allsensors = sum(threshold_list) \n",
    "    #number of wetness scenes by pixel\n",
    "    wet_count_allsensors = sum(wet_list)        \n",
    "    wet_proportion_allsensors = threshold_allsensors/wet_count_allsensors\n",
    "\n",
    "    wet_proportion_allsensors.plot(cmap ='gist_earth_r')\n",
    "\n",
    "    print('successfully ran TCW for '+shape_name+' polygon number '+str(i))\n",
    "\n",
    "    ## this is to steal the crs from whichever wetness array actually has one\n",
    "\n",
    "    if wetness_sensor1_nbart is not None:\n",
    "        crs = wetness_sensor1_nbart.crs\n",
    "    else:\n",
    "        if wetness_sensor2_nbart is not None:\n",
    "            crs = wetness_sensor2_nbart.crs\n",
    "        else: \n",
    "            crs = wetness_sensor3_nbart.crs\n",
    "    print(crs)     \n",
    "\n",
    "    if wetness_sensor1_nbart is not None:\n",
    "        crs = wetness_sensor1_nbart.crs\n",
    "    else:\n",
    "        if wetness_sensor2_nbart is not None:\n",
    "            crs = wetness_sensor2_nbart.crs\n",
    "        else: \n",
    "            crs = wetness_sensor3_nbart.crs\n",
    "    print(crs)     \n",
    "\n",
    "#     write_your_netcdf(wet_proportion_allsensors,'tcw',filename=filename, crs=crs)\n",
    "#     print('successfully wrote tcw netcdf for '+shape_name+' polygon number '+str(i))\n",
    "#     eprint('successfully wrote tcw netcdf for for '+shape_name+' polygon number '+str(i))\n",
    "\n",
    "#     #overthresh is observations over our wetness threshold count per pixel\n",
    "#     write_your_netcdf(threshold_allsensors,'overthresh',filename=netcdf_output_loc+shape_name+'_overthresh.nc',crs=crs)\n",
    "#     print('successfully wrote overthresh netCDF for '+shape_name+' polygon number '+str(i))\n",
    "#     eprint('successfully wrote overthresh netCDFfor '+shape_name+' polygon number '+str(i))\n",
    "\n",
    "#     #clear_observations is count of wetness scenes at pixel\n",
    "#     write_your_netcdf(wet_count_allsensors,'clearobs',filename=netcdf_output_loc+shape_name+'_clearobs.nc',crs=crs)\n",
    "#     print('successfully wrote clearobs netCDF for '+shape_name+' polygon number '+str(i))\n",
    "#     eprint('successfully wrote clearobs netCDFfor '+shape_name+' polygon number '+str(i))\n",
    "display(plot_button)\n",
    "plot_button.on_click(handle_plot_save)"
   ]
  },
  {
   "cell_type": "code",
   "execution_count": null,
   "metadata": {
    "extensions": {
     "jupyter_dashboards": {
      "version": 1,
      "views": {
       "grid_default": {},
       "report_default": {
        "hidden": false
       }
      }
     }
    }
   },
   "outputs": [],
   "source": []
  },
  {
   "cell_type": "code",
   "execution_count": null,
   "metadata": {
    "extensions": {
     "jupyter_dashboards": {
      "version": 1,
      "views": {
       "grid_default": {},
       "report_default": {
        "hidden": false
       }
      }
     }
    }
   },
   "outputs": [],
   "source": [
    "\n",
    "\n",
    "\n"
   ]
  }
 ],
 "metadata": {
  "extensions": {
   "jupyter_dashboards": {
    "activeView": "report_default",
    "version": 1,
    "views": {
     "grid_default": {
      "cellMargin": 10,
      "defaultCellHeight": 20,
      "maxColumns": 12,
      "name": "grid",
      "type": "grid"
     },
     "report_default": {
      "name": "report",
      "type": "report"
     }
    }
   }
  },
  "kernelspec": {
   "display_name": "Python 3",
   "language": "python",
   "name": "python3"
  },
  "language_info": {
   "codemirror_mode": {
    "name": "ipython",
    "version": 3
   },
   "file_extension": ".py",
   "mimetype": "text/x-python",
   "name": "python",
   "nbconvert_exporter": "python",
   "pygments_lexer": "ipython3",
   "version": "3.6.3"
  }
 },
 "nbformat": 4,
 "nbformat_minor": 2
}
