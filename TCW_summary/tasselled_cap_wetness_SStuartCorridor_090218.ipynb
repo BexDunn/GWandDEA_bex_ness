{
 "cells": [
  {
   "cell_type": "markdown",
   "metadata": {},
   "source": [
    "## Tasselled Cap Wetness transform to look at extent of 'wetness' in the Southern Stuart Corridor\n",
    "\n",
    "\n",
    "\n",
    "### Based on the Crist 1985 RF coefficients\n",
    "\n",
    "- be aware of terrain shadow on southwest facing slopes - can show up as 'wetness' - would use nbart but having some terrain masking issues today...\n",
    "\n",
    "\n",
    "### This is running it for all sensors - despite being the 1985 paper"
   ]
  },
  {
   "cell_type": "markdown",
   "metadata": {},
   "source": [
    "-------------------------------------------------------------------- \n",
    "The following sensors are available for the following time frames:\n",
    "* Landsat 5 - 1986 to April 1999  followed by a gap until May 2003 - November 2011 (data from 2009 onwards becomes less reliable in southern Australia)\n",
    "* Landsat 7 - April 1999 to present, however after May 2003 the scan line corrector (SLC) failed, \n",
    "so data are referred to as SLC-off, meaning they've got a venetian blinds appearance with wedges of missing data\n",
    "  * This data is not well suited for inclusion in composites, but is fine to use in time series analysis\n",
    "* Landsat 8 - April 2013 onwards\n",
    "---------------------------------------------------------------------"
   ]
  },
  {
   "cell_type": "markdown",
   "metadata": {
    "ExecuteTime": {
     "end_time": "2018-02-08T23:11:39.124969Z",
     "start_time": "2018-02-08T23:11:39.119569Z"
    }
   },
   "source": [
    "### import some modules"
   ]
  },
  {
   "cell_type": "code",
   "execution_count": 8,
   "metadata": {
    "ExecuteTime": {
     "end_time": "2018-02-09T04:46:06.097302Z",
     "start_time": "2018-02-09T04:46:06.038244Z"
    }
   },
   "outputs": [],
   "source": [
    "#for writing to error files:\n",
    "from __future__ import print_function\n",
    "#get some libraries\n",
    "import datacube\n",
    "import xarray as xr\n",
    "from datacube.storage import masking\n",
    "#from datacube.storage.masking import mask_to_dict #think this is obsolete\n",
    "import json\n",
    "import pandas as pd\n",
    "import shapely\n",
    "from shapely.geometry import shape\n",
    "import numpy as np #need this for pq fuser\n",
    "\n",
    "#libraries for polygon and polygon mask\n",
    "import fiona\n",
    "import shapely.geometry\n",
    "import rasterio.features\n",
    "import rasterio\n",
    "from datacube.utils import geometry\n",
    "from datacube.helpers import ga_pq_fuser\n",
    "from datacube.storage.masking import mask_invalid_data\n",
    "\n",
    "#use this to find the number of scenes available\n",
    "from datacube.model import Range\n",
    "\n",
    "#for writing to netcdf\n",
    "from datacube.storage.storage import write_dataset_to_netcdf\n",
    "#dealing with system commands\n",
    "import sys\n",
    "import os.path\n",
    "\n",
    "#####These not needed for raijin::::\n",
    "import matplotlib.pyplot as plt\n",
    "import matplotlib as mpl\n",
    "import matplotlib.pyplot as plt\n",
    "from matplotlib.pyplot import imshow\n",
    "\n",
    "#suppress warnings thrown when using inequalities in numpy (the threshold values!)\n",
    "import warnings\n",
    "\n",
    "#import module to work with rgb images\n",
    "from PIL import Image\n",
    "\n",
    "def eprint(*args, **kwargs):\n",
    "    print(*args, file=sys.stderr, **kwargs)\n",
    "        \n",
    "    "
   ]
  },
  {
   "cell_type": "code",
   "execution_count": 9,
   "metadata": {
    "ExecuteTime": {
     "end_time": "2018-02-09T04:46:07.103102Z",
     "start_time": "2018-02-09T04:46:07.024078Z"
    }
   },
   "outputs": [],
   "source": [
    "def load_nbart(sensor,query,bands_of_interest): \n",
    "    '''loads nbart data for a sensor, masks using pq, then filters out terrain -999s\n",
    "    function written by bex dunn 23-08-2017 based on dc v1.5.1'''  \n",
    "    dataset = []\n",
    "    product_name = '{}_{}_albers'.format(sensor, 'nbart')\n",
    "    print('loading {}'.format(product_name))\n",
    "    ds = dc.load(product=product_name, measurements=bands_of_interest,\n",
    "                 group_by='solar_day', **query)\n",
    "    #grab crs defs from loaded ds if ds exists\n",
    "    if ds:\n",
    "        crs = ds.crs\n",
    "        affine = ds.affine\n",
    "        print('loaded {}'.format(product_name))\n",
    "        mask_product = '{}_{}_albers'.format(sensor, 'pq')\n",
    "        sensor_pq = dc.load(product=mask_product, fuse_func=ga_pq_fuser,\n",
    "                            group_by='solar_day', **query)\n",
    "        if sensor_pq:\n",
    "            print('making mask {}'.format(mask_product))\n",
    "            cloud_free = masking.make_mask(sensor_pq.pixelquality,\n",
    "                                           cloud_acca='no_cloud',\n",
    "                                           cloud_shadow_acca = 'no_cloud_shadow',                           \n",
    "                                           cloud_shadow_fmask = 'no_cloud_shadow',\n",
    "                                           cloud_fmask='no_cloud',\n",
    "                                           blue_saturated = False,\n",
    "                                           green_saturated = False,\n",
    "                                           red_saturated = False,\n",
    "                                           nir_saturated = False,\n",
    "                                           swir1_saturated = False,\n",
    "                                           swir2_saturated = False,\n",
    "                                           contiguous=True)\n",
    "            ds = ds.where(cloud_free)\n",
    "            ds.attrs['crs'] = crs\n",
    "            ds.attrs['affine'] = affine\n",
    "            print('masked {} with {} and filtered terrain'.format(product_name,mask_product))\n",
    "            # nbarT is correctly used to correct terrain by replacing -999.0 with nan\n",
    "            ds=ds.where(ds!=-999.0)\n",
    "        else: \n",
    "            print('did not mask {} with {}'.format(product_name,mask_product))\n",
    "    else:\n",
    "        print ('did not load {}'.format(product_name)) \n",
    "\n",
    "    if len(ds)>0:\n",
    "        return ds\n",
    "    else:\n",
    "        return None"
   ]
  },
  {
   "cell_type": "code",
   "execution_count": 10,
   "metadata": {
    "ExecuteTime": {
     "end_time": "2018-02-09T04:46:07.393078Z",
     "start_time": "2018-02-09T04:46:07.321838Z"
    }
   },
   "outputs": [],
   "source": [
    "#calculating tasselled cap wetness\n",
    "def calc_wetness(sensor_data,sensor):\n",
    "    '''This function performs the tasselled cap transformation, multiplying band data by tasselled cap coefficients to \n",
    "    produce a \"wetness\" \"band\".\n",
    "    sensor_data is surface reflectance data loaded from the datacube\n",
    "    sensor = 'ls5, 'ls7' or 'ls8'\n",
    "    Coefficients are from Crist and Cicone 1985 \"A TM Tasseled Cap equivalent transformation for reflectance factor data\"\n",
    "    function written 23-08-2017 based on dc v1.5.1. updated 19-10-2017 bd'''\n",
    "\n",
    "    wetness_coeff = {'ls5':{'blue':0.0315, 'green':0.2021, 'red':0.3102, 'nir':0.1594, 'swir1':-0.6806, 'swir2':-0.6109},\n",
    "                    'ls7':{'blue':0.0315, 'green':0.2021, 'red':0.3102, 'nir':0.1594, 'swir1':-0.6806, 'swir2':-0.6109},\n",
    "                    'ls8':{'blue':0.0315, 'green':0.2021, 'red':0.3102, 'nir':0.1594, 'swir1':-0.6806, 'swir2':-0.6109}}\n",
    "    #if there is sensor data for the time period\n",
    "    if sensor_data is not None: \n",
    "         # make a deep copy of the sensor data\n",
    "        wbg = sensor_data.copy(deep=True)\n",
    "        #iterate over the spectral bands\n",
    "        for band_name in sensor_data.data_vars:\n",
    "            #multiply each band by the transform coefficient to get a band-specific value\n",
    "            wetness_band = sensor_data[band_name]*wetness_coeff[sensor][band_name]\n",
    "            #update the existing band data with the TC data\n",
    "            #by making new bands, called wet_green, bright_green etc.\n",
    "            wbg.update({'wet_'+band_name:(['time','y','x'],wetness_band)})\n",
    "            #then drop the original bands\n",
    "            wbg = wbg.drop({band_name})    \n",
    "        #sum the values for each band to get the tcw dim    \n",
    "        wbg['wetness']=wbg.wet_blue+wbg.wet_green+wbg.wet_red+wbg.wet_nir+wbg.wet_swir1+wbg.wet_swir2\n",
    "        bands_to_drop =[]\n",
    "        for new_band in wbg.data_vars:\n",
    "            bands_to_drop.append(new_band)            \n",
    "        bands_to_drop.remove('wetness')    \n",
    "        wbg = wbg.drop(bands_to_drop)\n",
    "        print('calculated wetness for {}'.format(sensor))\n",
    "        return wbg    \n",
    "    else:\n",
    "        print('did not calculate wetness for {}'.format(sensor))\n",
    "        return None            "
   ]
  },
  {
   "cell_type": "code",
   "execution_count": 11,
   "metadata": {
    "ExecuteTime": {
     "end_time": "2018-02-09T04:46:08.279806Z",
     "start_time": "2018-02-09T04:46:08.266685Z"
    }
   },
   "outputs": [],
   "source": [
    "def calc_wetveg_overthresh(wetness,threshold=-400):\n",
    "    '''Calculate the wetness values where wetness>threshold. Inputs are wetness array and threshold value, \n",
    "    default threshold is -400. Band for wetness>threshold is added to wetness. This is not the count.'''\n",
    "    if wetness is not None:\n",
    "        with warnings.catch_warnings():\n",
    "            #suppress irritating behaviour in xarray.where\n",
    "            warnings.simplefilter(\"ignore\")\n",
    "            #water_plus_wetveg is wetness values where wetness>threshold\n",
    "            wetness['water_plus_wetveg'] = wetness.wetness.where(wetness.wetness>threshold)\n",
    "            print('thresholded wetness added to array')\n",
    "            return wetness\n",
    "    else:\n",
    "        print('did not calculate wetness overthreshold' )\n",
    "        return None    "
   ]
  },
  {
   "cell_type": "code",
   "execution_count": 12,
   "metadata": {
    "ExecuteTime": {
     "end_time": "2018-02-09T04:46:08.557950Z",
     "start_time": "2018-02-09T04:46:08.537038Z"
    }
   },
   "outputs": [],
   "source": [
    "def count_wets(wetness):\n",
    "    '''count the number of wetness scenes for each pixel,\n",
    "    count the amount of times that water plus wet veg is above the threshold\n",
    "    load both into memory (this assumes you are using dask),\n",
    "    return a dictionary of wet count and threshold count'''\n",
    "    if wetness is not None:\n",
    "        #count the number of wetness scenes for each pixel\n",
    "        wet_count = wetness.wetness.count(dim='time')\n",
    "\n",
    "        #count the amount of times that water plus wet veg is above the threshold\n",
    "        threshold_count= wetness.water_plus_wetveg.count(dim='time')\n",
    "        \n",
    "        #bring both counts into memory\n",
    "        wet_count.load()\n",
    "        threshold_count.load()\n",
    "        \n",
    "        #define dictionary of wet count and threshold count\n",
    "        counts = {'wet count':wet_count, 'threshold count':threshold_count}\n",
    "        print('counted')\n",
    "        return counts\n",
    "    else:\n",
    "        print('did not count' )\n",
    "        return None    "
   ]
  },
  {
   "cell_type": "code",
   "execution_count": 13,
   "metadata": {
    "ExecuteTime": {
     "end_time": "2018-02-09T04:46:08.992699Z",
     "start_time": "2018-02-09T04:46:08.982940Z"
    }
   },
   "outputs": [],
   "source": [
    "def write_your_netcdf(data, dataset_name, filename,crs):\n",
    "    '''this function turns an xarray dataarray into a dataset so we can write it to netcdf. It adds on a crs definition\n",
    "    from the original array. data = your xarray dataset, dataset_name is a string describing your variable'''    \n",
    "    #turn array into dataset so we can write the netcdf\n",
    "    dataset= data.to_dataset(name=dataset_name)\n",
    "    #grab our crs attributes to write a spatially-referenced netcdf\n",
    "    dataset.attrs['crs'] = crs\n",
    "    #dataset.dataset_name.attrs['crs'] = crs\n",
    "    try:\n",
    "        write_dataset_to_netcdf(dataset, filename)\n",
    "    except RuntimeError as err:\n",
    "        print(\"RuntimeError: {0}\".format(err))        "
   ]
  },
  {
   "cell_type": "markdown",
   "metadata": {
    "ExecuteTime": {
     "end_time": "2018-02-08T23:15:48.553111Z",
     "start_time": "2018-02-08T23:15:48.549471Z"
    }
   },
   "source": [
    "## Mainline"
   ]
  },
  {
   "cell_type": "markdown",
   "metadata": {},
   "source": [
    "### move your output location"
   ]
  },
  {
   "cell_type": "code",
   "execution_count": 14,
   "metadata": {
    "ExecuteTime": {
     "end_time": "2018-02-09T04:46:11.009910Z",
     "start_time": "2018-02-09T04:46:11.006821Z"
    }
   },
   "outputs": [],
   "source": [
    "#save netcdf outputs to this folder:\n",
    "#netcdf_output_loc ='/g/data/r78/rjd547/groundwater_activities/Analysis/'\n",
    "netcdf_output_loc ='/g/data/r78/rjd547/groundwater_activities/Analysis/TCW_stats/'"
   ]
  },
  {
   "cell_type": "markdown",
   "metadata": {},
   "source": [
    "## set up your spatiotemporal query"
   ]
  },
  {
   "cell_type": "code",
   "execution_count": 15,
   "metadata": {
    "ExecuteTime": {
     "end_time": "2018-02-09T04:46:11.786446Z",
     "start_time": "2018-02-09T04:46:11.738455Z"
    }
   },
   "outputs": [],
   "source": [
    "#alias the datacube to something more wieldy and pass a string for reporting purposes\n",
    "dc = datacube.Datacube(app='dc-nbart-tct')"
   ]
  },
  {
   "cell_type": "code",
   "execution_count": 16,
   "metadata": {
    "ExecuteTime": {
     "end_time": "2018-02-09T04:46:12.059297Z",
     "start_time": "2018-02-09T04:46:12.056093Z"
    }
   },
   "outputs": [],
   "source": [
    "#pick a time range\n",
    "start_of_epoch = '2015-02-01'\n",
    "end_of_epoch =  '2015-02-16'"
   ]
  },
  {
   "cell_type": "code",
   "execution_count": 17,
   "metadata": {
    "ExecuteTime": {
     "end_time": "2018-02-09T04:46:12.431448Z",
     "start_time": "2018-02-09T04:46:12.424973Z"
    }
   },
   "outputs": [],
   "source": [
    "query = {\n",
    "    'time': (start_of_epoch, end_of_epoch)\n",
    "    #'dask_chunks': {'time': 5}\n",
    "}"
   ]
  },
  {
   "cell_type": "code",
   "execution_count": 18,
   "metadata": {
    "ExecuteTime": {
     "end_time": "2018-02-09T04:46:12.726978Z",
     "start_time": "2018-02-09T04:46:12.722038Z"
    }
   },
   "outputs": [],
   "source": [
    "#Define wavelengths/bands of interest, remove this kwarg to retrieve all bands\n",
    "bands_of_interest = ['blue',\n",
    "                     'green',\n",
    "                     'red',\n",
    "                     'nir',\n",
    "                     'swir1',\n",
    "                     'swir2'\n",
    "                     ]"
   ]
  },
  {
   "cell_type": "code",
   "execution_count": 19,
   "metadata": {
    "ExecuteTime": {
     "end_time": "2018-02-09T04:46:13.133651Z",
     "start_time": "2018-02-09T04:46:13.127076Z"
    }
   },
   "outputs": [],
   "source": [
    "#If not using a polygon/polyline, enter lat/lon here manually\n",
    "lat_max = -19.18\n",
    "lat_min = -20.35\n",
    "lon_max = 134.34\n",
    "lon_min = 133.41     \n",
    "query['long'] = (lon_min, lon_max)\n",
    "query['lat'] = (lat_min, lat_max)\n",
    "query['crs'] = 'EPSG:4326'"
   ]
  },
  {
   "cell_type": "code",
   "execution_count": 20,
   "metadata": {
    "ExecuteTime": {
     "end_time": "2018-02-09T04:46:14.152195Z",
     "start_time": "2018-02-09T04:46:14.148824Z"
    }
   },
   "outputs": [
    {
     "name": "stdout",
     "output_type": "stream",
     "text": [
      "{'time': ('2015-02-01', '2015-02-16'), 'long': (133.41, 134.34), 'lat': (-20.35, -19.18), 'crs': 'EPSG:4326'}\n"
     ]
    }
   ],
   "source": [
    "print(query)"
   ]
  },
  {
   "cell_type": "code",
   "execution_count": 21,
   "metadata": {
    "ExecuteTime": {
     "end_time": "2018-02-09T04:46:14.497853Z",
     "start_time": "2018-02-09T04:46:14.495380Z"
    }
   },
   "outputs": [],
   "source": [
    "### check what datasets are available for your query:"
   ]
  },
  {
   "cell_type": "code",
   "execution_count": 22,
   "metadata": {
    "ExecuteTime": {
     "end_time": "2018-02-09T04:46:14.853988Z",
     "start_time": "2018-02-09T04:46:14.849695Z"
    }
   },
   "outputs": [],
   "source": [
    "# from datacube.model import Range\n",
    "# query = datacube.api.query.Query(product={some_product}, time=Range(datetime(2015, 01, 01), datetime(2015, 01, 12)), longitude=(133.41, 134.34), latitude=(-19.18, -20.35))\n",
    "# data = dc.index.datasets.search_eager(**query.search_terms)"
   ]
  },
  {
   "cell_type": "code",
   "execution_count": 23,
   "metadata": {
    "ExecuteTime": {
     "end_time": "2018-02-09T04:46:15.218830Z",
     "start_time": "2018-02-09T04:46:15.216215Z"
    }
   },
   "outputs": [],
   "source": [
    "# datacube.Datacube.find_datasets()"
   ]
  },
  {
   "cell_type": "code",
   "execution_count": 24,
   "metadata": {
    "ExecuteTime": {
     "end_time": "2018-02-09T04:46:16.498090Z",
     "start_time": "2018-02-09T04:46:16.495730Z"
    }
   },
   "outputs": [],
   "source": [
    "#dc.index.datasets.search_eager(query)"
   ]
  },
  {
   "cell_type": "markdown",
   "metadata": {},
   "source": [
    "## load your data by sensor"
   ]
  },
  {
   "cell_type": "code",
   "execution_count": 25,
   "metadata": {
    "ExecuteTime": {
     "end_time": "2018-02-09T04:46:17.210767Z",
     "start_time": "2018-02-09T04:46:17.207620Z"
    },
    "scrolled": false
   },
   "outputs": [],
   "source": [
    "# #this is done separately instead of in a loop because the datasets can be quite large.\n",
    "# #currently this is a way of memory handling -there is probably a better way of doing it.\n",
    "# #sensor1_nbart=load_nbart('ls5',query,bands_of_interest)\n",
    "# #sensor2_nbart=load_nbart('ls7',query,bands_of_interest)\n",
    "# sensor3_nbart=load_nbart('ls8',query,bands_of_interest)"
   ]
  },
  {
   "cell_type": "code",
   "execution_count": 26,
   "metadata": {
    "ExecuteTime": {
     "end_time": "2018-02-09T04:46:56.115251Z",
     "start_time": "2018-02-09T04:46:18.559678Z"
    }
   },
   "outputs": [],
   "source": [
    "ds = dc.load(product='ls8_nbar_albers', measurements=bands_of_interest,\n",
    "                 group_by='solar_day', **query)"
   ]
  },
  {
   "cell_type": "code",
   "execution_count": 27,
   "metadata": {
    "ExecuteTime": {
     "end_time": "2018-02-09T04:46:56.121373Z",
     "start_time": "2018-02-09T04:46:56.117228Z"
    }
   },
   "outputs": [
    {
     "name": "stdout",
     "output_type": "stream",
     "text": [
      "{'time': ('2015-02-01', '2015-02-16'), 'long': (133.41, 134.34), 'lat': (-20.35, -19.18), 'crs': 'EPSG:4326'}\n"
     ]
    }
   ],
   "source": [
    "print(query)"
   ]
  },
  {
   "cell_type": "markdown",
   "metadata": {},
   "source": [
    "### check how many scenes we have for each sensor"
   ]
  },
  {
   "cell_type": "code",
   "execution_count": 28,
   "metadata": {
    "ExecuteTime": {
     "end_time": "2018-02-09T04:46:56.150918Z",
     "start_time": "2018-02-09T04:46:56.123481Z"
    }
   },
   "outputs": [
    {
     "data": {
      "text/plain": [
       "2"
      ]
     },
     "execution_count": 28,
     "metadata": {},
     "output_type": "execute_result"
    }
   ],
   "source": [
    "len(ds.time)"
   ]
  },
  {
   "cell_type": "code",
   "execution_count": 29,
   "metadata": {
    "ExecuteTime": {
     "end_time": "2018-02-09T04:46:57.582848Z",
     "start_time": "2018-02-09T04:46:56.152824Z"
    }
   },
   "outputs": [
    {
     "ename": "NameError",
     "evalue": "name 'sensor3_nbart' is not defined",
     "output_type": "error",
     "traceback": [
      "\u001b[0;31m---------------------------------------------------------------------------\u001b[0m",
      "\u001b[0;31mNameError\u001b[0m                                 Traceback (most recent call last)",
      "\u001b[0;32m<ipython-input-29-d4e9848a1754>\u001b[0m in \u001b[0;36m<module>\u001b[0;34m()\u001b[0m\n\u001b[0;32m----> 1\u001b[0;31m \u001b[0mlen\u001b[0m\u001b[0;34m(\u001b[0m\u001b[0msensor3_nbart\u001b[0m\u001b[0;34m.\u001b[0m\u001b[0mtime\u001b[0m\u001b[0;34m)\u001b[0m\u001b[0;34m\u001b[0m\u001b[0m\n\u001b[0m",
      "\u001b[0;31mNameError\u001b[0m: name 'sensor3_nbart' is not defined"
     ]
    }
   ],
   "source": [
    "len(sensor3_nbart.time)"
   ]
  },
  {
   "cell_type": "code",
   "execution_count": 30,
   "metadata": {
    "ExecuteTime": {
     "end_time": "2018-02-09T05:01:37.858488Z",
     "start_time": "2018-02-09T05:01:37.841393Z"
    }
   },
   "outputs": [
    {
     "data": {
      "text/plain": [
       "<xarray.DataArray 'blue' (y: 5259, x: 3960)>\n",
       "array([[ 520,  524,  520, ...,  498,  489,  463],\n",
       "       [ 519,  527,  527, ...,  473,  436,  407],\n",
       "       [ 517,  519,  522, ...,  432,  383,  370],\n",
       "       ..., \n",
       "       [ 454,  468,  464, ..., -999, -999, -999],\n",
       "       [ 451,  460,  451, ..., -999, -999, -999],\n",
       "       [ 456,  460,  450, ..., -999, -999, -999]], dtype=int16)\n",
       "Coordinates:\n",
       "    time     datetime64[ns] 2015-02-15T01:06:03\n",
       "  * y        (y) float64 -2.054e+06 -2.054e+06 -2.054e+06 -2.054e+06 ...\n",
       "  * x        (x) float64 1.464e+05 1.465e+05 1.465e+05 1.465e+05 1.465e+05 ...\n",
       "Attributes:\n",
       "    nodata:               -999\n",
       "    units:                1\n",
       "    crs:                  EPSG:3577\n",
       "    spectral_definition:  {'response': [1e-05, 6.1e-05, 0.000117, 0.000241, 0..."
      ]
     },
     "execution_count": 30,
     "metadata": {},
     "output_type": "execute_result"
    }
   ],
   "source": [
    "ds.blue.isel(time=1)"
   ]
  },
  {
   "cell_type": "code",
   "execution_count": null,
   "metadata": {
    "ExecuteTime": {
     "end_time": "2018-02-09T04:46:57.585328Z",
     "start_time": "2018-02-09T04:46:20.815Z"
    }
   },
   "outputs": [],
   "source": [
    "imshow(ds.isel(time=1).nir.values)\n",
    "plt.colorbar()\n",
    "plt.show()"
   ]
  },
  {
   "cell_type": "code",
   "execution_count": null,
   "metadata": {},
   "outputs": [],
   "source": []
  },
  {
   "cell_type": "code",
   "execution_count": null,
   "metadata": {
    "ExecuteTime": {
     "end_time": "2018-02-09T04:46:57.586572Z",
     "start_time": "2018-02-09T04:46:22.814Z"
    }
   },
   "outputs": [],
   "source": [
    "plt.clf()\n",
    "ds.red.plot(col ='time')\n",
    "plt.show()"
   ]
  },
  {
   "cell_type": "code",
   "execution_count": 31,
   "metadata": {
    "ExecuteTime": {
     "end_time": "2018-02-09T05:01:46.244246Z",
     "start_time": "2018-02-09T05:01:45.169424Z"
    }
   },
   "outputs": [],
   "source": [
    "sensor3_nbart = ds.where(ds!=-999.0)"
   ]
  },
  {
   "cell_type": "code",
   "execution_count": 32,
   "metadata": {
    "ExecuteTime": {
     "end_time": "2018-02-09T05:01:46.264313Z",
     "start_time": "2018-02-09T05:01:46.246373Z"
    }
   },
   "outputs": [
    {
     "data": {
      "text/plain": [
       "<xarray.Dataset>\n",
       "Dimensions:  (x: 3960, y: 5259)\n",
       "Coordinates:\n",
       "    time     datetime64[ns] 2015-02-15T01:06:03\n",
       "  * y        (y) float64 -2.054e+06 -2.054e+06 -2.054e+06 -2.054e+06 ...\n",
       "  * x        (x) float64 1.464e+05 1.465e+05 1.465e+05 1.465e+05 1.465e+05 ...\n",
       "Data variables:\n",
       "    blue     (y, x) float64 520.0 524.0 520.0 529.0 531.0 531.0 535.0 538.0 ...\n",
       "    green    (y, x) float64 953.0 953.0 957.0 962.0 964.0 958.0 968.0 957.0 ...\n",
       "    red      (y, x) float64 1.704e+03 1.717e+03 1.716e+03 1.721e+03 ...\n",
       "    nir      (y, x) float64 3e+03 3.002e+03 3.026e+03 3.055e+03 3.035e+03 ...\n",
       "    swir1    (y, x) float64 3.428e+03 3.426e+03 3.407e+03 3.403e+03 3.41e+03 ...\n",
       "    swir2    (y, x) float64 3.027e+03 3.047e+03 3.011e+03 2.986e+03 ...\n",
       "Attributes:\n",
       "    crs:      EPSG:3577"
      ]
     },
     "execution_count": 32,
     "metadata": {},
     "output_type": "execute_result"
    }
   ],
   "source": [
    "sensor3_nbart.isel(time=1) "
   ]
  },
  {
   "cell_type": "code",
   "execution_count": null,
   "metadata": {
    "ExecuteTime": {
     "end_time": "2018-02-09T04:46:57.590035Z",
     "start_time": "2018-02-09T04:46:25.195Z"
    }
   },
   "outputs": [],
   "source": [
    "plt.clf()\n",
    "sensor3_nbart.red.plot(col ='time')\n",
    "plt.show()"
   ]
  },
  {
   "cell_type": "code",
   "execution_count": 34,
   "metadata": {
    "ExecuteTime": {
     "end_time": "2018-02-09T05:01:55.408465Z",
     "start_time": "2018-02-09T05:01:53.321910Z"
    }
   },
   "outputs": [
    {
     "name": "stdout",
     "output_type": "stream",
     "text": [
      "calculated wetness for ls8\n"
     ]
    }
   ],
   "source": [
    "#run the tcw transform on the surface reflectance data\n",
    "#wetness_sensor1_nbart=calc_wetness(sensor1_nbart,'ls5')\n",
    "#wetness_sensor2_nbart=calc_wetness(sensor2_nbart,'ls7')\n",
    "wetness_sensor3_nbart=calc_wetness(sensor3_nbart,'ls8')"
   ]
  },
  {
   "cell_type": "markdown",
   "metadata": {
    "ExecuteTime": {
     "end_time": "2018-02-08T23:50:18.903214Z",
     "start_time": "2018-02-08T23:47:58.184Z"
    }
   },
   "source": [
    "### Calculate wetness over the threshold for each timeslice (remove values under the threshold)"
   ]
  },
  {
   "cell_type": "code",
   "execution_count": 35,
   "metadata": {
    "ExecuteTime": {
     "end_time": "2018-02-09T05:01:57.418058Z",
     "start_time": "2018-02-09T05:01:57.403684Z"
    }
   },
   "outputs": [
    {
     "data": {
      "text/plain": [
       "<xarray.Dataset>\n",
       "Dimensions:  (x: 3960, y: 5259)\n",
       "Coordinates:\n",
       "    time     datetime64[ns] 2015-02-15T01:06:03\n",
       "  * y        (y) float64 -2.054e+06 -2.054e+06 -2.054e+06 -2.054e+06 ...\n",
       "  * x        (x) float64 1.464e+05 1.465e+05 1.465e+05 1.465e+05 1.465e+05 ...\n",
       "Data variables:\n",
       "    wetness  (y, x) float64 -2.967e+03 -2.973e+03 -2.934e+03 -2.908e+03 ...\n",
       "Attributes:\n",
       "    crs:      EPSG:3577"
      ]
     },
     "execution_count": 35,
     "metadata": {},
     "output_type": "execute_result"
    }
   ],
   "source": [
    "wetness_sensor3_nbart.isel(time=1)"
   ]
  },
  {
   "cell_type": "code",
   "execution_count": null,
   "metadata": {},
   "outputs": [],
   "source": []
  },
  {
   "cell_type": "code",
   "execution_count": 36,
   "metadata": {
    "ExecuteTime": {
     "end_time": "2018-02-09T05:01:59.664859Z",
     "start_time": "2018-02-09T05:01:59.501992Z"
    }
   },
   "outputs": [
    {
     "name": "stdout",
     "output_type": "stream",
     "text": [
      "thresholded wetness added to array\n"
     ]
    }
   ],
   "source": [
    "#water_plus_wetveg_1 =calc_wetveg_overthresh(wetness_sensor1_nbart)\n",
    "#water_plus_wetveg_2 =calc_wetveg_overthresh(wetness_sensor2_nbart)\n",
    "water_plus_wetveg_3 =calc_wetveg_overthresh(wetness_sensor3_nbart)"
   ]
  },
  {
   "cell_type": "code",
   "execution_count": 37,
   "metadata": {
    "ExecuteTime": {
     "end_time": "2018-02-09T05:02:00.668804Z",
     "start_time": "2018-02-09T05:02:00.651647Z"
    }
   },
   "outputs": [
    {
     "data": {
      "text/plain": [
       "<xarray.Dataset>\n",
       "Dimensions:            (time: 2, x: 3960, y: 5259)\n",
       "Coordinates:\n",
       "  * time               (time) datetime64[ns] 2015-02-08T00:59:57.500000 ...\n",
       "  * y                  (y) float64 -2.054e+06 -2.054e+06 -2.054e+06 ...\n",
       "  * x                  (x) float64 1.464e+05 1.465e+05 1.465e+05 1.465e+05 ...\n",
       "Data variables:\n",
       "    wetness            (time, y, x) float64 nan nan nan nan nan nan nan nan ...\n",
       "    water_plus_wetveg  (time, y, x) float64 nan nan nan nan nan nan nan nan ...\n",
       "Attributes:\n",
       "    crs:      EPSG:3577"
      ]
     },
     "execution_count": 37,
     "metadata": {},
     "output_type": "execute_result"
    }
   ],
   "source": [
    "water_plus_wetveg_3"
   ]
  },
  {
   "cell_type": "markdown",
   "metadata": {},
   "source": [
    "### count number of wetness scenes and number of times tcw above threshold for each pixel"
   ]
  },
  {
   "cell_type": "code",
   "execution_count": 38,
   "metadata": {
    "ExecuteTime": {
     "end_time": "2018-02-09T05:02:02.412113Z",
     "start_time": "2018-02-09T05:02:02.123159Z"
    }
   },
   "outputs": [
    {
     "name": "stdout",
     "output_type": "stream",
     "text": [
      "counted\n"
     ]
    }
   ],
   "source": [
    "#counts_sensor_1_nbart = count_wets(wetness_sensor1_nbart)\n",
    "#counts_sensor_2_nbart = count_wets(wetness_sensor2_nbart)\n",
    "counts_sensor_3_nbart = count_wets(wetness_sensor3_nbart)"
   ]
  },
  {
   "cell_type": "markdown",
   "metadata": {},
   "source": [
    "### divide the number of times wetness is seen per pixel by the number of wetness scenes per pixel to get a proportion of time that the pixel is wet"
   ]
  },
  {
   "cell_type": "code",
   "execution_count": 39,
   "metadata": {
    "ExecuteTime": {
     "end_time": "2018-02-09T05:02:02.576033Z",
     "start_time": "2018-02-09T05:02:02.565554Z"
    }
   },
   "outputs": [
    {
     "data": {
      "text/plain": [
       "{'threshold count': <xarray.DataArray 'water_plus_wetveg' (y: 5259, x: 3960)>\n",
       " array([[0, 0, 0, ..., 0, 0, 0],\n",
       "        [0, 0, 0, ..., 0, 0, 0],\n",
       "        [0, 0, 0, ..., 0, 0, 0],\n",
       "        ..., \n",
       "        [0, 0, 0, ..., 0, 0, 0],\n",
       "        [0, 0, 0, ..., 0, 0, 0],\n",
       "        [0, 0, 0, ..., 0, 0, 0]])\n",
       " Coordinates:\n",
       "   * y        (y) float64 -2.054e+06 -2.054e+06 -2.054e+06 -2.054e+06 ...\n",
       "   * x        (x) float64 1.464e+05 1.465e+05 1.465e+05 1.465e+05 1.465e+05 ...,\n",
       " 'wet count': <xarray.DataArray 'wetness' (y: 5259, x: 3960)>\n",
       " array([[1, 1, 1, ..., 2, 2, 2],\n",
       "        [1, 1, 1, ..., 2, 2, 2],\n",
       "        [1, 1, 1, ..., 2, 2, 2],\n",
       "        ..., \n",
       "        [1, 1, 1, ..., 1, 1, 1],\n",
       "        [1, 1, 1, ..., 1, 1, 1],\n",
       "        [1, 1, 1, ..., 1, 1, 1]])\n",
       " Coordinates:\n",
       "   * y        (y) float64 -2.054e+06 -2.054e+06 -2.054e+06 -2.054e+06 ...\n",
       "   * x        (x) float64 1.464e+05 1.465e+05 1.465e+05 1.465e+05 1.465e+05 ...}"
      ]
     },
     "execution_count": 39,
     "metadata": {},
     "output_type": "execute_result"
    }
   ],
   "source": [
    "counts_sensor_3_nbart"
   ]
  },
  {
   "cell_type": "code",
   "execution_count": 40,
   "metadata": {
    "ExecuteTime": {
     "end_time": "2018-02-09T05:02:02.899886Z",
     "start_time": "2018-02-09T05:02:02.772521Z"
    }
   },
   "outputs": [],
   "source": [
    "wet_proportion_allsensors = counts_sensor_3_nbart['threshold count']/counts_sensor_3_nbart['wet count']"
   ]
  },
  {
   "cell_type": "code",
   "execution_count": null,
   "metadata": {
    "ExecuteTime": {
     "end_time": "2018-02-09T00:40:23.766553Z",
     "start_time": "2018-02-09T00:40:23.762975Z"
    }
   },
   "outputs": [],
   "source": []
  },
  {
   "cell_type": "code",
   "execution_count": 41,
   "metadata": {
    "ExecuteTime": {
     "end_time": "2018-02-09T05:02:04.978943Z",
     "start_time": "2018-02-09T05:02:04.270204Z"
    }
   },
   "outputs": [
    {
     "data": {
      "image/png": "[encoded data removed]",
      "text/plain": [
       "<matplotlib.figure.Figure at 0x7fde80c30c88>"
      ]
     },
     "metadata": {},
     "output_type": "display_data"
    }
   ],
   "source": [
    "imshow(wet_proportion_allsensors.values)\n",
    "plt.show()"
   ]
  },
  {
   "cell_type": "code",
   "execution_count": 42,
   "metadata": {
    "ExecuteTime": {
     "end_time": "2018-02-09T05:02:04.990002Z",
     "start_time": "2018-02-09T05:02:04.981190Z"
    }
   },
   "outputs": [
    {
     "ename": "SyntaxError",
     "evalue": "invalid syntax (<ipython-input-42-caf55a0bb0d8>, line 1)",
     "output_type": "error",
     "traceback": [
      "\u001b[0;36m  File \u001b[0;32m\"<ipython-input-42-caf55a0bb0d8>\"\u001b[0;36m, line \u001b[0;32m1\u001b[0m\n\u001b[0;31m    wet_proportion_allsensors.()\u001b[0m\n\u001b[0m                              ^\u001b[0m\n\u001b[0;31mSyntaxError\u001b[0m\u001b[0;31m:\u001b[0m invalid syntax\n"
     ]
    }
   ],
   "source": [
    "wet_proportion_allsensors.()\n",
    "plt.show()"
   ]
  },
  {
   "cell_type": "code",
   "execution_count": null,
   "metadata": {
    "ExecuteTime": {
     "end_time": "2018-02-09T05:02:04.990789Z",
     "start_time": "2018-02-09T05:02:04.849Z"
    }
   },
   "outputs": [],
   "source": [
    "## grab the crs for the netdcf output "
   ]
  },
  {
   "cell_type": "code",
   "execution_count": 43,
   "metadata": {
    "ExecuteTime": {
     "end_time": "2018-02-09T05:02:06.329666Z",
     "start_time": "2018-02-09T05:02:06.322160Z"
    }
   },
   "outputs": [],
   "source": [
    "crs = ds.crs"
   ]
  },
  {
   "cell_type": "code",
   "execution_count": 44,
   "metadata": {
    "ExecuteTime": {
     "end_time": "2018-02-09T05:02:08.054259Z",
     "start_time": "2018-02-09T05:02:08.045713Z"
    }
   },
   "outputs": [],
   "source": [
    "# if wetness_sensor1_nbart is not None:\n",
    "#     crs = wetness_sensor1_nbart.crs\n",
    "# else:\n",
    "#     if wetness_sensor2_nbart is not None:\n",
    "#         crs = wetness_sensor2_nbart.crs\n",
    "#     else: \n",
    "#         crs = wetness_sensor3_nbart.crs\n",
    "# print(crs)   "
   ]
  },
  {
   "cell_type": "code",
   "execution_count": 45,
   "metadata": {
    "ExecuteTime": {
     "end_time": "2018-02-09T05:02:08.482331Z",
     "start_time": "2018-02-09T05:02:08.346621Z"
    }
   },
   "outputs": [
    {
     "name": "stdout",
     "output_type": "stream",
     "text": [
      "/g/data1/r78/rjd547/jupyter_notebooks/GWandDEA_bex_ness/TCW_summary\r\n"
     ]
    }
   ],
   "source": [
    "!pwd"
   ]
  },
  {
   "cell_type": "code",
   "execution_count": 46,
   "metadata": {
    "ExecuteTime": {
     "end_time": "2018-02-09T05:02:10.391618Z",
     "start_time": "2018-02-09T05:02:09.159338Z"
    }
   },
   "outputs": [],
   "source": [
    "write_your_netcdf(wet_proportion_allsensors,'tcw',filename='testwet1.nc', crs=crs)"
   ]
  },
  {
   "cell_type": "code",
   "execution_count": 47,
   "metadata": {
    "ExecuteTime": {
     "end_time": "2018-02-09T05:02:10.413791Z",
     "start_time": "2018-02-09T05:02:10.393571Z"
    }
   },
   "outputs": [
    {
     "ename": "NameError",
     "evalue": "name 'shape_name' is not defined",
     "output_type": "error",
     "traceback": [
      "\u001b[0;31m---------------------------------------------------------------------------\u001b[0m",
      "\u001b[0;31mNameError\u001b[0m                                 Traceback (most recent call last)",
      "\u001b[0;32m<ipython-input-47-0ff3f474eb05>\u001b[0m in \u001b[0;36m<module>\u001b[0;34m()\u001b[0m\n\u001b[0;32m----> 1\u001b[0;31m \u001b[0mprint\u001b[0m\u001b[0;34m(\u001b[0m\u001b[0;34m'successfully wrote tcw netcdf for '\u001b[0m\u001b[0;34m+\u001b[0m\u001b[0mshape_name\u001b[0m\u001b[0;34m+\u001b[0m\u001b[0;34m' polygon number '\u001b[0m\u001b[0;34m+\u001b[0m\u001b[0mstr\u001b[0m\u001b[0;34m(\u001b[0m\u001b[0mi\u001b[0m\u001b[0;34m)\u001b[0m\u001b[0;34m)\u001b[0m\u001b[0;34m\u001b[0m\u001b[0m\n\u001b[0m\u001b[1;32m      2\u001b[0m \u001b[0meprint\u001b[0m\u001b[0;34m(\u001b[0m\u001b[0;34m'successfully wrote tcw netcdf for for '\u001b[0m\u001b[0;34m+\u001b[0m\u001b[0mshape_name\u001b[0m\u001b[0;34m+\u001b[0m\u001b[0;34m' polygon number '\u001b[0m\u001b[0;34m+\u001b[0m\u001b[0mstr\u001b[0m\u001b[0;34m(\u001b[0m\u001b[0mi\u001b[0m\u001b[0;34m)\u001b[0m\u001b[0;34m)\u001b[0m\u001b[0;34m\u001b[0m\u001b[0m\n",
      "\u001b[0;31mNameError\u001b[0m: name 'shape_name' is not defined"
     ]
    }
   ],
   "source": [
    "print('successfully wrote tcw netcdf for '+shape_name+' polygon number '+str(i))\n",
    "eprint('successfully wrote tcw netcdf for for '+shape_name+' polygon number '+str(i))"
   ]
  },
  {
   "cell_type": "code",
   "execution_count": null,
   "metadata": {
    "ExecuteTime": {
     "end_time": "2018-02-09T04:46:57.608853Z",
     "start_time": "2018-02-09T04:46:33.880Z"
    }
   },
   "outputs": [],
   "source": [
    "#clear_observations is count of wetness scenes at pixel\n",
    "write_your_netcdf(wet_count_allsensors,'clearobs',filename=netcdf_output_loc+shape_name+'_clearobs.nc',crs=crs)\n",
    "print('successfully wrote clearobs netCDF for '+shape_name+' polygon number '+str(i))\n",
    "eprint('successfully wrote clearobs netCDFfor '+shape_name+' polygon number '+str(i))"
   ]
  },
  {
   "cell_type": "code",
   "execution_count": 48,
   "metadata": {
    "ExecuteTime": {
     "end_time": "2018-02-09T05:02:21.948700Z",
     "start_time": "2018-02-09T05:02:19.405593Z"
    }
   },
   "outputs": [
    {
     "name": "stdout",
     "output_type": "stream",
     "text": [
      "Creating output file that is 3960P x 5259L.\n",
      "Processing input file testwet1.nc.\n",
      "Using internal nodata values (e.g. 9.96921e+36) for image testwet1.nc.\n",
      "Copying nodata values from source testwet1.nc to destination testwet1.tif.\n",
      "0...10...20...30...40...50...60...70...80...90...100 - done.\n"
     ]
    }
   ],
   "source": [
    "!gdalwarp -of GTiff testwet1.nc testwet1.tif"
   ]
  },
  {
   "cell_type": "code",
   "execution_count": 49,
   "metadata": {
    "ExecuteTime": {
     "end_time": "2018-02-09T05:02:24.625332Z",
     "start_time": "2018-02-09T05:02:24.494723Z"
    }
   },
   "outputs": [
    {
     "name": "stdout",
     "output_type": "stream",
     "text": [
      "tasselled_cap_wetness_SStuartCorridor_090218.ipynb  testwet1.nc\r\n",
      "TCW_Summary_Clean_011117.ipynb\t\t\t    testwet1.tif\r\n",
      "TCW_Summary_Clean_Dale_Coeffs _061117.ipynb\r\n"
     ]
    }
   ],
   "source": [
    "!ls\n"
   ]
  },
  {
   "cell_type": "code",
   "execution_count": null,
   "metadata": {},
   "outputs": [],
   "source": []
  }
 ],
 "metadata": {
  "kernelspec": {
   "display_name": "Python 3",
   "language": "python",
   "name": "python3"
  },
  "language_info": {
   "codemirror_mode": {
    "name": "ipython",
    "version": 3
   },
   "file_extension": ".py",
   "mimetype": "text/x-python",
   "name": "python",
   "nbconvert_exporter": "python",
   "pygments_lexer": "ipython3",
   "version": "3.6.3"
  },
  "latex_envs": {
   "LaTeX_envs_menu_present": true,
   "autocomplete": true,
   "bibliofile": "biblio.bib",
   "cite_by": "apalike",
   "current_citInitial": 1,
   "eqLabelWithNumbers": true,
   "eqNumInitial": 1,
   "hotkeys": {
    "equation": "Ctrl-E",
    "itemize": "Ctrl-I"
   },
   "labels_anchors": false,
   "latex_user_defs": false,
   "report_style_numbering": false,
   "user_envs_cfg": false
  },
  "toc": {
   "nav_menu": {},
   "number_sections": true,
   "sideBar": true,
   "skip_h1_title": false,
   "toc_cell": false,
   "toc_position": {
    "height": "543px",
    "left": "0px",
    "right": "946.667px",
    "top": "111px",
    "width": "212px"
   },
   "toc_section_display": "block",
   "toc_window_display": true
  }
 },
 "nbformat": 4,
 "nbformat_minor": 2
}
